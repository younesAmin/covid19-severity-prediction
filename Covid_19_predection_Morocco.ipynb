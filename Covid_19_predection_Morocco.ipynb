{
  "nbformat": 4,
  "nbformat_minor": 0,
  "metadata": {
    "colab": {
      "name": "Covid_19_predection_Morocco.ipynb",
      "provenance": [],
      "collapsed_sections": [],
      "include_colab_link": true
    },
    "kernelspec": {
      "display_name": "Python 3",
      "language": "python",
      "name": "python3"
    },
    "language_info": {
      "codemirror_mode": {
        "name": "ipython",
        "version": 3
      },
      "file_extension": ".py",
      "mimetype": "text/x-python",
      "name": "python",
      "nbconvert_exporter": "python",
      "pygments_lexer": "ipython3",
      "version": "3.7.6"
    }
  },
  "cells": [
    {
      "cell_type": "markdown",
      "metadata": {
        "id": "view-in-github",
        "colab_type": "text"
      },
      "source": [
        "<a href=\"https://colab.research.google.com/github/younesAmin/covid19-severity-prediction/blob/master/Covid_19_predection_Morocco.ipynb\" target=\"_parent\"><img src=\"https://colab.research.google.com/assets/colab-badge.svg\" alt=\"Open In Colab\"/></a>"
      ]
    },
    {
      "cell_type": "markdown",
      "metadata": {
        "colab_type": "text",
        "id": "8-OEAlC631A7"
      },
      "source": [
        "![alt text](http://www.inpt.ac.ma/sites/default/files/logo.png)"
      ]
    },
    {
      "cell_type": "markdown",
      "metadata": {
        "colab_type": "text",
        "id": "RcXUkFJ671TN"
      },
      "source": [
        "\n",
        "\n",
        "<div >\n",
        "    <div style = \"background-color: #50a6e1; padding:25px;\">  \n",
        "    <h1 ><center>Pattern\trecognition\t&\tMachine\tLearning</center></h1>\n",
        "    <h2><center>Exercice: Web Scraping with Requests and Beautiful Soup</center></h2>\n",
        "    <h2><center>SUD Cloud & IoT</center></h2>\n",
        "    <blockquote><h1>LOUTFI YOUNES AMINE</h1></blockquote>\n",
        "    <h3>Encadre par:</h3>\n",
        "    <blockquote><h1>Mme.El asri Ikram</h1></blockquote>\n",
        "    </div>\n",
        "</div>\n",
        "\n"
      ]
    },
    {
      "cell_type": "markdown",
      "metadata": {
        "colab_type": "text",
        "id": "-LUXtyLu3hei"
      },
      "source": [
        "<div style = \"background-color: #a8bfd0; padding:25px;\">\n",
        "<div id=\"content\"><h3>Content table:</h3></div>\n",
        "\n",
        "<h1><a href=\"#one\">1. Exploring data </a></h1>\n",
        "    \n",
        "><h3><a href=\"#one1\">   1.1 Importing libraries & data </a></h3>\n",
        "><h3><a href=\"#one2\">   1.2 Visualize data </a></h3>\n",
        "><h3><a href=\"#one3\">   1.3 Graphs data </a></h3>\n",
        "\n",
        "\n",
        "<h1><a href=\"#two\">2. Predecting data </a></h1>\n",
        "    \n",
        "><h3><a href=\"#two1\">   2.1  Predecting the trend of confirmed cases in the next 10 Days </a></h3>\n",
        "><h3><a href=\"#two2\">   2.2  Predicting the new daily cases </a></h3>\n",
        "><h3><a href=\"#two3\">   2.3  Predicting the total deaths </a></h3>\n",
        "\n",
        "<h1><a href=\"#clc\">3. Conclusion  </a></h1>\n",
        "</div>\n",
        "\n",
        "\n"
      ]
    },
    {
      "cell_type": "markdown",
      "metadata": {
        "id": "jfpwfCO0ERUl",
        "colab_type": "text"
      },
      "source": [
        "<div id=\"one\"><h1>1  Exploring data</h1></div>\n",
        "<h4><a href=\"#content\">reture to content table </a></h4>"
      ]
    },
    {
      "cell_type": "markdown",
      "metadata": {
        "id": "T1M4u7qdERUn",
        "colab_type": "text"
      },
      "source": [
        "<div id=\"one1\"><h2>1.1  Importing libraries & data</h2></div>\n",
        "<h4><a href=\"#content\">reture to content table </a></h4>"
      ]
    },
    {
      "cell_type": "markdown",
      "metadata": {
        "id": "ckW6sgQQERUp",
        "colab_type": "text"
      },
      "source": [
        "<b>imort libraries<b>"
      ]
    },
    {
      "cell_type": "code",
      "metadata": {
        "colab_type": "code",
        "id": "zNKdemw8pqLl",
        "colab": {}
      },
      "source": [
        " %matplotlib inline \n",
        "import numpy as np\n",
        "import pandas as pd\n",
        "pd.plotting.register_matplotlib_converters()\n",
        "import matplotlib.pyplot as plt\n",
        "import seaborn as sns \n",
        "import datetime as dt"
      ],
      "execution_count": 48,
      "outputs": []
    },
    {
      "cell_type": "markdown",
      "metadata": {
        "id": "hoKa3q43ERU2",
        "colab_type": "text"
      },
      "source": [
        "<b>import machine learning packages</b>"
      ]
    },
    {
      "cell_type": "code",
      "metadata": {
        "colab_type": "code",
        "id": "EdiOCv-NpqLs",
        "colab": {}
      },
      "source": [
        "from sklearn.linear_model import LinearRegression\n",
        "from sklearn.model_selection import train_test_split\n",
        "from sklearn.metrics import r2_score\n",
        "from math import sqrt\n",
        "from sklearn.metrics import mean_squared_error\n"
      ],
      "execution_count": 49,
      "outputs": []
    },
    {
      "cell_type": "markdown",
      "metadata": {
        "colab_type": "text",
        "id": "nkDh-XnypqLx"
      },
      "source": [
        "<b>Import the data</b>"
      ]
    },
    {
      "cell_type": "code",
      "metadata": {
        "colab_type": "code",
        "id": "NXD1Bo0opqLy",
        "colab": {}
      },
      "source": [
        "df = pd.read_csv('/content/datasets_566027_1266186_corona_morocco.csv')"
      ],
      "execution_count": 50,
      "outputs": []
    },
    {
      "cell_type": "markdown",
      "metadata": {
        "colab_type": "text",
        "id": "1LnUdhkVpqL2"
      },
      "source": [
        "<div id=\"one2\"><h2>1.2  Visualize data</h2></div>\n",
        "<h4><a href=\"#content\">reture to content table </a></h4>"
      ]
    },
    {
      "cell_type": "markdown",
      "metadata": {
        "id": "J4G2oZENERVH",
        "colab_type": "text"
      },
      "source": [
        "<b>Show the first 5 rows</b>"
      ]
    },
    {
      "cell_type": "code",
      "metadata": {
        "colab_type": "code",
        "id": "l7fEDjslpqL5",
        "colab": {
          "base_uri": "https://localhost:8080/",
          "height": 275
        },
        "outputId": "021c89ab-8c55-45cd-8c34-86c306f42250"
      },
      "source": [
        "df.head()"
      ],
      "execution_count": 51,
      "outputs": [
        {
          "output_type": "execute_result",
          "data": {
            "text/html": [
              "<div>\n",
              "<style scoped>\n",
              "    .dataframe tbody tr th:only-of-type {\n",
              "        vertical-align: middle;\n",
              "    }\n",
              "\n",
              "    .dataframe tbody tr th {\n",
              "        vertical-align: top;\n",
              "    }\n",
              "\n",
              "    .dataframe thead th {\n",
              "        text-align: right;\n",
              "    }\n",
              "</style>\n",
              "<table border=\"1\" class=\"dataframe\">\n",
              "  <thead>\n",
              "    <tr style=\"text-align: right;\">\n",
              "      <th></th>\n",
              "      <th>Date</th>\n",
              "      <th>Confirmed</th>\n",
              "      <th>Deaths</th>\n",
              "      <th>Recovered</th>\n",
              "      <th>Excluded</th>\n",
              "      <th>Beni Mellal-Khenifra</th>\n",
              "      <th>Casablanca-Settat</th>\n",
              "      <th>Draa-Tafilalet</th>\n",
              "      <th>Dakhla-Oued Ed-Dahab</th>\n",
              "      <th>Fes-Meknes</th>\n",
              "      <th>Guelmim-Oued Noun</th>\n",
              "      <th>Laayoune-Sakia El Hamra</th>\n",
              "      <th>Marrakesh-Safi</th>\n",
              "      <th>Oriental</th>\n",
              "      <th>Rabat-Sale-Kenitra</th>\n",
              "      <th>Souss-Massa</th>\n",
              "      <th>Tanger-Tetouan-Al Hoceima</th>\n",
              "    </tr>\n",
              "  </thead>\n",
              "  <tbody>\n",
              "    <tr>\n",
              "      <th>0</th>\n",
              "      <td>02/03/2020</td>\n",
              "      <td>1.0</td>\n",
              "      <td>NaN</td>\n",
              "      <td>NaN</td>\n",
              "      <td>28.0</td>\n",
              "      <td>NaN</td>\n",
              "      <td>1.0</td>\n",
              "      <td>NaN</td>\n",
              "      <td>NaN</td>\n",
              "      <td>NaN</td>\n",
              "      <td>NaN</td>\n",
              "      <td>NaN</td>\n",
              "      <td>NaN</td>\n",
              "      <td>NaN</td>\n",
              "      <td>NaN</td>\n",
              "      <td>NaN</td>\n",
              "      <td>NaN</td>\n",
              "    </tr>\n",
              "    <tr>\n",
              "      <th>1</th>\n",
              "      <td>03/03/2020</td>\n",
              "      <td>NaN</td>\n",
              "      <td>NaN</td>\n",
              "      <td>NaN</td>\n",
              "      <td>32.0</td>\n",
              "      <td>NaN</td>\n",
              "      <td>NaN</td>\n",
              "      <td>NaN</td>\n",
              "      <td>NaN</td>\n",
              "      <td>NaN</td>\n",
              "      <td>NaN</td>\n",
              "      <td>NaN</td>\n",
              "      <td>NaN</td>\n",
              "      <td>NaN</td>\n",
              "      <td>NaN</td>\n",
              "      <td>NaN</td>\n",
              "      <td>NaN</td>\n",
              "    </tr>\n",
              "    <tr>\n",
              "      <th>2</th>\n",
              "      <td>04/03/2020</td>\n",
              "      <td>2.0</td>\n",
              "      <td>NaN</td>\n",
              "      <td>NaN</td>\n",
              "      <td>34.0</td>\n",
              "      <td>NaN</td>\n",
              "      <td>2.0</td>\n",
              "      <td>NaN</td>\n",
              "      <td>NaN</td>\n",
              "      <td>NaN</td>\n",
              "      <td>NaN</td>\n",
              "      <td>NaN</td>\n",
              "      <td>NaN</td>\n",
              "      <td>NaN</td>\n",
              "      <td>NaN</td>\n",
              "      <td>NaN</td>\n",
              "      <td>NaN</td>\n",
              "    </tr>\n",
              "    <tr>\n",
              "      <th>3</th>\n",
              "      <td>05/03/2020</td>\n",
              "      <td>NaN</td>\n",
              "      <td>NaN</td>\n",
              "      <td>NaN</td>\n",
              "      <td>40.0</td>\n",
              "      <td>NaN</td>\n",
              "      <td>NaN</td>\n",
              "      <td>NaN</td>\n",
              "      <td>NaN</td>\n",
              "      <td>NaN</td>\n",
              "      <td>NaN</td>\n",
              "      <td>NaN</td>\n",
              "      <td>NaN</td>\n",
              "      <td>NaN</td>\n",
              "      <td>NaN</td>\n",
              "      <td>NaN</td>\n",
              "      <td>NaN</td>\n",
              "    </tr>\n",
              "    <tr>\n",
              "      <th>4</th>\n",
              "      <td>06/03/2020</td>\n",
              "      <td>NaN</td>\n",
              "      <td>NaN</td>\n",
              "      <td>NaN</td>\n",
              "      <td>50.0</td>\n",
              "      <td>NaN</td>\n",
              "      <td>NaN</td>\n",
              "      <td>NaN</td>\n",
              "      <td>NaN</td>\n",
              "      <td>NaN</td>\n",
              "      <td>NaN</td>\n",
              "      <td>NaN</td>\n",
              "      <td>NaN</td>\n",
              "      <td>NaN</td>\n",
              "      <td>NaN</td>\n",
              "      <td>NaN</td>\n",
              "      <td>NaN</td>\n",
              "    </tr>\n",
              "  </tbody>\n",
              "</table>\n",
              "</div>"
            ],
            "text/plain": [
              "         Date  Confirmed  ...  Souss-Massa  Tanger-Tetouan-Al Hoceima\n",
              "0  02/03/2020        1.0  ...          NaN                        NaN\n",
              "1  03/03/2020        NaN  ...          NaN                        NaN\n",
              "2  04/03/2020        2.0  ...          NaN                        NaN\n",
              "3  05/03/2020        NaN  ...          NaN                        NaN\n",
              "4  06/03/2020        NaN  ...          NaN                        NaN\n",
              "\n",
              "[5 rows x 17 columns]"
            ]
          },
          "metadata": {
            "tags": []
          },
          "execution_count": 51
        }
      ]
    },
    {
      "cell_type": "markdown",
      "metadata": {
        "id": "NVhDFTj8ERVP",
        "colab_type": "text"
      },
      "source": [
        "<b>Showing the number of rows and columns</b>"
      ]
    },
    {
      "cell_type": "code",
      "metadata": {
        "colab_type": "code",
        "id": "bq4_G8UgpqL-",
        "colab": {
          "base_uri": "https://localhost:8080/",
          "height": 34
        },
        "outputId": "b3f26fb2-c020-400b-8e9b-75cfb8ba0a00"
      },
      "source": [
        "print(\"shape:\",df.shape)"
      ],
      "execution_count": 52,
      "outputs": [
        {
          "output_type": "stream",
          "text": [
            "shape: (111, 17)\n"
          ],
          "name": "stdout"
        }
      ]
    },
    {
      "cell_type": "markdown",
      "metadata": {
        "id": "V6fb4SbwERVb",
        "colab_type": "text"
      },
      "source": [
        "<b>Showing the size of our dataset</b>"
      ]
    },
    {
      "cell_type": "code",
      "metadata": {
        "colab_type": "code",
        "id": "khCI-xxhpqME",
        "scrolled": true,
        "colab": {
          "base_uri": "https://localhost:8080/",
          "height": 34
        },
        "outputId": "1de3d5c4-ccf1-48ef-bc8c-1249e6b6dba0"
      },
      "source": [
        "print(\"Size:\",df.size)"
      ],
      "execution_count": 53,
      "outputs": [
        {
          "output_type": "stream",
          "text": [
            "Size: 1887\n"
          ],
          "name": "stdout"
        }
      ]
    },
    {
      "cell_type": "markdown",
      "metadata": {
        "id": "GeLq_HVAERVk",
        "colab_type": "text"
      },
      "source": [
        "<b>Generate quick descriptive statistics of our data</b>"
      ]
    },
    {
      "cell_type": "code",
      "metadata": {
        "colab_type": "code",
        "id": "5aJzNsTwvH3g",
        "colab": {
          "base_uri": "https://localhost:8080/",
          "height": 444
        },
        "outputId": "b0410d33-3ddc-4406-e705-a4beaffe8b02"
      },
      "source": [
        "df.describe(include=\"all\")"
      ],
      "execution_count": 54,
      "outputs": [
        {
          "output_type": "execute_result",
          "data": {
            "text/html": [
              "<div>\n",
              "<style scoped>\n",
              "    .dataframe tbody tr th:only-of-type {\n",
              "        vertical-align: middle;\n",
              "    }\n",
              "\n",
              "    .dataframe tbody tr th {\n",
              "        vertical-align: top;\n",
              "    }\n",
              "\n",
              "    .dataframe thead th {\n",
              "        text-align: right;\n",
              "    }\n",
              "</style>\n",
              "<table border=\"1\" class=\"dataframe\">\n",
              "  <thead>\n",
              "    <tr style=\"text-align: right;\">\n",
              "      <th></th>\n",
              "      <th>Date</th>\n",
              "      <th>Confirmed</th>\n",
              "      <th>Deaths</th>\n",
              "      <th>Recovered</th>\n",
              "      <th>Excluded</th>\n",
              "      <th>Beni Mellal-Khenifra</th>\n",
              "      <th>Casablanca-Settat</th>\n",
              "      <th>Draa-Tafilalet</th>\n",
              "      <th>Dakhla-Oued Ed-Dahab</th>\n",
              "      <th>Fes-Meknes</th>\n",
              "      <th>Guelmim-Oued Noun</th>\n",
              "      <th>Laayoune-Sakia El Hamra</th>\n",
              "      <th>Marrakesh-Safi</th>\n",
              "      <th>Oriental</th>\n",
              "      <th>Rabat-Sale-Kenitra</th>\n",
              "      <th>Souss-Massa</th>\n",
              "      <th>Tanger-Tetouan-Al Hoceima</th>\n",
              "    </tr>\n",
              "  </thead>\n",
              "  <tbody>\n",
              "    <tr>\n",
              "      <th>count</th>\n",
              "      <td>111</td>\n",
              "      <td>105.000000</td>\n",
              "      <td>94.000000</td>\n",
              "      <td>93.000000</td>\n",
              "      <td>102.000000</td>\n",
              "      <td>91.000000</td>\n",
              "      <td>94.000000</td>\n",
              "      <td>91.000000</td>\n",
              "      <td>91.000000</td>\n",
              "      <td>92.000000</td>\n",
              "      <td>91.000000</td>\n",
              "      <td>91.000000</td>\n",
              "      <td>93.000000</td>\n",
              "      <td>91.000000</td>\n",
              "      <td>91.000000</td>\n",
              "      <td>91.000000</td>\n",
              "      <td>91.000000</td>\n",
              "    </tr>\n",
              "    <tr>\n",
              "      <th>unique</th>\n",
              "      <td>111</td>\n",
              "      <td>NaN</td>\n",
              "      <td>NaN</td>\n",
              "      <td>NaN</td>\n",
              "      <td>NaN</td>\n",
              "      <td>NaN</td>\n",
              "      <td>NaN</td>\n",
              "      <td>NaN</td>\n",
              "      <td>NaN</td>\n",
              "      <td>NaN</td>\n",
              "      <td>NaN</td>\n",
              "      <td>NaN</td>\n",
              "      <td>NaN</td>\n",
              "      <td>NaN</td>\n",
              "      <td>NaN</td>\n",
              "      <td>NaN</td>\n",
              "      <td>NaN</td>\n",
              "    </tr>\n",
              "    <tr>\n",
              "      <th>top</th>\n",
              "      <td>07/04/2020</td>\n",
              "      <td>NaN</td>\n",
              "      <td>NaN</td>\n",
              "      <td>NaN</td>\n",
              "      <td>NaN</td>\n",
              "      <td>NaN</td>\n",
              "      <td>NaN</td>\n",
              "      <td>NaN</td>\n",
              "      <td>NaN</td>\n",
              "      <td>NaN</td>\n",
              "      <td>NaN</td>\n",
              "      <td>NaN</td>\n",
              "      <td>NaN</td>\n",
              "      <td>NaN</td>\n",
              "      <td>NaN</td>\n",
              "      <td>NaN</td>\n",
              "      <td>NaN</td>\n",
              "    </tr>\n",
              "    <tr>\n",
              "      <th>freq</th>\n",
              "      <td>1</td>\n",
              "      <td>NaN</td>\n",
              "      <td>NaN</td>\n",
              "      <td>NaN</td>\n",
              "      <td>NaN</td>\n",
              "      <td>NaN</td>\n",
              "      <td>NaN</td>\n",
              "      <td>NaN</td>\n",
              "      <td>NaN</td>\n",
              "      <td>NaN</td>\n",
              "      <td>NaN</td>\n",
              "      <td>NaN</td>\n",
              "      <td>NaN</td>\n",
              "      <td>NaN</td>\n",
              "      <td>NaN</td>\n",
              "      <td>NaN</td>\n",
              "      <td>NaN</td>\n",
              "    </tr>\n",
              "    <tr>\n",
              "      <th>mean</th>\n",
              "      <td>NaN</td>\n",
              "      <td>4287.647619</td>\n",
              "      <td>147.957447</td>\n",
              "      <td>2865.806452</td>\n",
              "      <td>102278.941176</td>\n",
              "      <td>80.637363</td>\n",
              "      <td>1453.425532</td>\n",
              "      <td>380.912088</td>\n",
              "      <td>2.373626</td>\n",
              "      <td>627.010870</td>\n",
              "      <td>26.450549</td>\n",
              "      <td>3.472527</td>\n",
              "      <td>898.591398</td>\n",
              "      <td>142.373626</td>\n",
              "      <td>471.703297</td>\n",
              "      <td>55.824176</td>\n",
              "      <td>679.725275</td>\n",
              "    </tr>\n",
              "    <tr>\n",
              "      <th>std</th>\n",
              "      <td>NaN</td>\n",
              "      <td>3288.689700</td>\n",
              "      <td>68.912429</td>\n",
              "      <td>2932.860524</td>\n",
              "      <td>141615.654775</td>\n",
              "      <td>41.683868</td>\n",
              "      <td>1047.674675</td>\n",
              "      <td>252.463799</td>\n",
              "      <td>1.786669</td>\n",
              "      <td>385.874018</td>\n",
              "      <td>20.226640</td>\n",
              "      <td>1.572971</td>\n",
              "      <td>557.279343</td>\n",
              "      <td>65.594994</td>\n",
              "      <td>306.478547</td>\n",
              "      <td>29.957597</td>\n",
              "      <td>471.225237</td>\n",
              "    </tr>\n",
              "    <tr>\n",
              "      <th>min</th>\n",
              "      <td>NaN</td>\n",
              "      <td>1.000000</td>\n",
              "      <td>1.000000</td>\n",
              "      <td>1.000000</td>\n",
              "      <td>28.000000</td>\n",
              "      <td>2.000000</td>\n",
              "      <td>1.000000</td>\n",
              "      <td>0.000000</td>\n",
              "      <td>0.000000</td>\n",
              "      <td>1.000000</td>\n",
              "      <td>1.000000</td>\n",
              "      <td>0.000000</td>\n",
              "      <td>1.000000</td>\n",
              "      <td>1.000000</td>\n",
              "      <td>16.000000</td>\n",
              "      <td>6.000000</td>\n",
              "      <td>4.000000</td>\n",
              "    </tr>\n",
              "    <tr>\n",
              "      <th>25%</th>\n",
              "      <td>NaN</td>\n",
              "      <td>791.000000</td>\n",
              "      <td>112.750000</td>\n",
              "      <td>177.000000</td>\n",
              "      <td>2747.250000</td>\n",
              "      <td>47.500000</td>\n",
              "      <td>408.000000</td>\n",
              "      <td>71.500000</td>\n",
              "      <td>1.000000</td>\n",
              "      <td>189.500000</td>\n",
              "      <td>1.000000</td>\n",
              "      <td>3.000000</td>\n",
              "      <td>276.000000</td>\n",
              "      <td>106.000000</td>\n",
              "      <td>225.500000</td>\n",
              "      <td>23.000000</td>\n",
              "      <td>147.000000</td>\n",
              "    </tr>\n",
              "    <tr>\n",
              "      <th>50%</th>\n",
              "      <td>NaN</td>\n",
              "      <td>4321.000000</td>\n",
              "      <td>180.000000</td>\n",
              "      <td>1838.000000</td>\n",
              "      <td>31427.500000</td>\n",
              "      <td>89.000000</td>\n",
              "      <td>1334.000000</td>\n",
              "      <td>551.000000</td>\n",
              "      <td>2.000000</td>\n",
              "      <td>680.000000</td>\n",
              "      <td>40.000000</td>\n",
              "      <td>4.000000</td>\n",
              "      <td>1091.000000</td>\n",
              "      <td>175.000000</td>\n",
              "      <td>467.000000</td>\n",
              "      <td>53.000000</td>\n",
              "      <td>760.000000</td>\n",
              "    </tr>\n",
              "    <tr>\n",
              "      <th>75%</th>\n",
              "      <td>NaN</td>\n",
              "      <td>7532.000000</td>\n",
              "      <td>202.000000</td>\n",
              "      <td>5196.000000</td>\n",
              "      <td>151508.750000</td>\n",
              "      <td>114.000000</td>\n",
              "      <td>2516.500000</td>\n",
              "      <td>585.000000</td>\n",
              "      <td>4.000000</td>\n",
              "      <td>999.000000</td>\n",
              "      <td>43.000000</td>\n",
              "      <td>4.000000</td>\n",
              "      <td>1329.000000</td>\n",
              "      <td>186.000000</td>\n",
              "      <td>700.500000</td>\n",
              "      <td>87.000000</td>\n",
              "      <td>1072.500000</td>\n",
              "    </tr>\n",
              "    <tr>\n",
              "      <th>max</th>\n",
              "      <td>NaN</td>\n",
              "      <td>9839.000000</td>\n",
              "      <td>213.000000</td>\n",
              "      <td>8223.000000</td>\n",
              "      <td>512327.000000</td>\n",
              "      <td>129.000000</td>\n",
              "      <td>2997.000000</td>\n",
              "      <td>586.000000</td>\n",
              "      <td>5.000000</td>\n",
              "      <td>1088.000000</td>\n",
              "      <td>53.000000</td>\n",
              "      <td>7.000000</td>\n",
              "      <td>1692.000000</td>\n",
              "      <td>199.000000</td>\n",
              "      <td>1528.000000</td>\n",
              "      <td>90.000000</td>\n",
              "      <td>1461.000000</td>\n",
              "    </tr>\n",
              "  </tbody>\n",
              "</table>\n",
              "</div>"
            ],
            "text/plain": [
              "              Date    Confirmed  ...  Souss-Massa  Tanger-Tetouan-Al Hoceima\n",
              "count          111   105.000000  ...    91.000000                  91.000000\n",
              "unique         111          NaN  ...          NaN                        NaN\n",
              "top     07/04/2020          NaN  ...          NaN                        NaN\n",
              "freq             1          NaN  ...          NaN                        NaN\n",
              "mean           NaN  4287.647619  ...    55.824176                 679.725275\n",
              "std            NaN  3288.689700  ...    29.957597                 471.225237\n",
              "min            NaN     1.000000  ...     6.000000                   4.000000\n",
              "25%            NaN   791.000000  ...    23.000000                 147.000000\n",
              "50%            NaN  4321.000000  ...    53.000000                 760.000000\n",
              "75%            NaN  7532.000000  ...    87.000000                1072.500000\n",
              "max            NaN  9839.000000  ...    90.000000                1461.000000\n",
              "\n",
              "[11 rows x 17 columns]"
            ]
          },
          "metadata": {
            "tags": []
          },
          "execution_count": 54
        }
      ]
    },
    {
      "cell_type": "markdown",
      "metadata": {
        "id": "gtFjNuYbERVs",
        "colab_type": "text"
      },
      "source": [
        "<b>type of Date column is object and there are somme values with NaN</b> "
      ]
    },
    {
      "cell_type": "code",
      "metadata": {
        "colab_type": "code",
        "id": "5XVYJo2IusG3",
        "colab": {
          "base_uri": "https://localhost:8080/",
          "height": 425
        },
        "outputId": "33d7364f-e6a7-4922-8488-5509cddc734d"
      },
      "source": [
        "df.info()"
      ],
      "execution_count": 55,
      "outputs": [
        {
          "output_type": "stream",
          "text": [
            "<class 'pandas.core.frame.DataFrame'>\n",
            "RangeIndex: 111 entries, 0 to 110\n",
            "Data columns (total 17 columns):\n",
            " #   Column                     Non-Null Count  Dtype  \n",
            "---  ------                     --------------  -----  \n",
            " 0   Date                       111 non-null    object \n",
            " 1   Confirmed                  105 non-null    float64\n",
            " 2   Deaths                     94 non-null     float64\n",
            " 3   Recovered                  93 non-null     float64\n",
            " 4   Excluded                   102 non-null    float64\n",
            " 5   Beni Mellal-Khenifra       91 non-null     float64\n",
            " 6   Casablanca-Settat          94 non-null     float64\n",
            " 7   Draa-Tafilalet             91 non-null     float64\n",
            " 8   Dakhla-Oued Ed-Dahab       91 non-null     float64\n",
            " 9   Fes-Meknes                 92 non-null     float64\n",
            " 10  Guelmim-Oued Noun          91 non-null     float64\n",
            " 11  Laayoune-Sakia El Hamra    91 non-null     float64\n",
            " 12  Marrakesh-Safi             93 non-null     float64\n",
            " 13  Oriental                   91 non-null     float64\n",
            " 14  Rabat-Sale-Kenitra         91 non-null     float64\n",
            " 15  Souss-Massa                91 non-null     float64\n",
            " 16  Tanger-Tetouan-Al Hoceima  91 non-null     float64\n",
            "dtypes: float64(16), object(1)\n",
            "memory usage: 14.9+ KB\n"
          ],
          "name": "stdout"
        }
      ]
    },
    {
      "cell_type": "markdown",
      "metadata": {
        "colab_type": "text",
        "id": "iRtXUNH-pqMQ"
      },
      "source": [
        "<b>Replacing missing Values with the value 0</b>"
      ]
    },
    {
      "cell_type": "code",
      "metadata": {
        "colab_type": "code",
        "id": "Os5WDG36pqMS",
        "scrolled": true,
        "colab": {}
      },
      "source": [
        "df = df.fillna(value = 0)"
      ],
      "execution_count": 56,
      "outputs": []
    },
    {
      "cell_type": "markdown",
      "metadata": {
        "colab_type": "text",
        "id": "bbomgc5epqMY"
      },
      "source": [
        "<b>Convert Date collumn into datetime for better visualization</b>"
      ]
    },
    {
      "cell_type": "code",
      "metadata": {
        "colab_type": "code",
        "id": "6LVzsAIdpqMZ",
        "colab": {}
      },
      "source": [
        "df['Date']=[dt.datetime.strptime(x,'%d/%m/%Y') for x in df['Date'] ]"
      ],
      "execution_count": 57,
      "outputs": []
    },
    {
      "cell_type": "markdown",
      "metadata": {
        "colab_type": "text",
        "id": "Srw8jAUOpqMf"
      },
      "source": [
        "<b>Setting Date column as index</b>"
      ]
    },
    {
      "cell_type": "code",
      "metadata": {
        "colab_type": "code",
        "id": "hNOBBrxIpqMg",
        "scrolled": true,
        "colab": {
          "base_uri": "https://localhost:8080/",
          "height": 391
        },
        "outputId": "402494c6-fbed-41d8-da83-2d7463830f6e"
      },
      "source": [
        "df = df.set_index('Date')\n",
        "\n",
        "df.head()"
      ],
      "execution_count": 58,
      "outputs": [
        {
          "output_type": "execute_result",
          "data": {
            "text/html": [
              "<div>\n",
              "<style scoped>\n",
              "    .dataframe tbody tr th:only-of-type {\n",
              "        vertical-align: middle;\n",
              "    }\n",
              "\n",
              "    .dataframe tbody tr th {\n",
              "        vertical-align: top;\n",
              "    }\n",
              "\n",
              "    .dataframe thead th {\n",
              "        text-align: right;\n",
              "    }\n",
              "</style>\n",
              "<table border=\"1\" class=\"dataframe\">\n",
              "  <thead>\n",
              "    <tr style=\"text-align: right;\">\n",
              "      <th></th>\n",
              "      <th>Confirmed</th>\n",
              "      <th>Deaths</th>\n",
              "      <th>Recovered</th>\n",
              "      <th>Excluded</th>\n",
              "      <th>Beni Mellal-Khenifra</th>\n",
              "      <th>Casablanca-Settat</th>\n",
              "      <th>Draa-Tafilalet</th>\n",
              "      <th>Dakhla-Oued Ed-Dahab</th>\n",
              "      <th>Fes-Meknes</th>\n",
              "      <th>Guelmim-Oued Noun</th>\n",
              "      <th>Laayoune-Sakia El Hamra</th>\n",
              "      <th>Marrakesh-Safi</th>\n",
              "      <th>Oriental</th>\n",
              "      <th>Rabat-Sale-Kenitra</th>\n",
              "      <th>Souss-Massa</th>\n",
              "      <th>Tanger-Tetouan-Al Hoceima</th>\n",
              "    </tr>\n",
              "    <tr>\n",
              "      <th>Date</th>\n",
              "      <th></th>\n",
              "      <th></th>\n",
              "      <th></th>\n",
              "      <th></th>\n",
              "      <th></th>\n",
              "      <th></th>\n",
              "      <th></th>\n",
              "      <th></th>\n",
              "      <th></th>\n",
              "      <th></th>\n",
              "      <th></th>\n",
              "      <th></th>\n",
              "      <th></th>\n",
              "      <th></th>\n",
              "      <th></th>\n",
              "      <th></th>\n",
              "    </tr>\n",
              "  </thead>\n",
              "  <tbody>\n",
              "    <tr>\n",
              "      <th>2020-03-02</th>\n",
              "      <td>1.0</td>\n",
              "      <td>0.0</td>\n",
              "      <td>0.0</td>\n",
              "      <td>28.0</td>\n",
              "      <td>0.0</td>\n",
              "      <td>1.0</td>\n",
              "      <td>0.0</td>\n",
              "      <td>0.0</td>\n",
              "      <td>0.0</td>\n",
              "      <td>0.0</td>\n",
              "      <td>0.0</td>\n",
              "      <td>0.0</td>\n",
              "      <td>0.0</td>\n",
              "      <td>0.0</td>\n",
              "      <td>0.0</td>\n",
              "      <td>0.0</td>\n",
              "    </tr>\n",
              "    <tr>\n",
              "      <th>2020-03-03</th>\n",
              "      <td>0.0</td>\n",
              "      <td>0.0</td>\n",
              "      <td>0.0</td>\n",
              "      <td>32.0</td>\n",
              "      <td>0.0</td>\n",
              "      <td>0.0</td>\n",
              "      <td>0.0</td>\n",
              "      <td>0.0</td>\n",
              "      <td>0.0</td>\n",
              "      <td>0.0</td>\n",
              "      <td>0.0</td>\n",
              "      <td>0.0</td>\n",
              "      <td>0.0</td>\n",
              "      <td>0.0</td>\n",
              "      <td>0.0</td>\n",
              "      <td>0.0</td>\n",
              "    </tr>\n",
              "    <tr>\n",
              "      <th>2020-03-04</th>\n",
              "      <td>2.0</td>\n",
              "      <td>0.0</td>\n",
              "      <td>0.0</td>\n",
              "      <td>34.0</td>\n",
              "      <td>0.0</td>\n",
              "      <td>2.0</td>\n",
              "      <td>0.0</td>\n",
              "      <td>0.0</td>\n",
              "      <td>0.0</td>\n",
              "      <td>0.0</td>\n",
              "      <td>0.0</td>\n",
              "      <td>0.0</td>\n",
              "      <td>0.0</td>\n",
              "      <td>0.0</td>\n",
              "      <td>0.0</td>\n",
              "      <td>0.0</td>\n",
              "    </tr>\n",
              "    <tr>\n",
              "      <th>2020-03-05</th>\n",
              "      <td>0.0</td>\n",
              "      <td>0.0</td>\n",
              "      <td>0.0</td>\n",
              "      <td>40.0</td>\n",
              "      <td>0.0</td>\n",
              "      <td>0.0</td>\n",
              "      <td>0.0</td>\n",
              "      <td>0.0</td>\n",
              "      <td>0.0</td>\n",
              "      <td>0.0</td>\n",
              "      <td>0.0</td>\n",
              "      <td>0.0</td>\n",
              "      <td>0.0</td>\n",
              "      <td>0.0</td>\n",
              "      <td>0.0</td>\n",
              "      <td>0.0</td>\n",
              "    </tr>\n",
              "    <tr>\n",
              "      <th>2020-03-06</th>\n",
              "      <td>0.0</td>\n",
              "      <td>0.0</td>\n",
              "      <td>0.0</td>\n",
              "      <td>50.0</td>\n",
              "      <td>0.0</td>\n",
              "      <td>0.0</td>\n",
              "      <td>0.0</td>\n",
              "      <td>0.0</td>\n",
              "      <td>0.0</td>\n",
              "      <td>0.0</td>\n",
              "      <td>0.0</td>\n",
              "      <td>0.0</td>\n",
              "      <td>0.0</td>\n",
              "      <td>0.0</td>\n",
              "      <td>0.0</td>\n",
              "      <td>0.0</td>\n",
              "    </tr>\n",
              "  </tbody>\n",
              "</table>\n",
              "</div>"
            ],
            "text/plain": [
              "            Confirmed  Deaths  ...  Souss-Massa  Tanger-Tetouan-Al Hoceima\n",
              "Date                           ...                                        \n",
              "2020-03-02        1.0     0.0  ...          0.0                        0.0\n",
              "2020-03-03        0.0     0.0  ...          0.0                        0.0\n",
              "2020-03-04        2.0     0.0  ...          0.0                        0.0\n",
              "2020-03-05        0.0     0.0  ...          0.0                        0.0\n",
              "2020-03-06        0.0     0.0  ...          0.0                        0.0\n",
              "\n",
              "[5 rows x 16 columns]"
            ]
          },
          "metadata": {
            "tags": []
          },
          "execution_count": 58
        }
      ]
    },
    {
      "cell_type": "markdown",
      "metadata": {
        "colab_type": "text",
        "id": "YUalnBAhpqMl"
      },
      "source": [
        "<b>Adding actif case and total tests per day to the dataset</b>"
      ]
    },
    {
      "cell_type": "code",
      "metadata": {
        "colab_type": "code",
        "id": "bU1EjWFypqMn",
        "colab": {}
      },
      "source": [
        "actif_col= df['Confirmed'] - df['Recovered'] - df['Deaths']\n",
        "total_test_perDay = df['Confirmed'] + df['Excluded']\n",
        "df['Actif'] = actif_col\n",
        "df['Total Test'] = total_test_perDay"
      ],
      "execution_count": 59,
      "outputs": []
    },
    {
      "cell_type": "code",
      "metadata": {
        "colab_type": "code",
        "id": "hjNfvXxEpqMq",
        "scrolled": true,
        "colab": {
          "base_uri": "https://localhost:8080/",
          "height": 391
        },
        "outputId": "17c7b618-aa30-4270-dd09-ee0be045422a"
      },
      "source": [
        "df.head()"
      ],
      "execution_count": 60,
      "outputs": [
        {
          "output_type": "execute_result",
          "data": {
            "text/html": [
              "<div>\n",
              "<style scoped>\n",
              "    .dataframe tbody tr th:only-of-type {\n",
              "        vertical-align: middle;\n",
              "    }\n",
              "\n",
              "    .dataframe tbody tr th {\n",
              "        vertical-align: top;\n",
              "    }\n",
              "\n",
              "    .dataframe thead th {\n",
              "        text-align: right;\n",
              "    }\n",
              "</style>\n",
              "<table border=\"1\" class=\"dataframe\">\n",
              "  <thead>\n",
              "    <tr style=\"text-align: right;\">\n",
              "      <th></th>\n",
              "      <th>Confirmed</th>\n",
              "      <th>Deaths</th>\n",
              "      <th>Recovered</th>\n",
              "      <th>Excluded</th>\n",
              "      <th>Beni Mellal-Khenifra</th>\n",
              "      <th>Casablanca-Settat</th>\n",
              "      <th>Draa-Tafilalet</th>\n",
              "      <th>Dakhla-Oued Ed-Dahab</th>\n",
              "      <th>Fes-Meknes</th>\n",
              "      <th>Guelmim-Oued Noun</th>\n",
              "      <th>Laayoune-Sakia El Hamra</th>\n",
              "      <th>Marrakesh-Safi</th>\n",
              "      <th>Oriental</th>\n",
              "      <th>Rabat-Sale-Kenitra</th>\n",
              "      <th>Souss-Massa</th>\n",
              "      <th>Tanger-Tetouan-Al Hoceima</th>\n",
              "      <th>Actif</th>\n",
              "      <th>Total Test</th>\n",
              "    </tr>\n",
              "    <tr>\n",
              "      <th>Date</th>\n",
              "      <th></th>\n",
              "      <th></th>\n",
              "      <th></th>\n",
              "      <th></th>\n",
              "      <th></th>\n",
              "      <th></th>\n",
              "      <th></th>\n",
              "      <th></th>\n",
              "      <th></th>\n",
              "      <th></th>\n",
              "      <th></th>\n",
              "      <th></th>\n",
              "      <th></th>\n",
              "      <th></th>\n",
              "      <th></th>\n",
              "      <th></th>\n",
              "      <th></th>\n",
              "      <th></th>\n",
              "    </tr>\n",
              "  </thead>\n",
              "  <tbody>\n",
              "    <tr>\n",
              "      <th>2020-03-02</th>\n",
              "      <td>1.0</td>\n",
              "      <td>0.0</td>\n",
              "      <td>0.0</td>\n",
              "      <td>28.0</td>\n",
              "      <td>0.0</td>\n",
              "      <td>1.0</td>\n",
              "      <td>0.0</td>\n",
              "      <td>0.0</td>\n",
              "      <td>0.0</td>\n",
              "      <td>0.0</td>\n",
              "      <td>0.0</td>\n",
              "      <td>0.0</td>\n",
              "      <td>0.0</td>\n",
              "      <td>0.0</td>\n",
              "      <td>0.0</td>\n",
              "      <td>0.0</td>\n",
              "      <td>1.0</td>\n",
              "      <td>29.0</td>\n",
              "    </tr>\n",
              "    <tr>\n",
              "      <th>2020-03-03</th>\n",
              "      <td>0.0</td>\n",
              "      <td>0.0</td>\n",
              "      <td>0.0</td>\n",
              "      <td>32.0</td>\n",
              "      <td>0.0</td>\n",
              "      <td>0.0</td>\n",
              "      <td>0.0</td>\n",
              "      <td>0.0</td>\n",
              "      <td>0.0</td>\n",
              "      <td>0.0</td>\n",
              "      <td>0.0</td>\n",
              "      <td>0.0</td>\n",
              "      <td>0.0</td>\n",
              "      <td>0.0</td>\n",
              "      <td>0.0</td>\n",
              "      <td>0.0</td>\n",
              "      <td>0.0</td>\n",
              "      <td>32.0</td>\n",
              "    </tr>\n",
              "    <tr>\n",
              "      <th>2020-03-04</th>\n",
              "      <td>2.0</td>\n",
              "      <td>0.0</td>\n",
              "      <td>0.0</td>\n",
              "      <td>34.0</td>\n",
              "      <td>0.0</td>\n",
              "      <td>2.0</td>\n",
              "      <td>0.0</td>\n",
              "      <td>0.0</td>\n",
              "      <td>0.0</td>\n",
              "      <td>0.0</td>\n",
              "      <td>0.0</td>\n",
              "      <td>0.0</td>\n",
              "      <td>0.0</td>\n",
              "      <td>0.0</td>\n",
              "      <td>0.0</td>\n",
              "      <td>0.0</td>\n",
              "      <td>2.0</td>\n",
              "      <td>36.0</td>\n",
              "    </tr>\n",
              "    <tr>\n",
              "      <th>2020-03-05</th>\n",
              "      <td>0.0</td>\n",
              "      <td>0.0</td>\n",
              "      <td>0.0</td>\n",
              "      <td>40.0</td>\n",
              "      <td>0.0</td>\n",
              "      <td>0.0</td>\n",
              "      <td>0.0</td>\n",
              "      <td>0.0</td>\n",
              "      <td>0.0</td>\n",
              "      <td>0.0</td>\n",
              "      <td>0.0</td>\n",
              "      <td>0.0</td>\n",
              "      <td>0.0</td>\n",
              "      <td>0.0</td>\n",
              "      <td>0.0</td>\n",
              "      <td>0.0</td>\n",
              "      <td>0.0</td>\n",
              "      <td>40.0</td>\n",
              "    </tr>\n",
              "    <tr>\n",
              "      <th>2020-03-06</th>\n",
              "      <td>0.0</td>\n",
              "      <td>0.0</td>\n",
              "      <td>0.0</td>\n",
              "      <td>50.0</td>\n",
              "      <td>0.0</td>\n",
              "      <td>0.0</td>\n",
              "      <td>0.0</td>\n",
              "      <td>0.0</td>\n",
              "      <td>0.0</td>\n",
              "      <td>0.0</td>\n",
              "      <td>0.0</td>\n",
              "      <td>0.0</td>\n",
              "      <td>0.0</td>\n",
              "      <td>0.0</td>\n",
              "      <td>0.0</td>\n",
              "      <td>0.0</td>\n",
              "      <td>0.0</td>\n",
              "      <td>50.0</td>\n",
              "    </tr>\n",
              "  </tbody>\n",
              "</table>\n",
              "</div>"
            ],
            "text/plain": [
              "            Confirmed  Deaths  ...  Actif  Total Test\n",
              "Date                           ...                   \n",
              "2020-03-02        1.0     0.0  ...    1.0        29.0\n",
              "2020-03-03        0.0     0.0  ...    0.0        32.0\n",
              "2020-03-04        2.0     0.0  ...    2.0        36.0\n",
              "2020-03-05        0.0     0.0  ...    0.0        40.0\n",
              "2020-03-06        0.0     0.0  ...    0.0        50.0\n",
              "\n",
              "[5 rows x 18 columns]"
            ]
          },
          "metadata": {
            "tags": []
          },
          "execution_count": 60
        }
      ]
    },
    {
      "cell_type": "markdown",
      "metadata": {
        "id": "NQJuL3wzERWN",
        "colab_type": "text"
      },
      "source": [
        "<div id=\"one3\"><h2>1.3  Graphs</h2></div>\n",
        "<h4><a href=\"#content\">reture to content table </a></h4>"
      ]
    },
    {
      "cell_type": "markdown",
      "metadata": {
        "colab_type": "text",
        "id": "_65jSWanpqMv"
      },
      "source": [
        "<b>Graphing the number of confirmed cases and recoveries</b>"
      ]
    },
    {
      "cell_type": "code",
      "metadata": {
        "colab_type": "code",
        "id": "TyfEsDh-pqMv",
        "scrolled": true,
        "colab": {
          "base_uri": "https://localhost:8080/",
          "height": 372
        },
        "outputId": "1b67882e-a5de-4ab8-807c-0e1090dd3b1a"
      },
      "source": [
        "plt.figure(figsize=(10,5))\n",
        "sns.lineplot(data = df['Confirmed'], label = 'Confirmed')\n",
        "sns.lineplot(data = df['Deaths'], label = 'Deaths')\n",
        "sns.lineplot(data = df['Recovered'], label = 'Recovered')\n",
        "\n",
        "plt.xlabel('Date')\n",
        "plt.ylabel('Total number')\n",
        "plt.title('Graph chart of confirmed and recovered cases in Morocco')\n",
        "\n",
        "plt.legend()"
      ],
      "execution_count": 61,
      "outputs": [
        {
          "output_type": "execute_result",
          "data": {
            "text/plain": [
              "<matplotlib.legend.Legend at 0x7ff2d31756d8>"
            ]
          },
          "metadata": {
            "tags": []
          },
          "execution_count": 61
        },
        {
          "output_type": "display_data",
          "data": {
            "image/png": "[encoded data removed]",
            "text/plain": [
              "<Figure size 720x360 with 1 Axes>"
            ]
          },
          "metadata": {
            "tags": [],
            "needs_background": "light"
          }
        }
      ]
    },
    {
      "cell_type": "markdown",
      "metadata": {
        "colab_type": "text",
        "id": "pf3Up246pqM0"
      },
      "source": [
        "<b>Repartition of new cases for rows 14 and 15 Avril on region are not available and that will affect our analysis</b>"
      ]
    },
    {
      "cell_type": "code",
      "metadata": {
        "colab_type": "code",
        "id": "AuWmKdxrpqM1",
        "colab": {
          "base_uri": "https://localhost:8080/",
          "height": 343
        },
        "outputId": "d0ae9f73-c6c5-41c9-b28f-1ae0fa885cb1"
      },
      "source": [
        "df['2020-04-13':'2020-04-16']"
      ],
      "execution_count": 62,
      "outputs": [
        {
          "output_type": "execute_result",
          "data": {
            "text/html": [
              "<div>\n",
              "<style scoped>\n",
              "    .dataframe tbody tr th:only-of-type {\n",
              "        vertical-align: middle;\n",
              "    }\n",
              "\n",
              "    .dataframe tbody tr th {\n",
              "        vertical-align: top;\n",
              "    }\n",
              "\n",
              "    .dataframe thead th {\n",
              "        text-align: right;\n",
              "    }\n",
              "</style>\n",
              "<table border=\"1\" class=\"dataframe\">\n",
              "  <thead>\n",
              "    <tr style=\"text-align: right;\">\n",
              "      <th></th>\n",
              "      <th>Confirmed</th>\n",
              "      <th>Deaths</th>\n",
              "      <th>Recovered</th>\n",
              "      <th>Excluded</th>\n",
              "      <th>Beni Mellal-Khenifra</th>\n",
              "      <th>Casablanca-Settat</th>\n",
              "      <th>Draa-Tafilalet</th>\n",
              "      <th>Dakhla-Oued Ed-Dahab</th>\n",
              "      <th>Fes-Meknes</th>\n",
              "      <th>Guelmim-Oued Noun</th>\n",
              "      <th>Laayoune-Sakia El Hamra</th>\n",
              "      <th>Marrakesh-Safi</th>\n",
              "      <th>Oriental</th>\n",
              "      <th>Rabat-Sale-Kenitra</th>\n",
              "      <th>Souss-Massa</th>\n",
              "      <th>Tanger-Tetouan-Al Hoceima</th>\n",
              "      <th>Actif</th>\n",
              "      <th>Total Test</th>\n",
              "    </tr>\n",
              "    <tr>\n",
              "      <th>Date</th>\n",
              "      <th></th>\n",
              "      <th></th>\n",
              "      <th></th>\n",
              "      <th></th>\n",
              "      <th></th>\n",
              "      <th></th>\n",
              "      <th></th>\n",
              "      <th></th>\n",
              "      <th></th>\n",
              "      <th></th>\n",
              "      <th></th>\n",
              "      <th></th>\n",
              "      <th></th>\n",
              "      <th></th>\n",
              "      <th></th>\n",
              "      <th></th>\n",
              "      <th></th>\n",
              "      <th></th>\n",
              "    </tr>\n",
              "  </thead>\n",
              "  <tbody>\n",
              "    <tr>\n",
              "      <th>2020-04-13</th>\n",
              "      <td>1763.0</td>\n",
              "      <td>126.0</td>\n",
              "      <td>203.0</td>\n",
              "      <td>7365.0</td>\n",
              "      <td>48.0</td>\n",
              "      <td>521.0</td>\n",
              "      <td>78.0</td>\n",
              "      <td>2.0</td>\n",
              "      <td>233.0</td>\n",
              "      <td>1.0</td>\n",
              "      <td>4.0</td>\n",
              "      <td>335.0</td>\n",
              "      <td>123.0</td>\n",
              "      <td>225.0</td>\n",
              "      <td>24.0</td>\n",
              "      <td>169.0</td>\n",
              "      <td>1434.0</td>\n",
              "      <td>9128.0</td>\n",
              "    </tr>\n",
              "    <tr>\n",
              "      <th>2020-04-14</th>\n",
              "      <td>1888.0</td>\n",
              "      <td>126.0</td>\n",
              "      <td>217.0</td>\n",
              "      <td>8034.0</td>\n",
              "      <td>0.0</td>\n",
              "      <td>0.0</td>\n",
              "      <td>0.0</td>\n",
              "      <td>0.0</td>\n",
              "      <td>0.0</td>\n",
              "      <td>0.0</td>\n",
              "      <td>0.0</td>\n",
              "      <td>0.0</td>\n",
              "      <td>0.0</td>\n",
              "      <td>0.0</td>\n",
              "      <td>0.0</td>\n",
              "      <td>0.0</td>\n",
              "      <td>1545.0</td>\n",
              "      <td>9922.0</td>\n",
              "    </tr>\n",
              "    <tr>\n",
              "      <th>2020-04-15</th>\n",
              "      <td>2024.0</td>\n",
              "      <td>127.0</td>\n",
              "      <td>229.0</td>\n",
              "      <td>8626.0</td>\n",
              "      <td>0.0</td>\n",
              "      <td>0.0</td>\n",
              "      <td>0.0</td>\n",
              "      <td>0.0</td>\n",
              "      <td>0.0</td>\n",
              "      <td>0.0</td>\n",
              "      <td>0.0</td>\n",
              "      <td>0.0</td>\n",
              "      <td>0.0</td>\n",
              "      <td>0.0</td>\n",
              "      <td>0.0</td>\n",
              "      <td>0.0</td>\n",
              "      <td>1668.0</td>\n",
              "      <td>10650.0</td>\n",
              "    </tr>\n",
              "    <tr>\n",
              "      <th>2020-04-16</th>\n",
              "      <td>2283.0</td>\n",
              "      <td>130.0</td>\n",
              "      <td>249.0</td>\n",
              "      <td>10388.0</td>\n",
              "      <td>56.0</td>\n",
              "      <td>681.0</td>\n",
              "      <td>80.0</td>\n",
              "      <td>2.0</td>\n",
              "      <td>317.0</td>\n",
              "      <td>1.0</td>\n",
              "      <td>4.0</td>\n",
              "      <td>487.0</td>\n",
              "      <td>140.0</td>\n",
              "      <td>258.0</td>\n",
              "      <td>27.0</td>\n",
              "      <td>230.0</td>\n",
              "      <td>1904.0</td>\n",
              "      <td>12671.0</td>\n",
              "    </tr>\n",
              "  </tbody>\n",
              "</table>\n",
              "</div>"
            ],
            "text/plain": [
              "            Confirmed  Deaths  ...   Actif  Total Test\n",
              "Date                           ...                    \n",
              "2020-04-13     1763.0   126.0  ...  1434.0      9128.0\n",
              "2020-04-14     1888.0   126.0  ...  1545.0      9922.0\n",
              "2020-04-15     2024.0   127.0  ...  1668.0     10650.0\n",
              "2020-04-16     2283.0   130.0  ...  1904.0     12671.0\n",
              "\n",
              "[4 rows x 18 columns]"
            ]
          },
          "metadata": {
            "tags": []
          },
          "execution_count": 62
        }
      ]
    },
    {
      "cell_type": "markdown",
      "metadata": {
        "colab_type": "text",
        "id": "SE5JadlwpqM6"
      },
      "source": [
        "<b>the optimal solution for the missing datas in this example is to drop them out.</b>"
      ]
    },
    {
      "cell_type": "code",
      "metadata": {
        "colab_type": "code",
        "id": "9rsoJqwnpqM7",
        "colab": {}
      },
      "source": [
        "df_original = df.copy() # later we will need all Confirmed,Death and Recovered collumns for all date uncluding 14,15 April\n",
        "\n",
        "df = df[df.index != '2020-04-14']\n",
        "df = df[df.index != '2020-04-15']"
      ],
      "execution_count": 63,
      "outputs": []
    },
    {
      "cell_type": "markdown",
      "metadata": {
        "colab_type": "text",
        "id": "PQWA-JMwpqNA"
      },
      "source": [
        "<b>Daily increases of total test</b>"
      ]
    },
    {
      "cell_type": "code",
      "metadata": {
        "colab_type": "code",
        "id": "i1TAet47pqNB",
        "colab": {
          "base_uri": "https://localhost:8080/",
          "height": 356
        },
        "outputId": "2ec04986-c9be-42b7-b7ce-209d2ab8a5f9"
      },
      "source": [
        "plt.figure(figsize=(10,5))\n",
        "sns.lineplot(data = df['Total Test'],label='Total Test')\n",
        "plt.xlabel('Date')\n",
        "plt.ylabel('Number of tests')"
      ],
      "execution_count": 64,
      "outputs": [
        {
          "output_type": "execute_result",
          "data": {
            "text/plain": [
              "Text(0, 0.5, 'Number of tests')"
            ]
          },
          "metadata": {
            "tags": []
          },
          "execution_count": 64
        },
        {
          "output_type": "display_data",
          "data": {
            "image/png": "[encoded data removed]",
            "text/plain": [
              "<Figure size 720x360 with 1 Axes>"
            ]
          },
          "metadata": {
            "tags": [],
            "needs_background": "light"
          }
        }
      ]
    },
    {
      "cell_type": "markdown",
      "metadata": {
        "colab_type": "text",
        "id": "xb4g3kiTpqNG"
      },
      "source": [
        "<b>Correlation between number of tests per day and the new confirmed cases</b>"
      ]
    },
    {
      "cell_type": "code",
      "metadata": {
        "colab_type": "code",
        "id": "AGP21bAwpqNH",
        "colab": {
          "base_uri": "https://localhost:8080/",
          "height": 356
        },
        "outputId": "20afa7e9-ef02-46f8-9a67-ae6cd1a50ef3"
      },
      "source": [
        "plt.figure(figsize=(10,5))\n",
        "sns.regplot(x = df['Total Test'],y = df['Confirmed'])"
      ],
      "execution_count": 65,
      "outputs": [
        {
          "output_type": "execute_result",
          "data": {
            "text/plain": [
              "<matplotlib.axes._subplots.AxesSubplot at 0x7ff2d2eb7940>"
            ]
          },
          "metadata": {
            "tags": []
          },
          "execution_count": 65
        },
        {
          "output_type": "display_data",
          "data": {
            "image/png": "[encoded data removed]",
            "text/plain": [
              "<Figure size 720x360 with 1 Axes>"
            ]
          },
          "metadata": {
            "tags": [],
            "needs_background": "light"
          }
        }
      ]
    },
    {
      "cell_type": "markdown",
      "metadata": {
        "colab_type": "text",
        "id": "JjcfuYffpqNL"
      },
      "source": [
        "<b>Graphing the evolution of total cases per regions</b>"
      ]
    },
    {
      "cell_type": "code",
      "metadata": {
        "colab_type": "code",
        "id": "W23v0hZ2pqNM",
        "colab": {
          "base_uri": "https://localhost:8080/",
          "height": 119
        },
        "outputId": "d6a9a58f-c1a8-49fe-cff8-5a1314782cc0"
      },
      "source": [
        "df.columns"
      ],
      "execution_count": 66,
      "outputs": [
        {
          "output_type": "execute_result",
          "data": {
            "text/plain": [
              "Index(['Confirmed', 'Deaths', 'Recovered', 'Excluded', 'Beni Mellal-Khenifra',\n",
              "       'Casablanca-Settat', 'Draa-Tafilalet', 'Dakhla-Oued Ed-Dahab',\n",
              "       'Fes-Meknes', 'Guelmim-Oued Noun', 'Laayoune-Sakia El Hamra',\n",
              "       'Marrakesh-Safi', 'Oriental', 'Rabat-Sale-Kenitra', 'Souss-Massa',\n",
              "       'Tanger-Tetouan-Al Hoceima', 'Actif', 'Total Test'],\n",
              "      dtype='object')"
            ]
          },
          "metadata": {
            "tags": []
          },
          "execution_count": 66
        }
      ]
    },
    {
      "cell_type": "code",
      "metadata": {
        "colab_type": "code",
        "id": "WjMrk2erpqNQ",
        "colab": {
          "base_uri": "https://localhost:8080/",
          "height": 540
        },
        "outputId": "064d2f93-edbb-4bf0-b945-538f0a2c0913"
      },
      "source": [
        "# Selecting regions\n",
        "Regions1 = ['Beni Mellal-Khenifra',\n",
        "       'Casablanca-Settat', 'Draa-Tafilalet', 'Dakhla-Oued Ed-Dahab',\n",
        "       'Fes-Meknes', 'Laayoune-Sakia El Hamra','Guelmim-Oued Noun', 'Laayoune-Sakia El Hamra',\n",
        "       'Marrakesh-Safi', 'Oriental', 'Rabat-Sale-Kenitra', 'Souss-Massa','Tanger-Tetouan-Al Hoceima']\n",
        "\n",
        "\n",
        "plt.figure(figsize=(14,8))\n",
        "sns.lineplot(data = df[Regions1],dashes=False)\n",
        "plt.text('2020-05-10', 2500, 'Casabalanca-Settat', fontsize=12,color='#ff4500')\n",
        "plt.text('2020-05-12', 1350, 'Marrakesh-Safi', fontsize=12,color='#4682B4')\n",
        "plt.text('2020-05-10', 1100, 'Tanger-Tetouan-Al Hoceima', fontsize=10,color='#FF69B4')\n",
        "plt.text('2020-06-01', 1050, 'Fes-Meknes', fontsize=10,color='#6b8e32')\n",
        "plt.text('2020-05-20', 750, 'Rabat-Sale-Kenitra', fontsize=10,color='#673ab7')\n",
        "plt.text('2020-05-20', 600, 'Draa-Tafilalet', fontsize=10,color='#afb42b')\n",
        "plt.title('Total cases evolution per region',fontsize = 20)"
      ],
      "execution_count": 67,
      "outputs": [
        {
          "output_type": "execute_result",
          "data": {
            "text/plain": [
              "Text(0.5, 1.0, 'Total cases evolution per region')"
            ]
          },
          "metadata": {
            "tags": []
          },
          "execution_count": 67
        },
        {
          "output_type": "display_data",
          "data": {
            "image/png": "[encoded data removed]",
            "text/plain": [
              "<Figure size 1008x576 with 1 Axes>"
            ]
          },
          "metadata": {
            "tags": [],
            "needs_background": "light"
          }
        }
      ]
    },
    {
      "cell_type": "code",
      "metadata": {
        "colab_type": "code",
        "id": "UYEeeWscpqNT",
        "colab": {
          "base_uri": "https://localhost:8080/",
          "height": 534
        },
        "outputId": "2ccfc057-62db-4792-d716-b5a233a772b8"
      },
      "source": [
        "region_bar = df.iloc[[-1]].transpose()\n",
        "region_bar = region_bar.drop(['Confirmed','Recovered','Deaths','Excluded','Actif','Total Test'])\n",
        "region_bar.columns=['Total cases']\n",
        "region_bar.index.name = 'Regions'\n",
        "sns.set(style='dark')\n",
        "plt.figure(figsize=(20,6))\n",
        "sns.barplot(x=region_bar.index,y='Total cases',data=region_bar)\n",
        "plt.xticks(rotation=45)\n",
        "plt.title('Total case per region',fontsize=20)"
      ],
      "execution_count": 68,
      "outputs": [
        {
          "output_type": "execute_result",
          "data": {
            "text/plain": [
              "Text(0.5, 1.0, 'Total case per region')"
            ]
          },
          "metadata": {
            "tags": []
          },
          "execution_count": 68
        },
        {
          "output_type": "display_data",
          "data": {
            "image/png": "[encoded data removed]",
            "text/plain": [
              "<Figure size 1440x432 with 1 Axes>"
            ]
          },
          "metadata": {
            "tags": []
          }
        }
      ]
    },
    {
      "cell_type": "markdown",
      "metadata": {
        "colab_type": "text",
        "id": "B6PZRKzApqNa"
      },
      "source": [
        "<b>Graphing actif cases </b>\n",
        "> > NB : the red vertical lines represents the lockdown periods"
      ]
    },
    {
      "cell_type": "code",
      "metadata": {
        "colab_type": "code",
        "id": "Sz0QYitypqNb",
        "colab": {
          "base_uri": "https://localhost:8080/",
          "height": 535
        },
        "outputId": "e0dd2618-e78c-42f6-b59b-82f57f419201"
      },
      "source": [
        "plt.figure(figsize=(14,8))\n",
        "sns.lineplot(data = df['Actif'],label='Acif')\n",
        "plt.axvline('2020-03-20',ls = '--',c = 'r')\n",
        "plt.axvline('2020-04-20',ls = '--',c = 'r')\n",
        "plt.axvline('2020-05-20',ls = '--',c = 'r')\n",
        "plt.axvline('2020-06-10',ls = '--',c = 'g')\n",
        "plt.text('2020-03-21', 1500, 'Lockdown', fontsize=12,color='#FF0000')\n",
        "plt.text('2020-04-21', 1500, 'Lockdown extended', fontsize=12,color='#FF0000')\n",
        "plt.text('2020-05-21', 1500, 'Lockdown extended', fontsize=12,color='#FF0000')\n",
        "plt.text('2020-06-11', 1500, 'Lockdown End', fontsize=12,color='#00FA00')\n",
        "plt.xlabel('Date')\n",
        "plt.ylabel('Total actif cases')\n",
        "plt.title('Actif cases ')\n",
        "plt.legend()"
      ],
      "execution_count": 69,
      "outputs": [
        {
          "output_type": "execute_result",
          "data": {
            "text/plain": [
              "<matplotlib.legend.Legend at 0x7ff2d3270cf8>"
            ]
          },
          "metadata": {
            "tags": []
          },
          "execution_count": 69
        },
        {
          "output_type": "display_data",
          "data": {
            "image/png": "[encoded data removed]",
            "text/plain": [
              "<Figure size 1008x576 with 1 Axes>"
            ]
          },
          "metadata": {
            "tags": []
          }
        }
      ]
    },
    {
      "cell_type": "markdown",
      "metadata": {
        "colab_type": "text",
        "id": "cYpypA7TpqNf"
      },
      "source": [
        "<b>Pourcentage of Actif,death and recovered cases per day</b>"
      ]
    },
    {
      "cell_type": "code",
      "metadata": {
        "colab_type": "code",
        "id": "7Cy8BgqMpqNf",
        "colab": {
          "base_uri": "https://localhost:8080/",
          "height": 372
        },
        "outputId": "b4f573b0-9995-4390-e4ce-46e34609dcc3"
      },
      "source": [
        "# getting the data that we want to plot\n",
        "plt.figure(figsize=(15,5))\n",
        "dataVar1 =(df_original['Actif']*100/df_original['Confirmed'])[15:]\n",
        "dataVar3 =(df_original['Deaths']*100/df_original['Confirmed'])[15:]\n",
        "dataVar2 =(df_original['Recovered']*100/df_original['Confirmed'])[15:]\n",
        "\n",
        "\n",
        "# plot each data\n",
        "p1 = plt.bar(dataVar1.index, \n",
        "             dataVar1,label='Actif')\n",
        "\n",
        "p2 = plt.bar(dataVar2.index, \n",
        "             dataVar2,\n",
        "             bottom=dataVar1,color='g',label='Recovered')\n",
        "\n",
        "p3 = plt.bar(dataVar3.index,\n",
        "             dataVar3,\n",
        "             bottom=dataVar1+dataVar2,color='r',label='Deaths')\n",
        "\n",
        "plt.xlabel('Date')\n",
        "plt.ylabel('Pourcentage %')\n",
        "plt.title('Pourcentage of distribution of cases')\n",
        "plt.legend()"
      ],
      "execution_count": 70,
      "outputs": [
        {
          "output_type": "execute_result",
          "data": {
            "text/plain": [
              "<matplotlib.legend.Legend at 0x7ff2dcf49ef0>"
            ]
          },
          "metadata": {
            "tags": []
          },
          "execution_count": 70
        },
        {
          "output_type": "display_data",
          "data": {
            "image/png": "[encoded data removed]",
            "text/plain": [
              "<Figure size 1080x360 with 1 Axes>"
            ]
          },
          "metadata": {
            "tags": []
          }
        }
      ]
    },
    {
      "cell_type": "markdown",
      "metadata": {
        "colab_type": "text",
        "id": "_El3EoT_pqNk"
      },
      "source": [
        "<b>Graphing total cases per regions</b>"
      ]
    },
    {
      "cell_type": "code",
      "metadata": {
        "colab_type": "code",
        "id": "07XS-iQVpqNl",
        "colab": {
          "base_uri": "https://localhost:8080/",
          "height": 515
        },
        "outputId": "0f81f842-6fb5-46c3-e9bd-ef852cf56a8b"
      },
      "source": [
        "\n",
        "plt.figure(figsize=(25,10))\n",
        "\n",
        "BM = df['Beni Mellal-Khenifra']\n",
        "CS = df['Casablanca-Settat']\n",
        "DT = df['Draa-Tafilalet']\n",
        "DO = df['Dakhla-Oued Ed-Dahab']\n",
        "FM = df['Fes-Meknes']\n",
        "GO = df['Guelmim-Oued Noun']\n",
        "LS = df['Laayoune-Sakia El Hamra']\n",
        "MS = df['Marrakesh-Safi']\n",
        "Or = df['Oriental']\n",
        "RS = df['Rabat-Sale-Kenitra']\n",
        "SM = df['Souss-Massa']\n",
        "TT = df['Tanger-Tetouan-Al Hoceima']\n",
        "\n",
        "ax1 = plt.subplot(4, 3, 1)\n",
        "sns.lineplot(data = BM,label='Beni Mellal-Khenifra')\n",
        "ax2 = plt.subplot(4, 3, 2)\n",
        "sns.lineplot(data = CS,label='Casablanca-settat')\n",
        "ax3 = plt.subplot(4, 3, 3)\n",
        "sns.lineplot(data = DT,label='Draa-Tafilalet')\n",
        "ax4 = plt.subplot(4, 3, 4)\n",
        "sns.lineplot(data = DO,label='Dakhla-Oued Ed Dahab')\n",
        "ax5 = plt.subplot(4, 3, 5)\n",
        "sns.lineplot(data = FM,label='Fes-Meknes')\n",
        "ax6 = plt.subplot(4, 3, 6)\n",
        "sns.lineplot(data = GO,label='Guelmim Oued Noun')\n",
        "ax7 = plt.subplot(4, 3, 7)\n",
        "sns.lineplot(data = LS,label='Laayoune Sakia El Hamra')\n",
        "ax8 = plt.subplot(4, 3, 8)\n",
        "sns.lineplot(data = MS,label='Marakesh Safi')\n",
        "ax9 = plt.subplot(4, 3, 9)\n",
        "sns.lineplot(data = Or,label='Rabat Sale Kenitra')\n",
        "ax10 = plt.subplot(4, 3, 10)\n",
        "sns.lineplot(data = RS,label='Souss Massa')\n",
        "ax11 = plt.subplot(4, 3, 11)\n",
        "sns.lineplot(data = SM,label='Acif')\n",
        "ax12 = plt.subplot(4, 3, 12)\n",
        "sns.lineplot(data = TT,label='Tanger Tetouane Al Hoceima')\n"
      ],
      "execution_count": 71,
      "outputs": [
        {
          "output_type": "execute_result",
          "data": {
            "text/plain": [
              "<matplotlib.axes._subplots.AxesSubplot at 0x7ff2d29d2780>"
            ]
          },
          "metadata": {
            "tags": []
          },
          "execution_count": 71
        },
        {
          "output_type": "display_data",
          "data": {
            "image/png": "[encoded data removed]",
            "text/plain": [
              "<Figure size 1800x720 with 12 Axes>"
            ]
          },
          "metadata": {
            "tags": []
          }
        }
      ]
    },
    {
      "cell_type": "markdown",
      "metadata": {
        "colab_type": "text",
        "id": "uzahE0TopqNp"
      },
      "source": [
        "<b>Pie Chart of total cases per region</b>"
      ]
    },
    {
      "cell_type": "code",
      "metadata": {
        "colab_type": "code",
        "id": "MfkP-eSqpqNq",
        "colab": {
          "base_uri": "https://localhost:8080/",
          "height": 499
        },
        "outputId": "ad76596f-42cf-42d4-8a78-f99660271be6"
      },
      "source": [
        "plt.figure(figsize=(16,8))\n",
        "Slice = [df['Beni Mellal-Khenifra'][-1],df['Casablanca-Settat'][-1],df['Draa-Tafilalet'][-1],\n",
        "        df['Dakhla-Oued Ed-Dahab'][-1],df['Fes-Meknes'][-1],df['Guelmim-Oued Noun'][-1],\n",
        "        df['Rabat-Sale-Kenitra'][-1],df['Souss-Massa'][-1],df['Tanger-Tetouan-Al Hoceima'][-1],\n",
        "        df['Laayoune-Sakia El Hamra'][-1],df['Marrakesh-Safi'][-1],df['Oriental'][-1]]\n",
        "Labels = ['Beni Mellal-Khenifra','Casablanca-Settat','Draa-Tafilalet','Dakhla-Oued Ed-Dahab','Fes-Meknes',\n",
        "         'Guelmim-Oued Noun','Rabat-Sale-Kenitra','Souss-Massa','Tanger-Tetouan-Al Hoceima','Laayoune-Sakia El Hamra',\n",
        "         'Marrakesh-Safi','Oriental']\n",
        "Colors = ['#f78fA7','#EE204D','#FF7538','#1F75FE','#4CB7A5','#1CAC78','#FCE833', '#926EAE', '#828E84' ,\n",
        "          '#000000', '#008080','#808080']\n",
        "Explode = [0,0,0,0,0,0,0,0,0,0,0,0]\n",
        "plt.pie(Slice,colors = Colors,explode = Explode,shadow = True,autopct='%1.1f%%',\n",
        "        labels = Labels,wedgeprops = {'edgecolor':'white'})\n",
        "\n",
        "\n",
        "plt.title('Pie Chart of Total cases per region')\n"
      ],
      "execution_count": 72,
      "outputs": [
        {
          "output_type": "execute_result",
          "data": {
            "text/plain": [
              "Text(0.5, 1.0, 'Pie Chart of Total cases per region')"
            ]
          },
          "metadata": {
            "tags": []
          },
          "execution_count": 72
        },
        {
          "output_type": "display_data",
          "data": {
            "image/png": "[encoded data removed]",
            "text/plain": [
              "<Figure size 1152x576 with 1 Axes>"
            ]
          },
          "metadata": {
            "tags": []
          }
        }
      ]
    },
    {
      "cell_type": "markdown",
      "metadata": {
        "id": "_qTBpvMnERXP",
        "colab_type": "text"
      },
      "source": [
        "<b>Casablanca-Settat,Tanger-Tetouan Al Hoceima ,Marrakesh Safi have the greatest values of the total cases, because of the comercial,industrial, familial and semi familial epicenter, especially for the cities of Casablanca and Tangier that represent the  largest industrial zones in Morocco.</b>"
      ]
    },
    {
      "cell_type": "markdown",
      "metadata": {
        "id": "l-vpk_JBERXP",
        "colab_type": "text"
      },
      "source": [
        "<div id=\"two\"><h1>2. Predecting data</h1></div>\n",
        "<h4><a href=\"#content\">reture to content table </a></h4>"
      ]
    },
    {
      "cell_type": "markdown",
      "metadata": {
        "colab_type": "text",
        "id": "arE9-LaZpqNx"
      },
      "source": [
        "<b>In this section I will  Forecast Total Number of Cases - Deaths and Confirmed Cases with Prohet</b>\n",
        "\n",
        "<b>Prophet is open source software released by Facebook’s Core Data Science team. It is available for download on CRAN and PyPI.</b>\n",
        "\n",
        "I use Prophet, a procedure for forecasting time series data based on an additive model where non-linear trends are fit with yearly, weekly, and daily seasonality, plus holiday effects. It works best with time series that have strong seasonal effects and several seasons of historical data. Prophet is robust to missing data and shifts in the trend, and typically handles outliers well."
      ]
    },
    {
      "cell_type": "markdown",
      "metadata": {
        "colab_type": "text",
        "id": "lW6lDE9zpqNy"
      },
      "source": [
        "<b>Installing and Importing prophet</b>"
      ]
    },
    {
      "cell_type": "code",
      "metadata": {
        "colab_type": "code",
        "id": "pW_8GQ1ppqNz",
        "colab": {}
      },
      "source": [
        "#pip install fbprophet"
      ],
      "execution_count": 29,
      "outputs": []
    },
    {
      "cell_type": "code",
      "metadata": {
        "colab_type": "code",
        "id": "oyRiX341pqN2",
        "colab": {}
      },
      "source": [
        "from fbprophet import Prophet"
      ],
      "execution_count": 73,
      "outputs": []
    },
    {
      "cell_type": "code",
      "metadata": {
        "colab_type": "code",
        "id": "myd3Vlg_pqN7",
        "colab": {}
      },
      "source": [
        "total_Deaths = df['Deaths']\n",
        "total_Confirmed = df['Confirmed']\n",
        "total_Recovered = df['Recovered']\n",
        "mortaloty_rate = 100*total_Deaths/total_Confirmed"
      ],
      "execution_count": 74,
      "outputs": []
    },
    {
      "cell_type": "markdown",
      "metadata": {
        "id": "RMiZXxokERXh",
        "colab_type": "text"
      },
      "source": [
        "<b>Adding a new daily cases column to our data</b>"
      ]
    },
    {
      "cell_type": "code",
      "metadata": {
        "colab_type": "code",
        "id": "00DzWF9RpqN-",
        "colab": {}
      },
      "source": [
        "# this for loop adds the total confirmed cases for each day\n",
        "new_cases = []\n",
        "for i in range(len(total_Confirmed)):\n",
        "    if i == 0:\n",
        "        new_cases.append(0)\n",
        "    elif total_Confirmed[i] < total_Confirmed[i-1]:\n",
        "        new_cases.append(0)\n",
        "    else:\n",
        "        new_cases_tmp = int(total_Confirmed[i] - total_Confirmed[i-1])\n",
        "        new_cases.append(new_cases_tmp)\n",
        "# transform new_cases to an array  \n",
        "new_cases = np.array(new_cases)\n",
        "df['New cases'] = new_cases"
      ],
      "execution_count": 75,
      "outputs": []
    },
    {
      "cell_type": "markdown",
      "metadata": {
        "id": "NUYFjbjvERXl",
        "colab_type": "text"
      },
      "source": [
        "<b>color the new cases according to the numbers </b>"
      ]
    },
    {
      "cell_type": "code",
      "metadata": {
        "colab_type": "code",
        "id": "DVMc3-QXpqOC",
        "colab": {
          "base_uri": "https://localhost:8080/",
          "height": 1000
        },
        "outputId": "57819ba1-f1f7-4c72-dda4-04721fba870a"
      },
      "source": [
        "df2 = pd.DataFrame(df['New cases'])\n",
        "df2.style.background_gradient(cmap='Reds')"
      ],
      "execution_count": 76,
      "outputs": [
        {
          "output_type": "execute_result",
          "data": {
            "text/html": [
              "<style  type=\"text/css\" >\n",
              "    #T_4de6f36a_b7bf_11ea_a677_0242ac1c0002row0_col0 {\n",
              "            background-color:  #fff5f0;\n",
              "            color:  #000000;\n",
              "        }    #T_4de6f36a_b7bf_11ea_a677_0242ac1c0002row1_col0 {\n",
              "            background-color:  #fff5f0;\n",
              "            color:  #000000;\n",
              "        }    #T_4de6f36a_b7bf_11ea_a677_0242ac1c0002row2_col0 {\n",
              "            background-color:  #fff5f0;\n",
              "            color:  #000000;\n",
              "        }    #T_4de6f36a_b7bf_11ea_a677_0242ac1c0002row3_col0 {\n",
              "            background-color:  #fff5f0;\n",
              "            color:  #000000;\n",
              "        }    #T_4de6f36a_b7bf_11ea_a677_0242ac1c0002row4_col0 {\n",
              "            background-color:  #fff5f0;\n",
              "            color:  #000000;\n",
              "        }    #T_4de6f36a_b7bf_11ea_a677_0242ac1c0002row5_col0 {\n",
              "            background-color:  #fff5f0;\n",
              "            color:  #000000;\n",
              "        }    #T_4de6f36a_b7bf_11ea_a677_0242ac1c0002row6_col0 {\n",
              "            background-color:  #fff4ef;\n",
              "            color:  #000000;\n",
              "        }    #T_4de6f36a_b7bf_11ea_a677_0242ac1c0002row7_col0 {\n",
              "            background-color:  #fff5f0;\n",
              "            color:  #000000;\n",
              "        }    #T_4de6f36a_b7bf_11ea_a677_0242ac1c0002row8_col0 {\n",
              "            background-color:  #fff4ee;\n",
              "            color:  #000000;\n",
              "        }    #T_4de6f36a_b7bf_11ea_a677_0242ac1c0002row9_col0 {\n",
              "            background-color:  #fff5f0;\n",
              "            color:  #000000;\n",
              "        }    #T_4de6f36a_b7bf_11ea_a677_0242ac1c0002row10_col0 {\n",
              "            background-color:  #fff5f0;\n",
              "            color:  #000000;\n",
              "        }    #T_4de6f36a_b7bf_11ea_a677_0242ac1c0002row11_col0 {\n",
              "            background-color:  #fff3ed;\n",
              "            color:  #000000;\n",
              "        }    #T_4de6f36a_b7bf_11ea_a677_0242ac1c0002row12_col0 {\n",
              "            background-color:  #fff2ec;\n",
              "            color:  #000000;\n",
              "        }    #T_4de6f36a_b7bf_11ea_a677_0242ac1c0002row13_col0 {\n",
              "            background-color:  #fff2eb;\n",
              "            color:  #000000;\n",
              "        }    #T_4de6f36a_b7bf_11ea_a677_0242ac1c0002row14_col0 {\n",
              "            background-color:  #fff2ec;\n",
              "            color:  #000000;\n",
              "        }    #T_4de6f36a_b7bf_11ea_a677_0242ac1c0002row15_col0 {\n",
              "            background-color:  #fff3ed;\n",
              "            color:  #000000;\n",
              "        }    #T_4de6f36a_b7bf_11ea_a677_0242ac1c0002row16_col0 {\n",
              "            background-color:  #fff1ea;\n",
              "            color:  #000000;\n",
              "        }    #T_4de6f36a_b7bf_11ea_a677_0242ac1c0002row17_col0 {\n",
              "            background-color:  #fff4ee;\n",
              "            color:  #000000;\n",
              "        }    #T_4de6f36a_b7bf_11ea_a677_0242ac1c0002row18_col0 {\n",
              "            background-color:  #ffeee7;\n",
              "            color:  #000000;\n",
              "        }    #T_4de6f36a_b7bf_11ea_a677_0242ac1c0002row19_col0 {\n",
              "            background-color:  #fff2ec;\n",
              "            color:  #000000;\n",
              "        }    #T_4de6f36a_b7bf_11ea_a677_0242ac1c0002row20_col0 {\n",
              "            background-color:  #fff1ea;\n",
              "            color:  #000000;\n",
              "        }    #T_4de6f36a_b7bf_11ea_a677_0242ac1c0002row21_col0 {\n",
              "            background-color:  #feeae1;\n",
              "            color:  #000000;\n",
              "        }    #T_4de6f36a_b7bf_11ea_a677_0242ac1c0002row22_col0 {\n",
              "            background-color:  #ffede5;\n",
              "            color:  #000000;\n",
              "        }    #T_4de6f36a_b7bf_11ea_a677_0242ac1c0002row23_col0 {\n",
              "            background-color:  #fee4d8;\n",
              "            color:  #000000;\n",
              "        }    #T_4de6f36a_b7bf_11ea_a677_0242ac1c0002row24_col0 {\n",
              "            background-color:  #fee6da;\n",
              "            color:  #000000;\n",
              "        }    #T_4de6f36a_b7bf_11ea_a677_0242ac1c0002row25_col0 {\n",
              "            background-color:  #fedfd0;\n",
              "            color:  #000000;\n",
              "        }    #T_4de6f36a_b7bf_11ea_a677_0242ac1c0002row26_col0 {\n",
              "            background-color:  #fee3d7;\n",
              "            color:  #000000;\n",
              "        }    #T_4de6f36a_b7bf_11ea_a677_0242ac1c0002row27_col0 {\n",
              "            background-color:  #fedbcc;\n",
              "            color:  #000000;\n",
              "        }    #T_4de6f36a_b7bf_11ea_a677_0242ac1c0002row28_col0 {\n",
              "            background-color:  #fedbcc;\n",
              "            color:  #000000;\n",
              "        }    #T_4de6f36a_b7bf_11ea_a677_0242ac1c0002row29_col0 {\n",
              "            background-color:  #fee3d6;\n",
              "            color:  #000000;\n",
              "        }    #T_4de6f36a_b7bf_11ea_a677_0242ac1c0002row30_col0 {\n",
              "            background-color:  #feeae0;\n",
              "            color:  #000000;\n",
              "        }    #T_4de6f36a_b7bf_11ea_a677_0242ac1c0002row31_col0 {\n",
              "            background-color:  #fee5d8;\n",
              "            color:  #000000;\n",
              "        }    #T_4de6f36a_b7bf_11ea_a677_0242ac1c0002row32_col0 {\n",
              "            background-color:  #fed8c7;\n",
              "            color:  #000000;\n",
              "        }    #T_4de6f36a_b7bf_11ea_a677_0242ac1c0002row33_col0 {\n",
              "            background-color:  #fcbfa7;\n",
              "            color:  #000000;\n",
              "        }    #T_4de6f36a_b7bf_11ea_a677_0242ac1c0002row34_col0 {\n",
              "            background-color:  #fdcdb9;\n",
              "            color:  #000000;\n",
              "        }    #T_4de6f36a_b7bf_11ea_a677_0242ac1c0002row35_col0 {\n",
              "            background-color:  #fdcebb;\n",
              "            color:  #000000;\n",
              "        }    #T_4de6f36a_b7bf_11ea_a677_0242ac1c0002row36_col0 {\n",
              "            background-color:  #fee1d4;\n",
              "            color:  #000000;\n",
              "        }    #T_4de6f36a_b7bf_11ea_a677_0242ac1c0002row37_col0 {\n",
              "            background-color:  #fdd3c1;\n",
              "            color:  #000000;\n",
              "        }    #T_4de6f36a_b7bf_11ea_a677_0242ac1c0002row38_col0 {\n",
              "            background-color:  #fdcebb;\n",
              "            color:  #000000;\n",
              "        }    #T_4de6f36a_b7bf_11ea_a677_0242ac1c0002row39_col0 {\n",
              "            background-color:  #fedccd;\n",
              "            color:  #000000;\n",
              "        }    #T_4de6f36a_b7bf_11ea_a677_0242ac1c0002row40_col0 {\n",
              "            background-color:  #fdd0bc;\n",
              "            color:  #000000;\n",
              "        }    #T_4de6f36a_b7bf_11ea_a677_0242ac1c0002row41_col0 {\n",
              "            background-color:  #fdc5ae;\n",
              "            color:  #000000;\n",
              "        }    #T_4de6f36a_b7bf_11ea_a677_0242ac1c0002row42_col0 {\n",
              "            background-color:  #fdcdb9;\n",
              "            color:  #000000;\n",
              "        }    #T_4de6f36a_b7bf_11ea_a677_0242ac1c0002row43_col0 {\n",
              "            background-color:  #79040f;\n",
              "            color:  #f1f1f1;\n",
              "        }    #T_4de6f36a_b7bf_11ea_a677_0242ac1c0002row44_col0 {\n",
              "            background-color:  #f96245;\n",
              "            color:  #000000;\n",
              "        }    #T_4de6f36a_b7bf_11ea_a677_0242ac1c0002row45_col0 {\n",
              "            background-color:  #fcc3ab;\n",
              "            color:  #000000;\n",
              "        }    #T_4de6f36a_b7bf_11ea_a677_0242ac1c0002row46_col0 {\n",
              "            background-color:  #fca689;\n",
              "            color:  #000000;\n",
              "        }    #T_4de6f36a_b7bf_11ea_a677_0242ac1c0002row47_col0 {\n",
              "            background-color:  #fc997a;\n",
              "            color:  #000000;\n",
              "        }    #T_4de6f36a_b7bf_11ea_a677_0242ac1c0002row48_col0 {\n",
              "            background-color:  #fcaa8d;\n",
              "            color:  #000000;\n",
              "        }    #T_4de6f36a_b7bf_11ea_a677_0242ac1c0002row49_col0 {\n",
              "            background-color:  #fb7d5d;\n",
              "            color:  #000000;\n",
              "        }    #T_4de6f36a_b7bf_11ea_a677_0242ac1c0002row50_col0 {\n",
              "            background-color:  #fcc3ab;\n",
              "            color:  #000000;\n",
              "        }    #T_4de6f36a_b7bf_11ea_a677_0242ac1c0002row51_col0 {\n",
              "            background-color:  #fc997a;\n",
              "            color:  #000000;\n",
              "        }    #T_4de6f36a_b7bf_11ea_a677_0242ac1c0002row52_col0 {\n",
              "            background-color:  #fcb89e;\n",
              "            color:  #000000;\n",
              "        }    #T_4de6f36a_b7bf_11ea_a677_0242ac1c0002row53_col0 {\n",
              "            background-color:  #fca78b;\n",
              "            color:  #000000;\n",
              "        }    #T_4de6f36a_b7bf_11ea_a677_0242ac1c0002row54_col0 {\n",
              "            background-color:  #fee4d8;\n",
              "            color:  #000000;\n",
              "        }    #T_4de6f36a_b7bf_11ea_a677_0242ac1c0002row55_col0 {\n",
              "            background-color:  #fcbda4;\n",
              "            color:  #000000;\n",
              "        }    #T_4de6f36a_b7bf_11ea_a677_0242ac1c0002row56_col0 {\n",
              "            background-color:  #fee0d2;\n",
              "            color:  #000000;\n",
              "        }    #T_4de6f36a_b7bf_11ea_a677_0242ac1c0002row57_col0 {\n",
              "            background-color:  #fdcdb9;\n",
              "            color:  #000000;\n",
              "        }    #T_4de6f36a_b7bf_11ea_a677_0242ac1c0002row58_col0 {\n",
              "            background-color:  #fcb499;\n",
              "            color:  #000000;\n",
              "        }    #T_4de6f36a_b7bf_11ea_a677_0242ac1c0002row59_col0 {\n",
              "            background-color:  #fcad90;\n",
              "            color:  #000000;\n",
              "        }    #T_4de6f36a_b7bf_11ea_a677_0242ac1c0002row60_col0 {\n",
              "            background-color:  #fca486;\n",
              "            color:  #000000;\n",
              "        }    #T_4de6f36a_b7bf_11ea_a677_0242ac1c0002row61_col0 {\n",
              "            background-color:  #fcb296;\n",
              "            color:  #000000;\n",
              "        }    #T_4de6f36a_b7bf_11ea_a677_0242ac1c0002row62_col0 {\n",
              "            background-color:  #fca98c;\n",
              "            color:  #000000;\n",
              "        }    #T_4de6f36a_b7bf_11ea_a677_0242ac1c0002row63_col0 {\n",
              "            background-color:  #fc9b7c;\n",
              "            color:  #000000;\n",
              "        }    #T_4de6f36a_b7bf_11ea_a677_0242ac1c0002row64_col0 {\n",
              "            background-color:  #fcb89e;\n",
              "            color:  #000000;\n",
              "        }    #T_4de6f36a_b7bf_11ea_a677_0242ac1c0002row65_col0 {\n",
              "            background-color:  #fcaa8d;\n",
              "            color:  #000000;\n",
              "        }    #T_4de6f36a_b7bf_11ea_a677_0242ac1c0002row66_col0 {\n",
              "            background-color:  #fc9474;\n",
              "            color:  #000000;\n",
              "        }    #T_4de6f36a_b7bf_11ea_a677_0242ac1c0002row67_col0 {\n",
              "            background-color:  #fcb095;\n",
              "            color:  #000000;\n",
              "        }    #T_4de6f36a_b7bf_11ea_a677_0242ac1c0002row68_col0 {\n",
              "            background-color:  #fc8969;\n",
              "            color:  #000000;\n",
              "        }    #T_4de6f36a_b7bf_11ea_a677_0242ac1c0002row69_col0 {\n",
              "            background-color:  #fcb99f;\n",
              "            color:  #000000;\n",
              "        }    #T_4de6f36a_b7bf_11ea_a677_0242ac1c0002row70_col0 {\n",
              "            background-color:  #fdd2bf;\n",
              "            color:  #000000;\n",
              "        }    #T_4de6f36a_b7bf_11ea_a677_0242ac1c0002row71_col0 {\n",
              "            background-color:  #fdd1be;\n",
              "            color:  #000000;\n",
              "        }    #T_4de6f36a_b7bf_11ea_a677_0242ac1c0002row72_col0 {\n",
              "            background-color:  #fee7dc;\n",
              "            color:  #000000;\n",
              "        }    #T_4de6f36a_b7bf_11ea_a677_0242ac1c0002row73_col0 {\n",
              "            background-color:  #ffece4;\n",
              "            color:  #000000;\n",
              "        }    #T_4de6f36a_b7bf_11ea_a677_0242ac1c0002row74_col0 {\n",
              "            background-color:  #fc9b7c;\n",
              "            color:  #000000;\n",
              "        }    #T_4de6f36a_b7bf_11ea_a677_0242ac1c0002row75_col0 {\n",
              "            background-color:  #fed9c9;\n",
              "            color:  #000000;\n",
              "        }    #T_4de6f36a_b7bf_11ea_a677_0242ac1c0002row76_col0 {\n",
              "            background-color:  #fedfd0;\n",
              "            color:  #000000;\n",
              "        }    #T_4de6f36a_b7bf_11ea_a677_0242ac1c0002row77_col0 {\n",
              "            background-color:  #fdc9b3;\n",
              "            color:  #000000;\n",
              "        }    #T_4de6f36a_b7bf_11ea_a677_0242ac1c0002row78_col0 {\n",
              "            background-color:  #fedaca;\n",
              "            color:  #000000;\n",
              "        }    #T_4de6f36a_b7bf_11ea_a677_0242ac1c0002row79_col0 {\n",
              "            background-color:  #fcc3ab;\n",
              "            color:  #000000;\n",
              "        }    #T_4de6f36a_b7bf_11ea_a677_0242ac1c0002row80_col0 {\n",
              "            background-color:  #fedccd;\n",
              "            color:  #000000;\n",
              "        }    #T_4de6f36a_b7bf_11ea_a677_0242ac1c0002row81_col0 {\n",
              "            background-color:  #ffeee7;\n",
              "            color:  #000000;\n",
              "        }    #T_4de6f36a_b7bf_11ea_a677_0242ac1c0002row82_col0 {\n",
              "            background-color:  #fdcdb9;\n",
              "            color:  #000000;\n",
              "        }    #T_4de6f36a_b7bf_11ea_a677_0242ac1c0002row83_col0 {\n",
              "            background-color:  #fee7dc;\n",
              "            color:  #000000;\n",
              "        }    #T_4de6f36a_b7bf_11ea_a677_0242ac1c0002row84_col0 {\n",
              "            background-color:  #ffeee6;\n",
              "            color:  #000000;\n",
              "        }    #T_4de6f36a_b7bf_11ea_a677_0242ac1c0002row85_col0 {\n",
              "            background-color:  #fee8de;\n",
              "            color:  #000000;\n",
              "        }    #T_4de6f36a_b7bf_11ea_a677_0242ac1c0002row86_col0 {\n",
              "            background-color:  #fedfd0;\n",
              "            color:  #000000;\n",
              "        }    #T_4de6f36a_b7bf_11ea_a677_0242ac1c0002row87_col0 {\n",
              "            background-color:  #fee1d3;\n",
              "            color:  #000000;\n",
              "        }    #T_4de6f36a_b7bf_11ea_a677_0242ac1c0002row88_col0 {\n",
              "            background-color:  #ffede5;\n",
              "            color:  #000000;\n",
              "        }    #T_4de6f36a_b7bf_11ea_a677_0242ac1c0002row89_col0 {\n",
              "            background-color:  #ffede5;\n",
              "            color:  #000000;\n",
              "        }    #T_4de6f36a_b7bf_11ea_a677_0242ac1c0002row90_col0 {\n",
              "            background-color:  #ffebe2;\n",
              "            color:  #000000;\n",
              "        }    #T_4de6f36a_b7bf_11ea_a677_0242ac1c0002row91_col0 {\n",
              "            background-color:  #fee4d8;\n",
              "            color:  #000000;\n",
              "        }    #T_4de6f36a_b7bf_11ea_a677_0242ac1c0002row92_col0 {\n",
              "            background-color:  #fed9c9;\n",
              "            color:  #000000;\n",
              "        }    #T_4de6f36a_b7bf_11ea_a677_0242ac1c0002row93_col0 {\n",
              "            background-color:  #fee0d2;\n",
              "            color:  #000000;\n",
              "        }    #T_4de6f36a_b7bf_11ea_a677_0242ac1c0002row94_col0 {\n",
              "            background-color:  #fedaca;\n",
              "            color:  #000000;\n",
              "        }    #T_4de6f36a_b7bf_11ea_a677_0242ac1c0002row95_col0 {\n",
              "            background-color:  #fedecf;\n",
              "            color:  #000000;\n",
              "        }    #T_4de6f36a_b7bf_11ea_a677_0242ac1c0002row96_col0 {\n",
              "            background-color:  #fedaca;\n",
              "            color:  #000000;\n",
              "        }    #T_4de6f36a_b7bf_11ea_a677_0242ac1c0002row97_col0 {\n",
              "            background-color:  #fcbba1;\n",
              "            color:  #000000;\n",
              "        }    #T_4de6f36a_b7bf_11ea_a677_0242ac1c0002row98_col0 {\n",
              "            background-color:  #fedfd0;\n",
              "            color:  #000000;\n",
              "        }    #T_4de6f36a_b7bf_11ea_a677_0242ac1c0002row99_col0 {\n",
              "            background-color:  #ffece4;\n",
              "            color:  #000000;\n",
              "        }    #T_4de6f36a_b7bf_11ea_a677_0242ac1c0002row100_col0 {\n",
              "            background-color:  #fedecf;\n",
              "            color:  #000000;\n",
              "        }    #T_4de6f36a_b7bf_11ea_a677_0242ac1c0002row101_col0 {\n",
              "            background-color:  #fed9c9;\n",
              "            color:  #000000;\n",
              "        }    #T_4de6f36a_b7bf_11ea_a677_0242ac1c0002row102_col0 {\n",
              "            background-color:  #fdcebb;\n",
              "            color:  #000000;\n",
              "        }    #T_4de6f36a_b7bf_11ea_a677_0242ac1c0002row103_col0 {\n",
              "            background-color:  #fdd3c1;\n",
              "            color:  #000000;\n",
              "        }    #T_4de6f36a_b7bf_11ea_a677_0242ac1c0002row104_col0 {\n",
              "            background-color:  #fee7dc;\n",
              "            color:  #000000;\n",
              "        }    #T_4de6f36a_b7bf_11ea_a677_0242ac1c0002row105_col0 {\n",
              "            background-color:  #fee1d3;\n",
              "            color:  #000000;\n",
              "        }    #T_4de6f36a_b7bf_11ea_a677_0242ac1c0002row106_col0 {\n",
              "            background-color:  #fedbcc;\n",
              "            color:  #000000;\n",
              "        }    #T_4de6f36a_b7bf_11ea_a677_0242ac1c0002row107_col0 {\n",
              "            background-color:  #67000d;\n",
              "            color:  #f1f1f1;\n",
              "        }    #T_4de6f36a_b7bf_11ea_a677_0242ac1c0002row108_col0 {\n",
              "            background-color:  #fc8464;\n",
              "            color:  #000000;\n",
              "        }</style><table id=\"T_4de6f36a_b7bf_11ea_a677_0242ac1c0002\" ><thead>    <tr>        <th class=\"blank level0\" ></th>        <th class=\"col_heading level0 col0\" >New cases</th>    </tr>    <tr>        <th class=\"index_name level0\" >Date</th>        <th class=\"blank\" ></th>    </tr></thead><tbody>\n",
              "                <tr>\n",
              "                        <th id=\"T_4de6f36a_b7bf_11ea_a677_0242ac1c0002level0_row0\" class=\"row_heading level0 row0\" >2020-03-02 00:00:00</th>\n",
              "                        <td id=\"T_4de6f36a_b7bf_11ea_a677_0242ac1c0002row0_col0\" class=\"data row0 col0\" >0</td>\n",
              "            </tr>\n",
              "            <tr>\n",
              "                        <th id=\"T_4de6f36a_b7bf_11ea_a677_0242ac1c0002level0_row1\" class=\"row_heading level0 row1\" >2020-03-03 00:00:00</th>\n",
              "                        <td id=\"T_4de6f36a_b7bf_11ea_a677_0242ac1c0002row1_col0\" class=\"data row1 col0\" >0</td>\n",
              "            </tr>\n",
              "            <tr>\n",
              "                        <th id=\"T_4de6f36a_b7bf_11ea_a677_0242ac1c0002level0_row2\" class=\"row_heading level0 row2\" >2020-03-04 00:00:00</th>\n",
              "                        <td id=\"T_4de6f36a_b7bf_11ea_a677_0242ac1c0002row2_col0\" class=\"data row2 col0\" >2</td>\n",
              "            </tr>\n",
              "            <tr>\n",
              "                        <th id=\"T_4de6f36a_b7bf_11ea_a677_0242ac1c0002level0_row3\" class=\"row_heading level0 row3\" >2020-03-05 00:00:00</th>\n",
              "                        <td id=\"T_4de6f36a_b7bf_11ea_a677_0242ac1c0002row3_col0\" class=\"data row3 col0\" >0</td>\n",
              "            </tr>\n",
              "            <tr>\n",
              "                        <th id=\"T_4de6f36a_b7bf_11ea_a677_0242ac1c0002level0_row4\" class=\"row_heading level0 row4\" >2020-03-06 00:00:00</th>\n",
              "                        <td id=\"T_4de6f36a_b7bf_11ea_a677_0242ac1c0002row4_col0\" class=\"data row4 col0\" >0</td>\n",
              "            </tr>\n",
              "            <tr>\n",
              "                        <th id=\"T_4de6f36a_b7bf_11ea_a677_0242ac1c0002level0_row5\" class=\"row_heading level0 row5\" >2020-03-07 00:00:00</th>\n",
              "                        <td id=\"T_4de6f36a_b7bf_11ea_a677_0242ac1c0002row5_col0\" class=\"data row5 col0\" >0</td>\n",
              "            </tr>\n",
              "            <tr>\n",
              "                        <th id=\"T_4de6f36a_b7bf_11ea_a677_0242ac1c0002level0_row6\" class=\"row_heading level0 row6\" >2020-03-08 00:00:00</th>\n",
              "                        <td id=\"T_4de6f36a_b7bf_11ea_a677_0242ac1c0002row6_col0\" class=\"data row6 col0\" >3</td>\n",
              "            </tr>\n",
              "            <tr>\n",
              "                        <th id=\"T_4de6f36a_b7bf_11ea_a677_0242ac1c0002level0_row7\" class=\"row_heading level0 row7\" >2020-03-09 00:00:00</th>\n",
              "                        <td id=\"T_4de6f36a_b7bf_11ea_a677_0242ac1c0002row7_col0\" class=\"data row7 col0\" >0</td>\n",
              "            </tr>\n",
              "            <tr>\n",
              "                        <th id=\"T_4de6f36a_b7bf_11ea_a677_0242ac1c0002level0_row8\" class=\"row_heading level0 row8\" >2020-03-10 00:00:00</th>\n",
              "                        <td id=\"T_4de6f36a_b7bf_11ea_a677_0242ac1c0002row8_col0\" class=\"data row8 col0\" >5</td>\n",
              "            </tr>\n",
              "            <tr>\n",
              "                        <th id=\"T_4de6f36a_b7bf_11ea_a677_0242ac1c0002level0_row9\" class=\"row_heading level0 row9\" >2020-03-11 00:00:00</th>\n",
              "                        <td id=\"T_4de6f36a_b7bf_11ea_a677_0242ac1c0002row9_col0\" class=\"data row9 col0\" >1</td>\n",
              "            </tr>\n",
              "            <tr>\n",
              "                        <th id=\"T_4de6f36a_b7bf_11ea_a677_0242ac1c0002level0_row10\" class=\"row_heading level0 row10\" >2020-03-12 00:00:00</th>\n",
              "                        <td id=\"T_4de6f36a_b7bf_11ea_a677_0242ac1c0002row10_col0\" class=\"data row10 col0\" >0</td>\n",
              "            </tr>\n",
              "            <tr>\n",
              "                        <th id=\"T_4de6f36a_b7bf_11ea_a677_0242ac1c0002level0_row11\" class=\"row_heading level0 row11\" >2020-03-13 00:00:00</th>\n",
              "                        <td id=\"T_4de6f36a_b7bf_11ea_a677_0242ac1c0002row11_col0\" class=\"data row11 col0\" >7</td>\n",
              "            </tr>\n",
              "            <tr>\n",
              "                        <th id=\"T_4de6f36a_b7bf_11ea_a677_0242ac1c0002level0_row12\" class=\"row_heading level0 row12\" >2020-03-14 00:00:00</th>\n",
              "                        <td id=\"T_4de6f36a_b7bf_11ea_a677_0242ac1c0002row12_col0\" class=\"data row12 col0\" >10</td>\n",
              "            </tr>\n",
              "            <tr>\n",
              "                        <th id=\"T_4de6f36a_b7bf_11ea_a677_0242ac1c0002level0_row13\" class=\"row_heading level0 row13\" >2020-03-15 00:00:00</th>\n",
              "                        <td id=\"T_4de6f36a_b7bf_11ea_a677_0242ac1c0002row13_col0\" class=\"data row13 col0\" >11</td>\n",
              "            </tr>\n",
              "            <tr>\n",
              "                        <th id=\"T_4de6f36a_b7bf_11ea_a677_0242ac1c0002level0_row14\" class=\"row_heading level0 row14\" >2020-03-16 00:00:00</th>\n",
              "                        <td id=\"T_4de6f36a_b7bf_11ea_a677_0242ac1c0002row14_col0\" class=\"data row14 col0\" >9</td>\n",
              "            </tr>\n",
              "            <tr>\n",
              "                        <th id=\"T_4de6f36a_b7bf_11ea_a677_0242ac1c0002level0_row15\" class=\"row_heading level0 row15\" >2020-03-17 00:00:00</th>\n",
              "                        <td id=\"T_4de6f36a_b7bf_11ea_a677_0242ac1c0002row15_col0\" class=\"data row15 col0\" >7</td>\n",
              "            </tr>\n",
              "            <tr>\n",
              "                        <th id=\"T_4de6f36a_b7bf_11ea_a677_0242ac1c0002level0_row16\" class=\"row_heading level0 row16\" >2020-03-18 00:00:00</th>\n",
              "                        <td id=\"T_4de6f36a_b7bf_11ea_a677_0242ac1c0002row16_col0\" class=\"data row16 col0\" >14</td>\n",
              "            </tr>\n",
              "            <tr>\n",
              "                        <th id=\"T_4de6f36a_b7bf_11ea_a677_0242ac1c0002level0_row17\" class=\"row_heading level0 row17\" >2020-03-19 00:00:00</th>\n",
              "                        <td id=\"T_4de6f36a_b7bf_11ea_a677_0242ac1c0002row17_col0\" class=\"data row17 col0\" >5</td>\n",
              "            </tr>\n",
              "            <tr>\n",
              "                        <th id=\"T_4de6f36a_b7bf_11ea_a677_0242ac1c0002level0_row18\" class=\"row_heading level0 row18\" >2020-03-20 00:00:00</th>\n",
              "                        <td id=\"T_4de6f36a_b7bf_11ea_a677_0242ac1c0002row18_col0\" class=\"data row18 col0\" >23</td>\n",
              "            </tr>\n",
              "            <tr>\n",
              "                        <th id=\"T_4de6f36a_b7bf_11ea_a677_0242ac1c0002level0_row19\" class=\"row_heading level0 row19\" >2020-03-21 00:00:00</th>\n",
              "                        <td id=\"T_4de6f36a_b7bf_11ea_a677_0242ac1c0002row19_col0\" class=\"data row19 col0\" >10</td>\n",
              "            </tr>\n",
              "            <tr>\n",
              "                        <th id=\"T_4de6f36a_b7bf_11ea_a677_0242ac1c0002level0_row20\" class=\"row_heading level0 row20\" >2020-03-22 00:00:00</th>\n",
              "                        <td id=\"T_4de6f36a_b7bf_11ea_a677_0242ac1c0002row20_col0\" class=\"data row20 col0\" >13</td>\n",
              "            </tr>\n",
              "            <tr>\n",
              "                        <th id=\"T_4de6f36a_b7bf_11ea_a677_0242ac1c0002level0_row21\" class=\"row_heading level0 row21\" >2020-03-23 00:00:00</th>\n",
              "                        <td id=\"T_4de6f36a_b7bf_11ea_a677_0242ac1c0002row21_col0\" class=\"data row21 col0\" >34</td>\n",
              "            </tr>\n",
              "            <tr>\n",
              "                        <th id=\"T_4de6f36a_b7bf_11ea_a677_0242ac1c0002level0_row22\" class=\"row_heading level0 row22\" >2020-03-24 00:00:00</th>\n",
              "                        <td id=\"T_4de6f36a_b7bf_11ea_a677_0242ac1c0002row22_col0\" class=\"data row22 col0\" >27</td>\n",
              "            </tr>\n",
              "            <tr>\n",
              "                        <th id=\"T_4de6f36a_b7bf_11ea_a677_0242ac1c0002level0_row23\" class=\"row_heading level0 row23\" >2020-03-25 00:00:00</th>\n",
              "                        <td id=\"T_4de6f36a_b7bf_11ea_a677_0242ac1c0002row23_col0\" class=\"data row23 col0\" >55</td>\n",
              "            </tr>\n",
              "            <tr>\n",
              "                        <th id=\"T_4de6f36a_b7bf_11ea_a677_0242ac1c0002level0_row24\" class=\"row_heading level0 row24\" >2020-03-26 00:00:00</th>\n",
              "                        <td id=\"T_4de6f36a_b7bf_11ea_a677_0242ac1c0002row24_col0\" class=\"data row24 col0\" >50</td>\n",
              "            </tr>\n",
              "            <tr>\n",
              "                        <th id=\"T_4de6f36a_b7bf_11ea_a677_0242ac1c0002level0_row25\" class=\"row_heading level0 row25\" >2020-03-27 00:00:00</th>\n",
              "                        <td id=\"T_4de6f36a_b7bf_11ea_a677_0242ac1c0002row25_col0\" class=\"data row25 col0\" >70</td>\n",
              "            </tr>\n",
              "            <tr>\n",
              "                        <th id=\"T_4de6f36a_b7bf_11ea_a677_0242ac1c0002level0_row26\" class=\"row_heading level0 row26\" >2020-03-28 00:00:00</th>\n",
              "                        <td id=\"T_4de6f36a_b7bf_11ea_a677_0242ac1c0002row26_col0\" class=\"data row26 col0\" >57</td>\n",
              "            </tr>\n",
              "            <tr>\n",
              "                        <th id=\"T_4de6f36a_b7bf_11ea_a677_0242ac1c0002level0_row27\" class=\"row_heading level0 row27\" >2020-03-29 00:00:00</th>\n",
              "                        <td id=\"T_4de6f36a_b7bf_11ea_a677_0242ac1c0002row27_col0\" class=\"data row27 col0\" >77</td>\n",
              "            </tr>\n",
              "            <tr>\n",
              "                        <th id=\"T_4de6f36a_b7bf_11ea_a677_0242ac1c0002level0_row28\" class=\"row_heading level0 row28\" >2020-03-30 00:00:00</th>\n",
              "                        <td id=\"T_4de6f36a_b7bf_11ea_a677_0242ac1c0002row28_col0\" class=\"data row28 col0\" >77</td>\n",
              "            </tr>\n",
              "            <tr>\n",
              "                        <th id=\"T_4de6f36a_b7bf_11ea_a677_0242ac1c0002level0_row29\" class=\"row_heading level0 row29\" >2020-03-31 00:00:00</th>\n",
              "                        <td id=\"T_4de6f36a_b7bf_11ea_a677_0242ac1c0002row29_col0\" class=\"data row29 col0\" >61</td>\n",
              "            </tr>\n",
              "            <tr>\n",
              "                        <th id=\"T_4de6f36a_b7bf_11ea_a677_0242ac1c0002level0_row30\" class=\"row_heading level0 row30\" >2020-04-01 00:00:00</th>\n",
              "                        <td id=\"T_4de6f36a_b7bf_11ea_a677_0242ac1c0002row30_col0\" class=\"data row30 col0\" >37</td>\n",
              "            </tr>\n",
              "            <tr>\n",
              "                        <th id=\"T_4de6f36a_b7bf_11ea_a677_0242ac1c0002level0_row31\" class=\"row_heading level0 row31\" >2020-04-02 00:00:00</th>\n",
              "                        <td id=\"T_4de6f36a_b7bf_11ea_a677_0242ac1c0002row31_col0\" class=\"data row31 col0\" >54</td>\n",
              "            </tr>\n",
              "            <tr>\n",
              "                        <th id=\"T_4de6f36a_b7bf_11ea_a677_0242ac1c0002level0_row32\" class=\"row_heading level0 row32\" >2020-04-03 00:00:00</th>\n",
              "                        <td id=\"T_4de6f36a_b7bf_11ea_a677_0242ac1c0002row32_col0\" class=\"data row32 col0\" >83</td>\n",
              "            </tr>\n",
              "            <tr>\n",
              "                        <th id=\"T_4de6f36a_b7bf_11ea_a677_0242ac1c0002level0_row33\" class=\"row_heading level0 row33\" >2020-04-04 00:00:00</th>\n",
              "                        <td id=\"T_4de6f36a_b7bf_11ea_a677_0242ac1c0002row33_col0\" class=\"data row33 col0\" >128</td>\n",
              "            </tr>\n",
              "            <tr>\n",
              "                        <th id=\"T_4de6f36a_b7bf_11ea_a677_0242ac1c0002level0_row34\" class=\"row_heading level0 row34\" >2020-04-05 00:00:00</th>\n",
              "                        <td id=\"T_4de6f36a_b7bf_11ea_a677_0242ac1c0002row34_col0\" class=\"data row34 col0\" >102</td>\n",
              "            </tr>\n",
              "            <tr>\n",
              "                        <th id=\"T_4de6f36a_b7bf_11ea_a677_0242ac1c0002level0_row35\" class=\"row_heading level0 row35\" >2020-04-06 00:00:00</th>\n",
              "                        <td id=\"T_4de6f36a_b7bf_11ea_a677_0242ac1c0002row35_col0\" class=\"data row35 col0\" >99</td>\n",
              "            </tr>\n",
              "            <tr>\n",
              "                        <th id=\"T_4de6f36a_b7bf_11ea_a677_0242ac1c0002level0_row36\" class=\"row_heading level0 row36\" >2020-04-07 00:00:00</th>\n",
              "                        <td id=\"T_4de6f36a_b7bf_11ea_a677_0242ac1c0002row36_col0\" class=\"data row36 col0\" >64</td>\n",
              "            </tr>\n",
              "            <tr>\n",
              "                        <th id=\"T_4de6f36a_b7bf_11ea_a677_0242ac1c0002level0_row37\" class=\"row_heading level0 row37\" >2020-04-08 00:00:00</th>\n",
              "                        <td id=\"T_4de6f36a_b7bf_11ea_a677_0242ac1c0002row37_col0\" class=\"data row37 col0\" >91</td>\n",
              "            </tr>\n",
              "            <tr>\n",
              "                        <th id=\"T_4de6f36a_b7bf_11ea_a677_0242ac1c0002level0_row38\" class=\"row_heading level0 row38\" >2020-04-09 00:00:00</th>\n",
              "                        <td id=\"T_4de6f36a_b7bf_11ea_a677_0242ac1c0002row38_col0\" class=\"data row38 col0\" >99</td>\n",
              "            </tr>\n",
              "            <tr>\n",
              "                        <th id=\"T_4de6f36a_b7bf_11ea_a677_0242ac1c0002level0_row39\" class=\"row_heading level0 row39\" >2020-04-10 00:00:00</th>\n",
              "                        <td id=\"T_4de6f36a_b7bf_11ea_a677_0242ac1c0002row39_col0\" class=\"data row39 col0\" >74</td>\n",
              "            </tr>\n",
              "            <tr>\n",
              "                        <th id=\"T_4de6f36a_b7bf_11ea_a677_0242ac1c0002level0_row40\" class=\"row_heading level0 row40\" >2020-04-11 00:00:00</th>\n",
              "                        <td id=\"T_4de6f36a_b7bf_11ea_a677_0242ac1c0002row40_col0\" class=\"data row40 col0\" >97</td>\n",
              "            </tr>\n",
              "            <tr>\n",
              "                        <th id=\"T_4de6f36a_b7bf_11ea_a677_0242ac1c0002level0_row41\" class=\"row_heading level0 row41\" >2020-04-12 00:00:00</th>\n",
              "                        <td id=\"T_4de6f36a_b7bf_11ea_a677_0242ac1c0002row41_col0\" class=\"data row41 col0\" >116</td>\n",
              "            </tr>\n",
              "            <tr>\n",
              "                        <th id=\"T_4de6f36a_b7bf_11ea_a677_0242ac1c0002level0_row42\" class=\"row_heading level0 row42\" >2020-04-13 00:00:00</th>\n",
              "                        <td id=\"T_4de6f36a_b7bf_11ea_a677_0242ac1c0002row42_col0\" class=\"data row42 col0\" >102</td>\n",
              "            </tr>\n",
              "            <tr>\n",
              "                        <th id=\"T_4de6f36a_b7bf_11ea_a677_0242ac1c0002level0_row43\" class=\"row_heading level0 row43\" >2020-04-16 00:00:00</th>\n",
              "                        <td id=\"T_4de6f36a_b7bf_11ea_a677_0242ac1c0002row43_col0\" class=\"data row43 col0\" >520</td>\n",
              "            </tr>\n",
              "            <tr>\n",
              "                        <th id=\"T_4de6f36a_b7bf_11ea_a677_0242ac1c0002level0_row44\" class=\"row_heading level0 row44\" >2020-04-17 00:00:00</th>\n",
              "                        <td id=\"T_4de6f36a_b7bf_11ea_a677_0242ac1c0002row44_col0\" class=\"data row44 col0\" >281</td>\n",
              "            </tr>\n",
              "            <tr>\n",
              "                        <th id=\"T_4de6f36a_b7bf_11ea_a677_0242ac1c0002level0_row45\" class=\"row_heading level0 row45\" >2020-04-18 00:00:00</th>\n",
              "                        <td id=\"T_4de6f36a_b7bf_11ea_a677_0242ac1c0002row45_col0\" class=\"data row45 col0\" >121</td>\n",
              "            </tr>\n",
              "            <tr>\n",
              "                        <th id=\"T_4de6f36a_b7bf_11ea_a677_0242ac1c0002level0_row46\" class=\"row_heading level0 row46\" >2020-04-19 00:00:00</th>\n",
              "                        <td id=\"T_4de6f36a_b7bf_11ea_a677_0242ac1c0002row46_col0\" class=\"data row46 col0\" >170</td>\n",
              "            </tr>\n",
              "            <tr>\n",
              "                        <th id=\"T_4de6f36a_b7bf_11ea_a677_0242ac1c0002level0_row47\" class=\"row_heading level0 row47\" >2020-04-20 00:00:00</th>\n",
              "                        <td id=\"T_4de6f36a_b7bf_11ea_a677_0242ac1c0002row47_col0\" class=\"data row47 col0\" >191</td>\n",
              "            </tr>\n",
              "            <tr>\n",
              "                        <th id=\"T_4de6f36a_b7bf_11ea_a677_0242ac1c0002level0_row48\" class=\"row_heading level0 row48\" >2020-04-21 00:00:00</th>\n",
              "                        <td id=\"T_4de6f36a_b7bf_11ea_a677_0242ac1c0002row48_col0\" class=\"data row48 col0\" >163</td>\n",
              "            </tr>\n",
              "            <tr>\n",
              "                        <th id=\"T_4de6f36a_b7bf_11ea_a677_0242ac1c0002level0_row49\" class=\"row_heading level0 row49\" >2020-04-22 00:00:00</th>\n",
              "                        <td id=\"T_4de6f36a_b7bf_11ea_a677_0242ac1c0002row49_col0\" class=\"data row49 col0\" >237</td>\n",
              "            </tr>\n",
              "            <tr>\n",
              "                        <th id=\"T_4de6f36a_b7bf_11ea_a677_0242ac1c0002level0_row50\" class=\"row_heading level0 row50\" >2020-04-23 00:00:00</th>\n",
              "                        <td id=\"T_4de6f36a_b7bf_11ea_a677_0242ac1c0002row50_col0\" class=\"data row50 col0\" >122</td>\n",
              "            </tr>\n",
              "            <tr>\n",
              "                        <th id=\"T_4de6f36a_b7bf_11ea_a677_0242ac1c0002level0_row51\" class=\"row_heading level0 row51\" >2020-04-24 00:00:00</th>\n",
              "                        <td id=\"T_4de6f36a_b7bf_11ea_a677_0242ac1c0002row51_col0\" class=\"data row51 col0\" >190</td>\n",
              "            </tr>\n",
              "            <tr>\n",
              "                        <th id=\"T_4de6f36a_b7bf_11ea_a677_0242ac1c0002level0_row52\" class=\"row_heading level0 row52\" >2020-04-25 00:00:00</th>\n",
              "                        <td id=\"T_4de6f36a_b7bf_11ea_a677_0242ac1c0002row52_col0\" class=\"data row52 col0\" >139</td>\n",
              "            </tr>\n",
              "            <tr>\n",
              "                        <th id=\"T_4de6f36a_b7bf_11ea_a677_0242ac1c0002level0_row53\" class=\"row_heading level0 row53\" >2020-04-26 00:00:00</th>\n",
              "                        <td id=\"T_4de6f36a_b7bf_11ea_a677_0242ac1c0002row53_col0\" class=\"data row53 col0\" >168</td>\n",
              "            </tr>\n",
              "            <tr>\n",
              "                        <th id=\"T_4de6f36a_b7bf_11ea_a677_0242ac1c0002level0_row54\" class=\"row_heading level0 row54\" >2020-04-27 00:00:00</th>\n",
              "                        <td id=\"T_4de6f36a_b7bf_11ea_a677_0242ac1c0002row54_col0\" class=\"data row54 col0\" >55</td>\n",
              "            </tr>\n",
              "            <tr>\n",
              "                        <th id=\"T_4de6f36a_b7bf_11ea_a677_0242ac1c0002level0_row55\" class=\"row_heading level0 row55\" >2020-04-28 00:00:00</th>\n",
              "                        <td id=\"T_4de6f36a_b7bf_11ea_a677_0242ac1c0002row55_col0\" class=\"data row55 col0\" >132</td>\n",
              "            </tr>\n",
              "            <tr>\n",
              "                        <th id=\"T_4de6f36a_b7bf_11ea_a677_0242ac1c0002level0_row56\" class=\"row_heading level0 row56\" >2020-04-29 00:00:00</th>\n",
              "                        <td id=\"T_4de6f36a_b7bf_11ea_a677_0242ac1c0002row56_col0\" class=\"data row56 col0\" >69</td>\n",
              "            </tr>\n",
              "            <tr>\n",
              "                        <th id=\"T_4de6f36a_b7bf_11ea_a677_0242ac1c0002level0_row57\" class=\"row_heading level0 row57\" >2020-04-30 00:00:00</th>\n",
              "                        <td id=\"T_4de6f36a_b7bf_11ea_a677_0242ac1c0002row57_col0\" class=\"data row57 col0\" >102</td>\n",
              "            </tr>\n",
              "            <tr>\n",
              "                        <th id=\"T_4de6f36a_b7bf_11ea_a677_0242ac1c0002level0_row58\" class=\"row_heading level0 row58\" >2020-05-01 00:00:00</th>\n",
              "                        <td id=\"T_4de6f36a_b7bf_11ea_a677_0242ac1c0002row58_col0\" class=\"data row58 col0\" >146</td>\n",
              "            </tr>\n",
              "            <tr>\n",
              "                        <th id=\"T_4de6f36a_b7bf_11ea_a677_0242ac1c0002level0_row59\" class=\"row_heading level0 row59\" >2020-05-02 00:00:00</th>\n",
              "                        <td id=\"T_4de6f36a_b7bf_11ea_a677_0242ac1c0002row59_col0\" class=\"data row59 col0\" >160</td>\n",
              "            </tr>\n",
              "            <tr>\n",
              "                        <th id=\"T_4de6f36a_b7bf_11ea_a677_0242ac1c0002level0_row60\" class=\"row_heading level0 row60\" >2020-05-03 00:00:00</th>\n",
              "                        <td id=\"T_4de6f36a_b7bf_11ea_a677_0242ac1c0002row60_col0\" class=\"data row60 col0\" >174</td>\n",
              "            </tr>\n",
              "            <tr>\n",
              "                        <th id=\"T_4de6f36a_b7bf_11ea_a677_0242ac1c0002level0_row61\" class=\"row_heading level0 row61\" >2020-05-04 00:00:00</th>\n",
              "                        <td id=\"T_4de6f36a_b7bf_11ea_a677_0242ac1c0002row61_col0\" class=\"data row61 col0\" >150</td>\n",
              "            </tr>\n",
              "            <tr>\n",
              "                        <th id=\"T_4de6f36a_b7bf_11ea_a677_0242ac1c0002level0_row62\" class=\"row_heading level0 row62\" >2020-05-05 00:00:00</th>\n",
              "                        <td id=\"T_4de6f36a_b7bf_11ea_a677_0242ac1c0002row62_col0\" class=\"data row62 col0\" >166</td>\n",
              "            </tr>\n",
              "            <tr>\n",
              "                        <th id=\"T_4de6f36a_b7bf_11ea_a677_0242ac1c0002level0_row63\" class=\"row_heading level0 row63\" >2020-05-06 00:00:00</th>\n",
              "                        <td id=\"T_4de6f36a_b7bf_11ea_a677_0242ac1c0002row63_col0\" class=\"data row63 col0\" >189</td>\n",
              "            </tr>\n",
              "            <tr>\n",
              "                        <th id=\"T_4de6f36a_b7bf_11ea_a677_0242ac1c0002level0_row64\" class=\"row_heading level0 row64\" >2020-05-07 00:00:00</th>\n",
              "                        <td id=\"T_4de6f36a_b7bf_11ea_a677_0242ac1c0002row64_col0\" class=\"data row64 col0\" >140</td>\n",
              "            </tr>\n",
              "            <tr>\n",
              "                        <th id=\"T_4de6f36a_b7bf_11ea_a677_0242ac1c0002level0_row65\" class=\"row_heading level0 row65\" >2020-05-08 00:00:00</th>\n",
              "                        <td id=\"T_4de6f36a_b7bf_11ea_a677_0242ac1c0002row65_col0\" class=\"data row65 col0\" >163</td>\n",
              "            </tr>\n",
              "            <tr>\n",
              "                        <th id=\"T_4de6f36a_b7bf_11ea_a677_0242ac1c0002level0_row66\" class=\"row_heading level0 row66\" >2020-05-09 00:00:00</th>\n",
              "                        <td id=\"T_4de6f36a_b7bf_11ea_a677_0242ac1c0002row66_col0\" class=\"data row66 col0\" >199</td>\n",
              "            </tr>\n",
              "            <tr>\n",
              "                        <th id=\"T_4de6f36a_b7bf_11ea_a677_0242ac1c0002level0_row67\" class=\"row_heading level0 row67\" >2020-05-10 00:00:00</th>\n",
              "                        <td id=\"T_4de6f36a_b7bf_11ea_a677_0242ac1c0002row67_col0\" class=\"data row67 col0\" >153</td>\n",
              "            </tr>\n",
              "            <tr>\n",
              "                        <th id=\"T_4de6f36a_b7bf_11ea_a677_0242ac1c0002level0_row68\" class=\"row_heading level0 row68\" >2020-05-11 00:00:00</th>\n",
              "                        <td id=\"T_4de6f36a_b7bf_11ea_a677_0242ac1c0002row68_col0\" class=\"data row68 col0\" >218</td>\n",
              "            </tr>\n",
              "            <tr>\n",
              "                        <th id=\"T_4de6f36a_b7bf_11ea_a677_0242ac1c0002level0_row69\" class=\"row_heading level0 row69\" >2020-05-12 00:00:00</th>\n",
              "                        <td id=\"T_4de6f36a_b7bf_11ea_a677_0242ac1c0002row69_col0\" class=\"data row69 col0\" >137</td>\n",
              "            </tr>\n",
              "            <tr>\n",
              "                        <th id=\"T_4de6f36a_b7bf_11ea_a677_0242ac1c0002level0_row70\" class=\"row_heading level0 row70\" >2020-05-13 00:00:00</th>\n",
              "                        <td id=\"T_4de6f36a_b7bf_11ea_a677_0242ac1c0002row70_col0\" class=\"data row70 col0\" >94</td>\n",
              "            </tr>\n",
              "            <tr>\n",
              "                        <th id=\"T_4de6f36a_b7bf_11ea_a677_0242ac1c0002level0_row71\" class=\"row_heading level0 row71\" >2020-05-14 00:00:00</th>\n",
              "                        <td id=\"T_4de6f36a_b7bf_11ea_a677_0242ac1c0002row71_col0\" class=\"data row71 col0\" >95</td>\n",
              "            </tr>\n",
              "            <tr>\n",
              "                        <th id=\"T_4de6f36a_b7bf_11ea_a677_0242ac1c0002level0_row72\" class=\"row_heading level0 row72\" >2020-05-15 00:00:00</th>\n",
              "                        <td id=\"T_4de6f36a_b7bf_11ea_a677_0242ac1c0002row72_col0\" class=\"data row72 col0\" >45</td>\n",
              "            </tr>\n",
              "            <tr>\n",
              "                        <th id=\"T_4de6f36a_b7bf_11ea_a677_0242ac1c0002level0_row73\" class=\"row_heading level0 row73\" >2020-05-16 00:00:00</th>\n",
              "                        <td id=\"T_4de6f36a_b7bf_11ea_a677_0242ac1c0002row73_col0\" class=\"data row73 col0\" >29</td>\n",
              "            </tr>\n",
              "            <tr>\n",
              "                        <th id=\"T_4de6f36a_b7bf_11ea_a677_0242ac1c0002level0_row74\" class=\"row_heading level0 row74\" >2020-05-17 00:00:00</th>\n",
              "                        <td id=\"T_4de6f36a_b7bf_11ea_a677_0242ac1c0002row74_col0\" class=\"data row74 col0\" >189</td>\n",
              "            </tr>\n",
              "            <tr>\n",
              "                        <th id=\"T_4de6f36a_b7bf_11ea_a677_0242ac1c0002level0_row75\" class=\"row_heading level0 row75\" >2020-05-18 00:00:00</th>\n",
              "                        <td id=\"T_4de6f36a_b7bf_11ea_a677_0242ac1c0002row75_col0\" class=\"data row75 col0\" >82</td>\n",
              "            </tr>\n",
              "            <tr>\n",
              "                        <th id=\"T_4de6f36a_b7bf_11ea_a677_0242ac1c0002level0_row76\" class=\"row_heading level0 row76\" >2020-05-19 00:00:00</th>\n",
              "                        <td id=\"T_4de6f36a_b7bf_11ea_a677_0242ac1c0002row76_col0\" class=\"data row76 col0\" >71</td>\n",
              "            </tr>\n",
              "            <tr>\n",
              "                        <th id=\"T_4de6f36a_b7bf_11ea_a677_0242ac1c0002level0_row77\" class=\"row_heading level0 row77\" >2020-05-20 00:00:00</th>\n",
              "                        <td id=\"T_4de6f36a_b7bf_11ea_a677_0242ac1c0002row77_col0\" class=\"data row77 col0\" >110</td>\n",
              "            </tr>\n",
              "            <tr>\n",
              "                        <th id=\"T_4de6f36a_b7bf_11ea_a677_0242ac1c0002level0_row78\" class=\"row_heading level0 row78\" >2020-05-21 00:00:00</th>\n",
              "                        <td id=\"T_4de6f36a_b7bf_11ea_a677_0242ac1c0002row78_col0\" class=\"data row78 col0\" >78</td>\n",
              "            </tr>\n",
              "            <tr>\n",
              "                        <th id=\"T_4de6f36a_b7bf_11ea_a677_0242ac1c0002level0_row79\" class=\"row_heading level0 row79\" >2020-05-22 00:00:00</th>\n",
              "                        <td id=\"T_4de6f36a_b7bf_11ea_a677_0242ac1c0002row79_col0\" class=\"data row79 col0\" >121</td>\n",
              "            </tr>\n",
              "            <tr>\n",
              "                        <th id=\"T_4de6f36a_b7bf_11ea_a677_0242ac1c0002level0_row80\" class=\"row_heading level0 row80\" >2020-05-23 00:00:00</th>\n",
              "                        <td id=\"T_4de6f36a_b7bf_11ea_a677_0242ac1c0002row80_col0\" class=\"data row80 col0\" >74</td>\n",
              "            </tr>\n",
              "            <tr>\n",
              "                        <th id=\"T_4de6f36a_b7bf_11ea_a677_0242ac1c0002level0_row81\" class=\"row_heading level0 row81\" >2020-05-24 00:00:00</th>\n",
              "                        <td id=\"T_4de6f36a_b7bf_11ea_a677_0242ac1c0002row81_col0\" class=\"data row81 col0\" >23</td>\n",
              "            </tr>\n",
              "            <tr>\n",
              "                        <th id=\"T_4de6f36a_b7bf_11ea_a677_0242ac1c0002level0_row82\" class=\"row_heading level0 row82\" >2020-05-25 00:00:00</th>\n",
              "                        <td id=\"T_4de6f36a_b7bf_11ea_a677_0242ac1c0002row82_col0\" class=\"data row82 col0\" >103</td>\n",
              "            </tr>\n",
              "            <tr>\n",
              "                        <th id=\"T_4de6f36a_b7bf_11ea_a677_0242ac1c0002level0_row83\" class=\"row_heading level0 row83\" >2020-05-26 00:00:00</th>\n",
              "                        <td id=\"T_4de6f36a_b7bf_11ea_a677_0242ac1c0002row83_col0\" class=\"data row83 col0\" >45</td>\n",
              "            </tr>\n",
              "            <tr>\n",
              "                        <th id=\"T_4de6f36a_b7bf_11ea_a677_0242ac1c0002level0_row84\" class=\"row_heading level0 row84\" >2020-05-27 00:00:00</th>\n",
              "                        <td id=\"T_4de6f36a_b7bf_11ea_a677_0242ac1c0002row84_col0\" class=\"data row84 col0\" >24</td>\n",
              "            </tr>\n",
              "            <tr>\n",
              "                        <th id=\"T_4de6f36a_b7bf_11ea_a677_0242ac1c0002level0_row85\" class=\"row_heading level0 row85\" >2020-05-28 00:00:00</th>\n",
              "                        <td id=\"T_4de6f36a_b7bf_11ea_a677_0242ac1c0002row85_col0\" class=\"data row85 col0\" >42</td>\n",
              "            </tr>\n",
              "            <tr>\n",
              "                        <th id=\"T_4de6f36a_b7bf_11ea_a677_0242ac1c0002level0_row86\" class=\"row_heading level0 row86\" >2020-05-29 00:00:00</th>\n",
              "                        <td id=\"T_4de6f36a_b7bf_11ea_a677_0242ac1c0002row86_col0\" class=\"data row86 col0\" >71</td>\n",
              "            </tr>\n",
              "            <tr>\n",
              "                        <th id=\"T_4de6f36a_b7bf_11ea_a677_0242ac1c0002level0_row87\" class=\"row_heading level0 row87\" >2020-05-30 00:00:00</th>\n",
              "                        <td id=\"T_4de6f36a_b7bf_11ea_a677_0242ac1c0002row87_col0\" class=\"data row87 col0\" >66</td>\n",
              "            </tr>\n",
              "            <tr>\n",
              "                        <th id=\"T_4de6f36a_b7bf_11ea_a677_0242ac1c0002level0_row88\" class=\"row_heading level0 row88\" >2020-05-31 00:00:00</th>\n",
              "                        <td id=\"T_4de6f36a_b7bf_11ea_a677_0242ac1c0002row88_col0\" class=\"data row88 col0\" >27</td>\n",
              "            </tr>\n",
              "            <tr>\n",
              "                        <th id=\"T_4de6f36a_b7bf_11ea_a677_0242ac1c0002level0_row89\" class=\"row_heading level0 row89\" >2020-06-01 00:00:00</th>\n",
              "                        <td id=\"T_4de6f36a_b7bf_11ea_a677_0242ac1c0002row89_col0\" class=\"data row89 col0\" >26</td>\n",
              "            </tr>\n",
              "            <tr>\n",
              "                        <th id=\"T_4de6f36a_b7bf_11ea_a677_0242ac1c0002level0_row90\" class=\"row_heading level0 row90\" >2020-06-02 00:00:00</th>\n",
              "                        <td id=\"T_4de6f36a_b7bf_11ea_a677_0242ac1c0002row90_col0\" class=\"data row90 col0\" >33</td>\n",
              "            </tr>\n",
              "            <tr>\n",
              "                        <th id=\"T_4de6f36a_b7bf_11ea_a677_0242ac1c0002level0_row91\" class=\"row_heading level0 row91\" >2020-06-03 00:00:00</th>\n",
              "                        <td id=\"T_4de6f36a_b7bf_11ea_a677_0242ac1c0002row91_col0\" class=\"data row91 col0\" >56</td>\n",
              "            </tr>\n",
              "            <tr>\n",
              "                        <th id=\"T_4de6f36a_b7bf_11ea_a677_0242ac1c0002level0_row92\" class=\"row_heading level0 row92\" >2020-06-04 00:00:00</th>\n",
              "                        <td id=\"T_4de6f36a_b7bf_11ea_a677_0242ac1c0002row92_col0\" class=\"data row92 col0\" >81</td>\n",
              "            </tr>\n",
              "            <tr>\n",
              "                        <th id=\"T_4de6f36a_b7bf_11ea_a677_0242ac1c0002level0_row93\" class=\"row_heading level0 row93\" >2020-06-05 00:00:00</th>\n",
              "                        <td id=\"T_4de6f36a_b7bf_11ea_a677_0242ac1c0002row93_col0\" class=\"data row93 col0\" >68</td>\n",
              "            </tr>\n",
              "            <tr>\n",
              "                        <th id=\"T_4de6f36a_b7bf_11ea_a677_0242ac1c0002level0_row94\" class=\"row_heading level0 row94\" >2020-06-06 00:00:00</th>\n",
              "                        <td id=\"T_4de6f36a_b7bf_11ea_a677_0242ac1c0002row94_col0\" class=\"data row94 col0\" >80</td>\n",
              "            </tr>\n",
              "            <tr>\n",
              "                        <th id=\"T_4de6f36a_b7bf_11ea_a677_0242ac1c0002level0_row95\" class=\"row_heading level0 row95\" >2020-06-07 00:00:00</th>\n",
              "                        <td id=\"T_4de6f36a_b7bf_11ea_a677_0242ac1c0002row95_col0\" class=\"data row95 col0\" >73</td>\n",
              "            </tr>\n",
              "            <tr>\n",
              "                        <th id=\"T_4de6f36a_b7bf_11ea_a677_0242ac1c0002level0_row96\" class=\"row_heading level0 row96\" >2020-06-08 00:00:00</th>\n",
              "                        <td id=\"T_4de6f36a_b7bf_11ea_a677_0242ac1c0002row96_col0\" class=\"data row96 col0\" >78</td>\n",
              "            </tr>\n",
              "            <tr>\n",
              "                        <th id=\"T_4de6f36a_b7bf_11ea_a677_0242ac1c0002level0_row97\" class=\"row_heading level0 row97\" >2020-06-09 00:00:00</th>\n",
              "                        <td id=\"T_4de6f36a_b7bf_11ea_a677_0242ac1c0002row97_col0\" class=\"data row97 col0\" >135</td>\n",
              "            </tr>\n",
              "            <tr>\n",
              "                        <th id=\"T_4de6f36a_b7bf_11ea_a677_0242ac1c0002level0_row98\" class=\"row_heading level0 row98\" >2020-06-10 00:00:00</th>\n",
              "                        <td id=\"T_4de6f36a_b7bf_11ea_a677_0242ac1c0002row98_col0\" class=\"data row98 col0\" >71</td>\n",
              "            </tr>\n",
              "            <tr>\n",
              "                        <th id=\"T_4de6f36a_b7bf_11ea_a677_0242ac1c0002level0_row99\" class=\"row_heading level0 row99\" >2020-06-11 00:00:00</th>\n",
              "                        <td id=\"T_4de6f36a_b7bf_11ea_a677_0242ac1c0002row99_col0\" class=\"data row99 col0\" >29</td>\n",
              "            </tr>\n",
              "            <tr>\n",
              "                        <th id=\"T_4de6f36a_b7bf_11ea_a677_0242ac1c0002level0_row100\" class=\"row_heading level0 row100\" >2020-06-12 00:00:00</th>\n",
              "                        <td id=\"T_4de6f36a_b7bf_11ea_a677_0242ac1c0002row100_col0\" class=\"data row100 col0\" >73</td>\n",
              "            </tr>\n",
              "            <tr>\n",
              "                        <th id=\"T_4de6f36a_b7bf_11ea_a677_0242ac1c0002level0_row101\" class=\"row_heading level0 row101\" >2020-06-13 00:00:00</th>\n",
              "                        <td id=\"T_4de6f36a_b7bf_11ea_a677_0242ac1c0002row101_col0\" class=\"data row101 col0\" >82</td>\n",
              "            </tr>\n",
              "            <tr>\n",
              "                        <th id=\"T_4de6f36a_b7bf_11ea_a677_0242ac1c0002level0_row102\" class=\"row_heading level0 row102\" >2020-06-14 00:00:00</th>\n",
              "                        <td id=\"T_4de6f36a_b7bf_11ea_a677_0242ac1c0002row102_col0\" class=\"data row102 col0\" >101</td>\n",
              "            </tr>\n",
              "            <tr>\n",
              "                        <th id=\"T_4de6f36a_b7bf_11ea_a677_0242ac1c0002level0_row103\" class=\"row_heading level0 row103\" >2020-06-15 00:00:00</th>\n",
              "                        <td id=\"T_4de6f36a_b7bf_11ea_a677_0242ac1c0002row103_col0\" class=\"data row103 col0\" >92</td>\n",
              "            </tr>\n",
              "            <tr>\n",
              "                        <th id=\"T_4de6f36a_b7bf_11ea_a677_0242ac1c0002level0_row104\" class=\"row_heading level0 row104\" >2020-06-16 00:00:00</th>\n",
              "                        <td id=\"T_4de6f36a_b7bf_11ea_a677_0242ac1c0002row104_col0\" class=\"data row104 col0\" >46</td>\n",
              "            </tr>\n",
              "            <tr>\n",
              "                        <th id=\"T_4de6f36a_b7bf_11ea_a677_0242ac1c0002level0_row105\" class=\"row_heading level0 row105\" >2020-06-17 00:00:00</th>\n",
              "                        <td id=\"T_4de6f36a_b7bf_11ea_a677_0242ac1c0002row105_col0\" class=\"data row105 col0\" >66</td>\n",
              "            </tr>\n",
              "            <tr>\n",
              "                        <th id=\"T_4de6f36a_b7bf_11ea_a677_0242ac1c0002level0_row106\" class=\"row_heading level0 row106\" >2020-06-18 00:00:00</th>\n",
              "                        <td id=\"T_4de6f36a_b7bf_11ea_a677_0242ac1c0002row106_col0\" class=\"data row106 col0\" >77</td>\n",
              "            </tr>\n",
              "            <tr>\n",
              "                        <th id=\"T_4de6f36a_b7bf_11ea_a677_0242ac1c0002level0_row107\" class=\"row_heading level0 row107\" >2020-06-19 00:00:00</th>\n",
              "                        <td id=\"T_4de6f36a_b7bf_11ea_a677_0242ac1c0002row107_col0\" class=\"data row107 col0\" >539</td>\n",
              "            </tr>\n",
              "            <tr>\n",
              "                        <th id=\"T_4de6f36a_b7bf_11ea_a677_0242ac1c0002level0_row108\" class=\"row_heading level0 row108\" >2020-06-20 00:00:00</th>\n",
              "                        <td id=\"T_4de6f36a_b7bf_11ea_a677_0242ac1c0002row108_col0\" class=\"data row108 col0\" >226</td>\n",
              "            </tr>\n",
              "    </tbody></table>"
            ],
            "text/plain": [
              "<pandas.io.formats.style.Styler at 0x7ff2d5480400>"
            ]
          },
          "metadata": {
            "tags": []
          },
          "execution_count": 76
        }
      ]
    },
    {
      "cell_type": "markdown",
      "metadata": {
        "id": "tnYGmZvkERXs",
        "colab_type": "text"
      },
      "source": [
        "<b>Trend of Coronavirus Cases</b>"
      ]
    },
    {
      "cell_type": "code",
      "metadata": {
        "colab_type": "code",
        "id": "0udc4-vTpqOG",
        "colab": {
          "base_uri": "https://localhost:8080/",
          "height": 1000
        },
        "outputId": "168d7093-da83-4f60-c6fd-5f1030cdeda1"
      },
      "source": [
        "# Hands of plotly to visualise the current situation\n",
        "\n",
        "import plotly.express as px\n",
        "import plotly.graph_objects as go\n",
        "\n",
        "# the 1st is a  bar plot of confirmed cases in morocco\n",
        "fig = px.bar(df, x=df.index, y=\"New cases\", color='New cases', orientation='v', height=600,\n",
        "             title='Confirmed Cases in Morocco', color_discrete_sequence = px.colors.cyclical.IceFire)\n",
        "fig.show()\n",
        "\n",
        "# the 2nd is a figure of Trend of Coronavirus Cases in Morocco\n",
        "fig = go.Figure()\n",
        "fig.add_trace(go.Scatter(x=df.index, y = df['Confirmed'], mode= 'lines+markers',name='Total Cases'))\n",
        "fig.add_trace(go.Scatter(x=df.index, y = df['Recovered'], mode='lines+markers',name='Recovered',line=dict(color='Green', width=2)))\n",
        "fig.add_trace(go.Scatter(x=df.index, y=df['Deaths'], mode='lines+markers', name='Deaths', line=dict(color='Red', width=2)))\n",
        "fig.update_layout(title_text='Trend of Coronavirus Cases in Morocco (Cumulative cases)',plot_bgcolor='rgb(230, 230, 230)')\n",
        "\n",
        "fig.show()\n",
        "\n",
        "# the 3rd is a figure of Trend of Actif Coronavirus Cases in Morocco\n",
        "fig = go.Figure()\n",
        "fig.add_trace(go.Scatter(x=df.index, y = df['Actif'], mode= 'lines+markers',name='Total Cases'))\n",
        "fig.update_layout(title_text='Trend of Actif Coronavirus Cases in Morocco ',plot_bgcolor='rgb(230, 230, 230)')\n",
        "fig.show()"
      ],
      "execution_count": 77,
      "outputs": [
        {
          "output_type": "display_data",
          "data": {
            "text/html": [
              "<html>\n",
              "<head><meta charset=\"utf-8\" /></head>\n",
              "<body>\n",
              "    <div>\n",
              "            <script src=\"https://cdnjs.cloudflare.com/ajax/libs/mathjax/2.7.5/MathJax.js?config=TeX-AMS-MML_SVG\"></script><script type=\"text/javascript\">if (window.MathJax) {MathJax.Hub.Config({SVG: {font: \"STIX-Web\"}});}</script>\n",
              "                <script type=\"text/javascript\">window.PlotlyConfig = {MathJaxConfig: 'local'};</script>\n",
              "        <script src=\"https://cdn.plot.ly/plotly-latest.min.js\"></script>    \n",
              "            <div id=\"b9f4efad-778b-4b84-8d2c-a932a2ab8e56\" class=\"plotly-graph-div\" style=\"height:600px; width:100%;\"></div>\n",
              "            <script type=\"text/javascript\">\n",
              "                \n",
              "                    window.PLOTLYENV=window.PLOTLYENV || {};\n",
              "                    \n",
              "                if (document.getElementById(\"b9f4efad-778b-4b84-8d2c-a932a2ab8e56\")) {\n",
              "                    Plotly.newPlot(\n",
              "                        'b9f4efad-778b-4b84-8d2c-a932a2ab8e56',\n",
              "                        [{\"alignmentgroup\": \"True\", \"hoverlabel\": {\"namelength\": 0}, \"hovertemplate\": \"x=%{x}<br>New cases=%{marker.color}\", \"legendgroup\": \"\", \"marker\": {\"color\": [0, 0, 2, 0, 0, 0, 3, 0, 5, 1, 0, 7, 10, 11, 9, 7, 14, 5, 23, 10, 13, 34, 27, 55, 50, 70, 57, 77, 77, 61, 37, 54, 83, 128, 102, 99, 64, 91, 99, 74, 97, 116, 102, 520, 281, 121, 170, 191, 163, 237, 122, 190, 139, 168, 55, 132, 69, 102, 146, 160, 174, 150, 166, 189, 140, 163, 199, 153, 218, 137, 94, 95, 45, 29, 189, 82, 71, 110, 78, 121, 74, 23, 103, 45, 24, 42, 71, 66, 27, 26, 33, 56, 81, 68, 80, 73, 78, 135, 71, 29, 73, 82, 101, 92, 46, 66, 77, 539, 226], \"coloraxis\": \"coloraxis\"}, \"name\": \"\", \"offsetgroup\": \"\", \"orientation\": \"v\", \"showlegend\": false, \"textposition\": \"auto\", \"type\": \"bar\", \"x\": [\"2020-03-02T00:00:00\", \"2020-03-03T00:00:00\", \"2020-03-04T00:00:00\", \"2020-03-05T00:00:00\", \"2020-03-06T00:00:00\", \"2020-03-07T00:00:00\", \"2020-03-08T00:00:00\", \"2020-03-09T00:00:00\", \"2020-03-10T00:00:00\", \"2020-03-11T00:00:00\", \"2020-03-12T00:00:00\", \"2020-03-13T00:00:00\", \"2020-03-14T00:00:00\", \"2020-03-15T00:00:00\", \"2020-03-16T00:00:00\", \"2020-03-17T00:00:00\", \"2020-03-18T00:00:00\", \"2020-03-19T00:00:00\", \"2020-03-20T00:00:00\", \"2020-03-21T00:00:00\", \"2020-03-22T00:00:00\", \"2020-03-23T00:00:00\", \"2020-03-24T00:00:00\", \"2020-03-25T00:00:00\", \"2020-03-26T00:00:00\", \"2020-03-27T00:00:00\", \"2020-03-28T00:00:00\", \"2020-03-29T00:00:00\", \"2020-03-30T00:00:00\", \"2020-03-31T00:00:00\", \"2020-04-01T00:00:00\", \"2020-04-02T00:00:00\", \"2020-04-03T00:00:00\", \"2020-04-04T00:00:00\", \"2020-04-05T00:00:00\", \"2020-04-06T00:00:00\", \"2020-04-07T00:00:00\", \"2020-04-08T00:00:00\", \"2020-04-09T00:00:00\", \"2020-04-10T00:00:00\", \"2020-04-11T00:00:00\", \"2020-04-12T00:00:00\", \"2020-04-13T00:00:00\", \"2020-04-16T00:00:00\", \"2020-04-17T00:00:00\", \"2020-04-18T00:00:00\", \"2020-04-19T00:00:00\", \"2020-04-20T00:00:00\", \"2020-04-21T00:00:00\", \"2020-04-22T00:00:00\", \"2020-04-23T00:00:00\", \"2020-04-24T00:00:00\", \"2020-04-25T00:00:00\", \"2020-04-26T00:00:00\", \"2020-04-27T00:00:00\", \"2020-04-28T00:00:00\", \"2020-04-29T00:00:00\", \"2020-04-30T00:00:00\", \"2020-05-01T00:00:00\", \"2020-05-02T00:00:00\", \"2020-05-03T00:00:00\", \"2020-05-04T00:00:00\", \"2020-05-05T00:00:00\", \"2020-05-06T00:00:00\", \"2020-05-07T00:00:00\", \"2020-05-08T00:00:00\", \"2020-05-09T00:00:00\", \"2020-05-10T00:00:00\", \"2020-05-11T00:00:00\", \"2020-05-12T00:00:00\", \"2020-05-13T00:00:00\", \"2020-05-14T00:00:00\", \"2020-05-15T00:00:00\", \"2020-05-16T00:00:00\", \"2020-05-17T00:00:00\", \"2020-05-18T00:00:00\", \"2020-05-19T00:00:00\", \"2020-05-20T00:00:00\", \"2020-05-21T00:00:00\", \"2020-05-22T00:00:00\", \"2020-05-23T00:00:00\", \"2020-05-24T00:00:00\", \"2020-05-25T00:00:00\", \"2020-05-26T00:00:00\", \"2020-05-27T00:00:00\", \"2020-05-28T00:00:00\", \"2020-05-29T00:00:00\", \"2020-05-30T00:00:00\", \"2020-05-31T00:00:00\", \"2020-06-01T00:00:00\", \"2020-06-02T00:00:00\", \"2020-06-03T00:00:00\", \"2020-06-04T00:00:00\", \"2020-06-05T00:00:00\", \"2020-06-06T00:00:00\", \"2020-06-07T00:00:00\", \"2020-06-08T00:00:00\", \"2020-06-09T00:00:00\", \"2020-06-10T00:00:00\", \"2020-06-11T00:00:00\", \"2020-06-12T00:00:00\", \"2020-06-13T00:00:00\", \"2020-06-14T00:00:00\", \"2020-06-15T00:00:00\", \"2020-06-16T00:00:00\", \"2020-06-17T00:00:00\", \"2020-06-18T00:00:00\", \"2020-06-19T00:00:00\", \"2020-06-20T00:00:00\"], \"xaxis\": \"x\", \"y\": [0, 0, 2, 0, 0, 0, 3, 0, 5, 1, 0, 7, 10, 11, 9, 7, 14, 5, 23, 10, 13, 34, 27, 55, 50, 70, 57, 77, 77, 61, 37, 54, 83, 128, 102, 99, 64, 91, 99, 74, 97, 116, 102, 520, 281, 121, 170, 191, 163, 237, 122, 190, 139, 168, 55, 132, 69, 102, 146, 160, 174, 150, 166, 189, 140, 163, 199, 153, 218, 137, 94, 95, 45, 29, 189, 82, 71, 110, 78, 121, 74, 23, 103, 45, 24, 42, 71, 66, 27, 26, 33, 56, 81, 68, 80, 73, 78, 135, 71, 29, 73, 82, 101, 92, 46, 66, 77, 539, 226], \"yaxis\": \"y\"}],\n",
              "                        {\"barmode\": \"relative\", \"coloraxis\": {\"colorbar\": {\"title\": {\"text\": \"New cases\"}}, \"colorscale\": [[0.0, \"#0d0887\"], [0.1111111111111111, \"#46039f\"], [0.2222222222222222, \"#7201a8\"], [0.3333333333333333, \"#9c179e\"], [0.4444444444444444, \"#bd3786\"], [0.5555555555555556, \"#d8576b\"], [0.6666666666666666, \"#ed7953\"], [0.7777777777777778, \"#fb9f3a\"], [0.8888888888888888, \"#fdca26\"], [1.0, \"#f0f921\"]]}, \"height\": 600, \"legend\": {\"tracegroupgap\": 0}, \"template\": {\"data\": {\"bar\": [{\"error_x\": {\"color\": \"#2a3f5f\"}, \"error_y\": {\"color\": \"#2a3f5f\"}, \"marker\": {\"line\": {\"color\": \"#E5ECF6\", \"width\": 0.5}}, \"type\": \"bar\"}], \"barpolar\": [{\"marker\": {\"line\": {\"color\": \"#E5ECF6\", \"width\": 0.5}}, \"type\": \"barpolar\"}], \"carpet\": [{\"aaxis\": {\"endlinecolor\": \"#2a3f5f\", \"gridcolor\": \"white\", \"linecolor\": \"white\", \"minorgridcolor\": \"white\", \"startlinecolor\": \"#2a3f5f\"}, \"baxis\": {\"endlinecolor\": \"#2a3f5f\", \"gridcolor\": \"white\", \"linecolor\": \"white\", \"minorgridcolor\": \"white\", \"startlinecolor\": \"#2a3f5f\"}, \"type\": \"carpet\"}], \"choropleth\": [{\"colorbar\": {\"outlinewidth\": 0, \"ticks\": \"\"}, \"type\": \"choropleth\"}], \"contour\": [{\"colorbar\": {\"outlinewidth\": 0, \"ticks\": \"\"}, \"colorscale\": [[0.0, \"#0d0887\"], [0.1111111111111111, \"#46039f\"], [0.2222222222222222, \"#7201a8\"], [0.3333333333333333, \"#9c179e\"], [0.4444444444444444, \"#bd3786\"], [0.5555555555555556, \"#d8576b\"], [0.6666666666666666, \"#ed7953\"], [0.7777777777777778, \"#fb9f3a\"], [0.8888888888888888, \"#fdca26\"], [1.0, \"#f0f921\"]], \"type\": \"contour\"}], \"contourcarpet\": [{\"colorbar\": {\"outlinewidth\": 0, \"ticks\": \"\"}, \"type\": \"contourcarpet\"}], \"heatmap\": [{\"colorbar\": {\"outlinewidth\": 0, \"ticks\": \"\"}, \"colorscale\": [[0.0, \"#0d0887\"], [0.1111111111111111, \"#46039f\"], [0.2222222222222222, \"#7201a8\"], [0.3333333333333333, \"#9c179e\"], [0.4444444444444444, \"#bd3786\"], [0.5555555555555556, \"#d8576b\"], [0.6666666666666666, \"#ed7953\"], [0.7777777777777778, \"#fb9f3a\"], [0.8888888888888888, \"#fdca26\"], [1.0, \"#f0f921\"]], \"type\": \"heatmap\"}], \"heatmapgl\": [{\"colorbar\": {\"outlinewidth\": 0, \"ticks\": \"\"}, \"colorscale\": [[0.0, \"#0d0887\"], [0.1111111111111111, \"#46039f\"], [0.2222222222222222, \"#7201a8\"], [0.3333333333333333, \"#9c179e\"], [0.4444444444444444, \"#bd3786\"], [0.5555555555555556, \"#d8576b\"], [0.6666666666666666, \"#ed7953\"], [0.7777777777777778, \"#fb9f3a\"], [0.8888888888888888, \"#fdca26\"], [1.0, \"#f0f921\"]], \"type\": \"heatmapgl\"}], \"histogram\": [{\"marker\": {\"colorbar\": {\"outlinewidth\": 0, \"ticks\": \"\"}}, \"type\": \"histogram\"}], \"histogram2d\": [{\"colorbar\": {\"outlinewidth\": 0, \"ticks\": \"\"}, \"colorscale\": [[0.0, \"#0d0887\"], [0.1111111111111111, \"#46039f\"], [0.2222222222222222, \"#7201a8\"], [0.3333333333333333, \"#9c179e\"], [0.4444444444444444, \"#bd3786\"], [0.5555555555555556, \"#d8576b\"], [0.6666666666666666, \"#ed7953\"], [0.7777777777777778, \"#fb9f3a\"], [0.8888888888888888, \"#fdca26\"], [1.0, \"#f0f921\"]], \"type\": \"histogram2d\"}], \"histogram2dcontour\": [{\"colorbar\": {\"outlinewidth\": 0, \"ticks\": \"\"}, \"colorscale\": [[0.0, \"#0d0887\"], [0.1111111111111111, \"#46039f\"], [0.2222222222222222, \"#7201a8\"], [0.3333333333333333, \"#9c179e\"], [0.4444444444444444, \"#bd3786\"], [0.5555555555555556, \"#d8576b\"], [0.6666666666666666, \"#ed7953\"], [0.7777777777777778, \"#fb9f3a\"], [0.8888888888888888, \"#fdca26\"], [1.0, \"#f0f921\"]], \"type\": \"histogram2dcontour\"}], \"mesh3d\": [{\"colorbar\": {\"outlinewidth\": 0, \"ticks\": \"\"}, \"type\": \"mesh3d\"}], \"parcoords\": [{\"line\": {\"colorbar\": {\"outlinewidth\": 0, \"ticks\": \"\"}}, \"type\": \"parcoords\"}], \"pie\": [{\"automargin\": true, \"type\": \"pie\"}], \"scatter\": [{\"marker\": {\"colorbar\": {\"outlinewidth\": 0, \"ticks\": \"\"}}, \"type\": \"scatter\"}], \"scatter3d\": [{\"line\": {\"colorbar\": {\"outlinewidth\": 0, \"ticks\": \"\"}}, \"marker\": {\"colorbar\": {\"outlinewidth\": 0, \"ticks\": \"\"}}, \"type\": \"scatter3d\"}], \"scattercarpet\": [{\"marker\": {\"colorbar\": {\"outlinewidth\": 0, \"ticks\": \"\"}}, \"type\": \"scattercarpet\"}], \"scattergeo\": [{\"marker\": {\"colorbar\": {\"outlinewidth\": 0, \"ticks\": \"\"}}, \"type\": \"scattergeo\"}], \"scattergl\": [{\"marker\": {\"colorbar\": {\"outlinewidth\": 0, \"ticks\": \"\"}}, \"type\": \"scattergl\"}], \"scattermapbox\": [{\"marker\": {\"colorbar\": {\"outlinewidth\": 0, \"ticks\": \"\"}}, \"type\": \"scattermapbox\"}], \"scatterpolar\": [{\"marker\": {\"colorbar\": {\"outlinewidth\": 0, \"ticks\": \"\"}}, \"type\": \"scatterpolar\"}], \"scatterpolargl\": [{\"marker\": {\"colorbar\": {\"outlinewidth\": 0, \"ticks\": \"\"}}, \"type\": \"scatterpolargl\"}], \"scatterternary\": [{\"marker\": {\"colorbar\": {\"outlinewidth\": 0, \"ticks\": \"\"}}, \"type\": \"scatterternary\"}], \"surface\": [{\"colorbar\": {\"outlinewidth\": 0, \"ticks\": \"\"}, \"colorscale\": [[0.0, \"#0d0887\"], [0.1111111111111111, \"#46039f\"], [0.2222222222222222, \"#7201a8\"], [0.3333333333333333, \"#9c179e\"], [0.4444444444444444, \"#bd3786\"], [0.5555555555555556, \"#d8576b\"], [0.6666666666666666, \"#ed7953\"], [0.7777777777777778, \"#fb9f3a\"], [0.8888888888888888, \"#fdca26\"], [1.0, \"#f0f921\"]], \"type\": \"surface\"}], \"table\": [{\"cells\": {\"fill\": {\"color\": \"#EBF0F8\"}, \"line\": {\"color\": \"white\"}}, \"header\": {\"fill\": {\"color\": \"#C8D4E3\"}, \"line\": {\"color\": \"white\"}}, \"type\": \"table\"}]}, \"layout\": {\"annotationdefaults\": {\"arrowcolor\": \"#2a3f5f\", \"arrowhead\": 0, \"arrowwidth\": 1}, \"coloraxis\": {\"colorbar\": {\"outlinewidth\": 0, \"ticks\": \"\"}}, \"colorscale\": {\"diverging\": [[0, \"#8e0152\"], [0.1, \"#c51b7d\"], [0.2, \"#de77ae\"], [0.3, \"#f1b6da\"], [0.4, \"#fde0ef\"], [0.5, \"#f7f7f7\"], [0.6, \"#e6f5d0\"], [0.7, \"#b8e186\"], [0.8, \"#7fbc41\"], [0.9, \"#4d9221\"], [1, \"#276419\"]], \"sequential\": [[0.0, \"#0d0887\"], [0.1111111111111111, \"#46039f\"], [0.2222222222222222, \"#7201a8\"], [0.3333333333333333, \"#9c179e\"], [0.4444444444444444, \"#bd3786\"], [0.5555555555555556, \"#d8576b\"], [0.6666666666666666, \"#ed7953\"], [0.7777777777777778, \"#fb9f3a\"], [0.8888888888888888, \"#fdca26\"], [1.0, \"#f0f921\"]], \"sequentialminus\": [[0.0, \"#0d0887\"], [0.1111111111111111, \"#46039f\"], [0.2222222222222222, \"#7201a8\"], [0.3333333333333333, \"#9c179e\"], [0.4444444444444444, \"#bd3786\"], [0.5555555555555556, \"#d8576b\"], [0.6666666666666666, \"#ed7953\"], [0.7777777777777778, \"#fb9f3a\"], [0.8888888888888888, \"#fdca26\"], [1.0, \"#f0f921\"]]}, \"colorway\": [\"#636efa\", \"#EF553B\", \"#00cc96\", \"#ab63fa\", \"#FFA15A\", \"#19d3f3\", \"#FF6692\", \"#B6E880\", \"#FF97FF\", \"#FECB52\"], \"font\": {\"color\": \"#2a3f5f\"}, \"geo\": {\"bgcolor\": \"white\", \"lakecolor\": \"white\", \"landcolor\": \"#E5ECF6\", \"showlakes\": true, \"showland\": true, \"subunitcolor\": \"white\"}, \"hoverlabel\": {\"align\": \"left\"}, \"hovermode\": \"closest\", \"mapbox\": {\"style\": \"light\"}, \"paper_bgcolor\": \"white\", \"plot_bgcolor\": \"#E5ECF6\", \"polar\": {\"angularaxis\": {\"gridcolor\": \"white\", \"linecolor\": \"white\", \"ticks\": \"\"}, \"bgcolor\": \"#E5ECF6\", \"radialaxis\": {\"gridcolor\": \"white\", \"linecolor\": \"white\", \"ticks\": \"\"}}, \"scene\": {\"xaxis\": {\"backgroundcolor\": \"#E5ECF6\", \"gridcolor\": \"white\", \"gridwidth\": 2, \"linecolor\": \"white\", \"showbackground\": true, \"ticks\": \"\", \"zerolinecolor\": \"white\"}, \"yaxis\": {\"backgroundcolor\": \"#E5ECF6\", \"gridcolor\": \"white\", \"gridwidth\": 2, \"linecolor\": \"white\", \"showbackground\": true, \"ticks\": \"\", \"zerolinecolor\": \"white\"}, \"zaxis\": {\"backgroundcolor\": \"#E5ECF6\", \"gridcolor\": \"white\", \"gridwidth\": 2, \"linecolor\": \"white\", \"showbackground\": true, \"ticks\": \"\", \"zerolinecolor\": \"white\"}}, \"shapedefaults\": {\"line\": {\"color\": \"#2a3f5f\"}}, \"ternary\": {\"aaxis\": {\"gridcolor\": \"white\", \"linecolor\": \"white\", \"ticks\": \"\"}, \"baxis\": {\"gridcolor\": \"white\", \"linecolor\": \"white\", \"ticks\": \"\"}, \"bgcolor\": \"#E5ECF6\", \"caxis\": {\"gridcolor\": \"white\", \"linecolor\": \"white\", \"ticks\": \"\"}}, \"title\": {\"x\": 0.05}, \"xaxis\": {\"automargin\": true, \"gridcolor\": \"white\", \"linecolor\": \"white\", \"ticks\": \"\", \"title\": {\"standoff\": 15}, \"zerolinecolor\": \"white\", \"zerolinewidth\": 2}, \"yaxis\": {\"automargin\": true, \"gridcolor\": \"white\", \"linecolor\": \"white\", \"ticks\": \"\", \"title\": {\"standoff\": 15}, \"zerolinecolor\": \"white\", \"zerolinewidth\": 2}}}, \"title\": {\"text\": \"Confirmed Cases in Morocco\"}, \"xaxis\": {\"anchor\": \"y\", \"domain\": [0.0, 1.0], \"title\": {\"text\": \"x\"}}, \"yaxis\": {\"anchor\": \"x\", \"domain\": [0.0, 1.0], \"title\": {\"text\": \"New cases\"}}},\n",
              "                        {\"responsive\": true}\n",
              "                    ).then(function(){\n",
              "                            \n",
              "var gd = document.getElementById('b9f4efad-778b-4b84-8d2c-a932a2ab8e56');\n",
              "var x = new MutationObserver(function (mutations, observer) {{\n",
              "        var display = window.getComputedStyle(gd).display;\n",
              "        if (!display || display === 'none') {{\n",
              "            console.log([gd, 'removed!']);\n",
              "            Plotly.purge(gd);\n",
              "            observer.disconnect();\n",
              "        }}\n",
              "}});\n",
              "\n",
              "// Listen for the removal of the full notebook cells\n",
              "var notebookContainer = gd.closest('#notebook-container');\n",
              "if (notebookContainer) {{\n",
              "    x.observe(notebookContainer, {childList: true});\n",
              "}}\n",
              "\n",
              "// Listen for the clearing of the current output cell\n",
              "var outputEl = gd.closest('.output');\n",
              "if (outputEl) {{\n",
              "    x.observe(outputEl, {childList: true});\n",
              "}}\n",
              "\n",
              "                        })\n",
              "                };\n",
              "                \n",
              "            </script>\n",
              "        </div>\n",
              "</body>\n",
              "</html>"
            ]
          },
          "metadata": {
            "tags": []
          }
        },
        {
          "output_type": "display_data",
          "data": {
            "text/html": [
              "<html>\n",
              "<head><meta charset=\"utf-8\" /></head>\n",
              "<body>\n",
              "    <div>\n",
              "            <script src=\"https://cdnjs.cloudflare.com/ajax/libs/mathjax/2.7.5/MathJax.js?config=TeX-AMS-MML_SVG\"></script><script type=\"text/javascript\">if (window.MathJax) {MathJax.Hub.Config({SVG: {font: \"STIX-Web\"}});}</script>\n",
              "                <script type=\"text/javascript\">window.PlotlyConfig = {MathJaxConfig: 'local'};</script>\n",
              "        <script src=\"https://cdn.plot.ly/plotly-latest.min.js\"></script>    \n",
              "            <div id=\"856e5f87-9708-400d-b875-eb58c87d8214\" class=\"plotly-graph-div\" style=\"height:525px; width:100%;\"></div>\n",
              "            <script type=\"text/javascript\">\n",
              "                \n",
              "                    window.PLOTLYENV=window.PLOTLYENV || {};\n",
              "                    \n",
              "                if (document.getElementById(\"856e5f87-9708-400d-b875-eb58c87d8214\")) {\n",
              "                    Plotly.newPlot(\n",
              "                        '856e5f87-9708-400d-b875-eb58c87d8214',\n",
              "                        [{\"mode\": \"lines+markers\", \"name\": \"Total Cases\", \"type\": \"scatter\", \"x\": [\"2020-03-02T00:00:00\", \"2020-03-03T00:00:00\", \"2020-03-04T00:00:00\", \"2020-03-05T00:00:00\", \"2020-03-06T00:00:00\", \"2020-03-07T00:00:00\", \"2020-03-08T00:00:00\", \"2020-03-09T00:00:00\", \"2020-03-10T00:00:00\", \"2020-03-11T00:00:00\", \"2020-03-12T00:00:00\", \"2020-03-13T00:00:00\", \"2020-03-14T00:00:00\", \"2020-03-15T00:00:00\", \"2020-03-16T00:00:00\", \"2020-03-17T00:00:00\", \"2020-03-18T00:00:00\", \"2020-03-19T00:00:00\", \"2020-03-20T00:00:00\", \"2020-03-21T00:00:00\", \"2020-03-22T00:00:00\", \"2020-03-23T00:00:00\", \"2020-03-24T00:00:00\", \"2020-03-25T00:00:00\", \"2020-03-26T00:00:00\", \"2020-03-27T00:00:00\", \"2020-03-28T00:00:00\", \"2020-03-29T00:00:00\", \"2020-03-30T00:00:00\", \"2020-03-31T00:00:00\", \"2020-04-01T00:00:00\", \"2020-04-02T00:00:00\", \"2020-04-03T00:00:00\", \"2020-04-04T00:00:00\", \"2020-04-05T00:00:00\", \"2020-04-06T00:00:00\", \"2020-04-07T00:00:00\", \"2020-04-08T00:00:00\", \"2020-04-09T00:00:00\", \"2020-04-10T00:00:00\", \"2020-04-11T00:00:00\", \"2020-04-12T00:00:00\", \"2020-04-13T00:00:00\", \"2020-04-16T00:00:00\", \"2020-04-17T00:00:00\", \"2020-04-18T00:00:00\", \"2020-04-19T00:00:00\", \"2020-04-20T00:00:00\", \"2020-04-21T00:00:00\", \"2020-04-22T00:00:00\", \"2020-04-23T00:00:00\", \"2020-04-24T00:00:00\", \"2020-04-25T00:00:00\", \"2020-04-26T00:00:00\", \"2020-04-27T00:00:00\", \"2020-04-28T00:00:00\", \"2020-04-29T00:00:00\", \"2020-04-30T00:00:00\", \"2020-05-01T00:00:00\", \"2020-05-02T00:00:00\", \"2020-05-03T00:00:00\", \"2020-05-04T00:00:00\", \"2020-05-05T00:00:00\", \"2020-05-06T00:00:00\", \"2020-05-07T00:00:00\", \"2020-05-08T00:00:00\", \"2020-05-09T00:00:00\", \"2020-05-10T00:00:00\", \"2020-05-11T00:00:00\", \"2020-05-12T00:00:00\", \"2020-05-13T00:00:00\", \"2020-05-14T00:00:00\", \"2020-05-15T00:00:00\", \"2020-05-16T00:00:00\", \"2020-05-17T00:00:00\", \"2020-05-18T00:00:00\", \"2020-05-19T00:00:00\", \"2020-05-20T00:00:00\", \"2020-05-21T00:00:00\", \"2020-05-22T00:00:00\", \"2020-05-23T00:00:00\", \"2020-05-24T00:00:00\", \"2020-05-25T00:00:00\", \"2020-05-26T00:00:00\", \"2020-05-27T00:00:00\", \"2020-05-28T00:00:00\", \"2020-05-29T00:00:00\", \"2020-05-30T00:00:00\", \"2020-05-31T00:00:00\", \"2020-06-01T00:00:00\", \"2020-06-02T00:00:00\", \"2020-06-03T00:00:00\", \"2020-06-04T00:00:00\", \"2020-06-05T00:00:00\", \"2020-06-06T00:00:00\", \"2020-06-07T00:00:00\", \"2020-06-08T00:00:00\", \"2020-06-09T00:00:00\", \"2020-06-10T00:00:00\", \"2020-06-11T00:00:00\", \"2020-06-12T00:00:00\", \"2020-06-13T00:00:00\", \"2020-06-14T00:00:00\", \"2020-06-15T00:00:00\", \"2020-06-16T00:00:00\", \"2020-06-17T00:00:00\", \"2020-06-18T00:00:00\", \"2020-06-19T00:00:00\", \"2020-06-20T00:00:00\"], \"y\": [1.0, 0.0, 2.0, 0.0, 0.0, 0.0, 3.0, 0.0, 5.0, 6.0, 0.0, 7.0, 17.0, 28.0, 37.0, 44.0, 58.0, 63.0, 86.0, 96.0, 109.0, 143.0, 170.0, 225.0, 275.0, 345.0, 402.0, 479.0, 556.0, 617.0, 654.0, 708.0, 791.0, 919.0, 1021.0, 1120.0, 1184.0, 1275.0, 1374.0, 1448.0, 1545.0, 1661.0, 1763.0, 2283.0, 2564.0, 2685.0, 2855.0, 3046.0, 3209.0, 3446.0, 3568.0, 3758.0, 3897.0, 4065.0, 4120.0, 4252.0, 4321.0, 4423.0, 4569.0, 4729.0, 4903.0, 5053.0, 5219.0, 5408.0, 5548.0, 5711.0, 5910.0, 6063.0, 6281.0, 6418.0, 6512.0, 6607.0, 6652.0, 6681.0, 6870.0, 6952.0, 7023.0, 7133.0, 7211.0, 7332.0, 7406.0, 7429.0, 7532.0, 7577.0, 7601.0, 7643.0, 7714.0, 7780.0, 7807.0, 7833.0, 7866.0, 7922.0, 8003.0, 8071.0, 8151.0, 8224.0, 8302.0, 8437.0, 8508.0, 8537.0, 8610.0, 8692.0, 8793.0, 8885.0, 8931.0, 8997.0, 9074.0, 9613.0, 9839.0]}, {\"line\": {\"color\": \"Green\", \"width\": 2}, \"mode\": \"lines+markers\", \"name\": \"Recovered\", \"type\": \"scatter\", \"x\": [\"2020-03-02T00:00:00\", \"2020-03-03T00:00:00\", \"2020-03-04T00:00:00\", \"2020-03-05T00:00:00\", \"2020-03-06T00:00:00\", \"2020-03-07T00:00:00\", \"2020-03-08T00:00:00\", \"2020-03-09T00:00:00\", \"2020-03-10T00:00:00\", \"2020-03-11T00:00:00\", \"2020-03-12T00:00:00\", \"2020-03-13T00:00:00\", \"2020-03-14T00:00:00\", \"2020-03-15T00:00:00\", \"2020-03-16T00:00:00\", \"2020-03-17T00:00:00\", \"2020-03-18T00:00:00\", \"2020-03-19T00:00:00\", \"2020-03-20T00:00:00\", \"2020-03-21T00:00:00\", \"2020-03-22T00:00:00\", \"2020-03-23T00:00:00\", \"2020-03-24T00:00:00\", \"2020-03-25T00:00:00\", \"2020-03-26T00:00:00\", \"2020-03-27T00:00:00\", \"2020-03-28T00:00:00\", \"2020-03-29T00:00:00\", \"2020-03-30T00:00:00\", \"2020-03-31T00:00:00\", \"2020-04-01T00:00:00\", \"2020-04-02T00:00:00\", \"2020-04-03T00:00:00\", \"2020-04-04T00:00:00\", \"2020-04-05T00:00:00\", \"2020-04-06T00:00:00\", \"2020-04-07T00:00:00\", \"2020-04-08T00:00:00\", \"2020-04-09T00:00:00\", \"2020-04-10T00:00:00\", \"2020-04-11T00:00:00\", \"2020-04-12T00:00:00\", \"2020-04-13T00:00:00\", \"2020-04-16T00:00:00\", \"2020-04-17T00:00:00\", \"2020-04-18T00:00:00\", \"2020-04-19T00:00:00\", \"2020-04-20T00:00:00\", \"2020-04-21T00:00:00\", \"2020-04-22T00:00:00\", \"2020-04-23T00:00:00\", \"2020-04-24T00:00:00\", \"2020-04-25T00:00:00\", \"2020-04-26T00:00:00\", \"2020-04-27T00:00:00\", \"2020-04-28T00:00:00\", \"2020-04-29T00:00:00\", \"2020-04-30T00:00:00\", \"2020-05-01T00:00:00\", \"2020-05-02T00:00:00\", \"2020-05-03T00:00:00\", \"2020-05-04T00:00:00\", \"2020-05-05T00:00:00\", \"2020-05-06T00:00:00\", \"2020-05-07T00:00:00\", \"2020-05-08T00:00:00\", \"2020-05-09T00:00:00\", \"2020-05-10T00:00:00\", \"2020-05-11T00:00:00\", \"2020-05-12T00:00:00\", \"2020-05-13T00:00:00\", \"2020-05-14T00:00:00\", \"2020-05-15T00:00:00\", \"2020-05-16T00:00:00\", \"2020-05-17T00:00:00\", \"2020-05-18T00:00:00\", \"2020-05-19T00:00:00\", \"2020-05-20T00:00:00\", \"2020-05-21T00:00:00\", \"2020-05-22T00:00:00\", \"2020-05-23T00:00:00\", \"2020-05-24T00:00:00\", \"2020-05-25T00:00:00\", \"2020-05-26T00:00:00\", \"2020-05-27T00:00:00\", \"2020-05-28T00:00:00\", \"2020-05-29T00:00:00\", \"2020-05-30T00:00:00\", \"2020-05-31T00:00:00\", \"2020-06-01T00:00:00\", \"2020-06-02T00:00:00\", \"2020-06-03T00:00:00\", \"2020-06-04T00:00:00\", \"2020-06-05T00:00:00\", \"2020-06-06T00:00:00\", \"2020-06-07T00:00:00\", \"2020-06-08T00:00:00\", \"2020-06-09T00:00:00\", \"2020-06-10T00:00:00\", \"2020-06-11T00:00:00\", \"2020-06-12T00:00:00\", \"2020-06-13T00:00:00\", \"2020-06-14T00:00:00\", \"2020-06-15T00:00:00\", \"2020-06-16T00:00:00\", \"2020-06-17T00:00:00\", \"2020-06-18T00:00:00\", \"2020-06-19T00:00:00\", \"2020-06-20T00:00:00\"], \"y\": [0.0, 0.0, 0.0, 0.0, 0.0, 0.0, 0.0, 0.0, 0.0, 0.0, 0.0, 1.0, 0.0, 0.0, 0.0, 0.0, 0.0, 2.0, 0.0, 0.0, 3.0, 5.0, 6.0, 7.0, 8.0, 11.0, 11.0, 13.0, 15.0, 24.0, 29.0, 31.0, 57.0, 66.0, 76.0, 81.0, 93.0, 97.0, 109.0, 122.0, 146.0, 177.0, 203.0, 249.0, 281.0, 314.0, 327.0, 350.0, 393.0, 417.0, 456.0, 486.0, 537.0, 593.0, 695.0, 778.0, 928.0, 984.0, 1083.0, 1256.0, 1438.0, 1653.0, 1838.0, 2017.0, 2179.0, 2324.0, 2461.0, 2554.0, 2811.0, 2991.0, 3131.0, 3310.0, 3400.0, 3475.0, 3660.0, 3758.0, 3901.0, 4098.0, 4280.0, 4377.0, 4638.0, 4686.0, 4774.0, 4881.0, 4978.0, 5196.0, 5271.0, 5401.0, 5459.0, 5893.0, 6410.0, 6866.0, 7195.0, 7268.0, 7315.0, 7364.0, 7408.0, 7493.0, 7565.0, 7583.0, 7618.0, 7696.0, 7765.0, 7828.0, 7973.0, 7993.0, 8041.0, 8117.0, 8223.0]}, {\"line\": {\"color\": \"Red\", \"width\": 2}, \"mode\": \"lines+markers\", \"name\": \"Deaths\", \"type\": \"scatter\", \"x\": [\"2020-03-02T00:00:00\", \"2020-03-03T00:00:00\", \"2020-03-04T00:00:00\", \"2020-03-05T00:00:00\", \"2020-03-06T00:00:00\", \"2020-03-07T00:00:00\", \"2020-03-08T00:00:00\", \"2020-03-09T00:00:00\", \"2020-03-10T00:00:00\", \"2020-03-11T00:00:00\", \"2020-03-12T00:00:00\", \"2020-03-13T00:00:00\", \"2020-03-14T00:00:00\", \"2020-03-15T00:00:00\", \"2020-03-16T00:00:00\", \"2020-03-17T00:00:00\", \"2020-03-18T00:00:00\", \"2020-03-19T00:00:00\", \"2020-03-20T00:00:00\", \"2020-03-21T00:00:00\", \"2020-03-22T00:00:00\", \"2020-03-23T00:00:00\", \"2020-03-24T00:00:00\", \"2020-03-25T00:00:00\", \"2020-03-26T00:00:00\", \"2020-03-27T00:00:00\", \"2020-03-28T00:00:00\", \"2020-03-29T00:00:00\", \"2020-03-30T00:00:00\", \"2020-03-31T00:00:00\", \"2020-04-01T00:00:00\", \"2020-04-02T00:00:00\", \"2020-04-03T00:00:00\", \"2020-04-04T00:00:00\", \"2020-04-05T00:00:00\", \"2020-04-06T00:00:00\", \"2020-04-07T00:00:00\", \"2020-04-08T00:00:00\", \"2020-04-09T00:00:00\", \"2020-04-10T00:00:00\", \"2020-04-11T00:00:00\", \"2020-04-12T00:00:00\", \"2020-04-13T00:00:00\", \"2020-04-16T00:00:00\", \"2020-04-17T00:00:00\", \"2020-04-18T00:00:00\", \"2020-04-19T00:00:00\", \"2020-04-20T00:00:00\", \"2020-04-21T00:00:00\", \"2020-04-22T00:00:00\", \"2020-04-23T00:00:00\", \"2020-04-24T00:00:00\", \"2020-04-25T00:00:00\", \"2020-04-26T00:00:00\", \"2020-04-27T00:00:00\", \"2020-04-28T00:00:00\", \"2020-04-29T00:00:00\", \"2020-04-30T00:00:00\", \"2020-05-01T00:00:00\", \"2020-05-02T00:00:00\", \"2020-05-03T00:00:00\", \"2020-05-04T00:00:00\", \"2020-05-05T00:00:00\", \"2020-05-06T00:00:00\", \"2020-05-07T00:00:00\", \"2020-05-08T00:00:00\", \"2020-05-09T00:00:00\", \"2020-05-10T00:00:00\", \"2020-05-11T00:00:00\", \"2020-05-12T00:00:00\", \"2020-05-13T00:00:00\", \"2020-05-14T00:00:00\", \"2020-05-15T00:00:00\", \"2020-05-16T00:00:00\", \"2020-05-17T00:00:00\", \"2020-05-18T00:00:00\", \"2020-05-19T00:00:00\", \"2020-05-20T00:00:00\", \"2020-05-21T00:00:00\", \"2020-05-22T00:00:00\", \"2020-05-23T00:00:00\", \"2020-05-24T00:00:00\", \"2020-05-25T00:00:00\", \"2020-05-26T00:00:00\", \"2020-05-27T00:00:00\", \"2020-05-28T00:00:00\", \"2020-05-29T00:00:00\", \"2020-05-30T00:00:00\", \"2020-05-31T00:00:00\", \"2020-06-01T00:00:00\", \"2020-06-02T00:00:00\", \"2020-06-03T00:00:00\", \"2020-06-04T00:00:00\", \"2020-06-05T00:00:00\", \"2020-06-06T00:00:00\", \"2020-06-07T00:00:00\", \"2020-06-08T00:00:00\", \"2020-06-09T00:00:00\", \"2020-06-10T00:00:00\", \"2020-06-11T00:00:00\", \"2020-06-12T00:00:00\", \"2020-06-13T00:00:00\", \"2020-06-14T00:00:00\", \"2020-06-15T00:00:00\", \"2020-06-16T00:00:00\", \"2020-06-17T00:00:00\", \"2020-06-18T00:00:00\", \"2020-06-19T00:00:00\", \"2020-06-20T00:00:00\"], \"y\": [0.0, 0.0, 0.0, 0.0, 0.0, 0.0, 1.0, 0.0, 0.0, 0.0, 0.0, 0.0, 0.0, 0.0, 0.0, 2.0, 0.0, 2.0, 0.0, 0.0, 4.0, 4.0, 5.0, 6.0, 10.0, 23.0, 25.0, 26.0, 33.0, 36.0, 39.0, 44.0, 48.0, 59.0, 70.0, 80.0, 90.0, 93.0, 97.0, 107.0, 111.0, 118.0, 126.0, 130.0, 135.0, 137.0, 141.0, 143.0, 145.0, 149.0, 155.0, 158.0, 159.0, 161.0, 162.0, 165.0, 168.0, 170.0, 171.0, 173.0, 174.0, 179.0, 181.0, 183.0, 183.0, 186.0, 186.0, 188.0, 188.0, 188.0, 188.0, 190.0, 190.0, 192.0, 192.0, 192.0, 193.0, 194.0, 196.0, 197.0, 198.0, 198.0, 200.0, 202.0, 202.0, 202.0, 202.0, 204.0, 205.0, 205.0, 206.0, 206.0, 208.0, 208.0, 208.0, 208.0, 208.0, 210.0, 211.0, 211.0, 212.0, 212.0, 212.0, 212.0, 212.0, 213.0, 213.0, 213.0, 213.0]}],\n",
              "                        {\"plot_bgcolor\": \"rgb(230, 230, 230)\", \"template\": {\"data\": {\"bar\": [{\"error_x\": {\"color\": \"#2a3f5f\"}, \"error_y\": {\"color\": \"#2a3f5f\"}, \"marker\": {\"line\": {\"color\": \"#E5ECF6\", \"width\": 0.5}}, \"type\": \"bar\"}], \"barpolar\": [{\"marker\": {\"line\": {\"color\": \"#E5ECF6\", \"width\": 0.5}}, \"type\": \"barpolar\"}], \"carpet\": [{\"aaxis\": {\"endlinecolor\": \"#2a3f5f\", \"gridcolor\": \"white\", \"linecolor\": \"white\", \"minorgridcolor\": \"white\", \"startlinecolor\": \"#2a3f5f\"}, \"baxis\": {\"endlinecolor\": \"#2a3f5f\", \"gridcolor\": \"white\", \"linecolor\": \"white\", \"minorgridcolor\": \"white\", \"startlinecolor\": \"#2a3f5f\"}, \"type\": \"carpet\"}], \"choropleth\": [{\"colorbar\": {\"outlinewidth\": 0, \"ticks\": \"\"}, \"type\": \"choropleth\"}], \"contour\": [{\"colorbar\": {\"outlinewidth\": 0, \"ticks\": \"\"}, \"colorscale\": [[0.0, \"#0d0887\"], [0.1111111111111111, \"#46039f\"], [0.2222222222222222, \"#7201a8\"], [0.3333333333333333, \"#9c179e\"], [0.4444444444444444, \"#bd3786\"], [0.5555555555555556, \"#d8576b\"], [0.6666666666666666, \"#ed7953\"], [0.7777777777777778, \"#fb9f3a\"], [0.8888888888888888, \"#fdca26\"], [1.0, \"#f0f921\"]], \"type\": \"contour\"}], \"contourcarpet\": [{\"colorbar\": {\"outlinewidth\": 0, \"ticks\": \"\"}, \"type\": \"contourcarpet\"}], \"heatmap\": [{\"colorbar\": {\"outlinewidth\": 0, \"ticks\": \"\"}, \"colorscale\": [[0.0, \"#0d0887\"], [0.1111111111111111, \"#46039f\"], [0.2222222222222222, \"#7201a8\"], [0.3333333333333333, \"#9c179e\"], [0.4444444444444444, \"#bd3786\"], [0.5555555555555556, \"#d8576b\"], [0.6666666666666666, \"#ed7953\"], [0.7777777777777778, \"#fb9f3a\"], [0.8888888888888888, \"#fdca26\"], [1.0, \"#f0f921\"]], \"type\": \"heatmap\"}], \"heatmapgl\": [{\"colorbar\": {\"outlinewidth\": 0, \"ticks\": \"\"}, \"colorscale\": [[0.0, \"#0d0887\"], [0.1111111111111111, \"#46039f\"], [0.2222222222222222, \"#7201a8\"], [0.3333333333333333, \"#9c179e\"], [0.4444444444444444, \"#bd3786\"], [0.5555555555555556, \"#d8576b\"], [0.6666666666666666, \"#ed7953\"], [0.7777777777777778, \"#fb9f3a\"], [0.8888888888888888, \"#fdca26\"], [1.0, \"#f0f921\"]], \"type\": \"heatmapgl\"}], \"histogram\": [{\"marker\": {\"colorbar\": {\"outlinewidth\": 0, \"ticks\": \"\"}}, \"type\": \"histogram\"}], \"histogram2d\": [{\"colorbar\": {\"outlinewidth\": 0, \"ticks\": \"\"}, \"colorscale\": [[0.0, \"#0d0887\"], [0.1111111111111111, \"#46039f\"], [0.2222222222222222, \"#7201a8\"], [0.3333333333333333, \"#9c179e\"], [0.4444444444444444, \"#bd3786\"], [0.5555555555555556, \"#d8576b\"], [0.6666666666666666, \"#ed7953\"], [0.7777777777777778, \"#fb9f3a\"], [0.8888888888888888, \"#fdca26\"], [1.0, \"#f0f921\"]], \"type\": \"histogram2d\"}], \"histogram2dcontour\": [{\"colorbar\": {\"outlinewidth\": 0, \"ticks\": \"\"}, \"colorscale\": [[0.0, \"#0d0887\"], [0.1111111111111111, \"#46039f\"], [0.2222222222222222, \"#7201a8\"], [0.3333333333333333, \"#9c179e\"], [0.4444444444444444, \"#bd3786\"], [0.5555555555555556, \"#d8576b\"], [0.6666666666666666, \"#ed7953\"], [0.7777777777777778, \"#fb9f3a\"], [0.8888888888888888, \"#fdca26\"], [1.0, \"#f0f921\"]], \"type\": \"histogram2dcontour\"}], \"mesh3d\": [{\"colorbar\": {\"outlinewidth\": 0, \"ticks\": \"\"}, \"type\": \"mesh3d\"}], \"parcoords\": [{\"line\": {\"colorbar\": {\"outlinewidth\": 0, \"ticks\": \"\"}}, \"type\": \"parcoords\"}], \"pie\": [{\"automargin\": true, \"type\": \"pie\"}], \"scatter\": [{\"marker\": {\"colorbar\": {\"outlinewidth\": 0, \"ticks\": \"\"}}, \"type\": \"scatter\"}], \"scatter3d\": [{\"line\": {\"colorbar\": {\"outlinewidth\": 0, \"ticks\": \"\"}}, \"marker\": {\"colorbar\": {\"outlinewidth\": 0, \"ticks\": \"\"}}, \"type\": \"scatter3d\"}], \"scattercarpet\": [{\"marker\": {\"colorbar\": {\"outlinewidth\": 0, \"ticks\": \"\"}}, \"type\": \"scattercarpet\"}], \"scattergeo\": [{\"marker\": {\"colorbar\": {\"outlinewidth\": 0, \"ticks\": \"\"}}, \"type\": \"scattergeo\"}], \"scattergl\": [{\"marker\": {\"colorbar\": {\"outlinewidth\": 0, \"ticks\": \"\"}}, \"type\": \"scattergl\"}], \"scattermapbox\": [{\"marker\": {\"colorbar\": {\"outlinewidth\": 0, \"ticks\": \"\"}}, \"type\": \"scattermapbox\"}], \"scatterpolar\": [{\"marker\": {\"colorbar\": {\"outlinewidth\": 0, \"ticks\": \"\"}}, \"type\": \"scatterpolar\"}], \"scatterpolargl\": [{\"marker\": {\"colorbar\": {\"outlinewidth\": 0, \"ticks\": \"\"}}, \"type\": \"scatterpolargl\"}], \"scatterternary\": [{\"marker\": {\"colorbar\": {\"outlinewidth\": 0, \"ticks\": \"\"}}, \"type\": \"scatterternary\"}], \"surface\": [{\"colorbar\": {\"outlinewidth\": 0, \"ticks\": \"\"}, \"colorscale\": [[0.0, \"#0d0887\"], [0.1111111111111111, \"#46039f\"], [0.2222222222222222, \"#7201a8\"], [0.3333333333333333, \"#9c179e\"], [0.4444444444444444, \"#bd3786\"], [0.5555555555555556, \"#d8576b\"], [0.6666666666666666, \"#ed7953\"], [0.7777777777777778, \"#fb9f3a\"], [0.8888888888888888, \"#fdca26\"], [1.0, \"#f0f921\"]], \"type\": \"surface\"}], \"table\": [{\"cells\": {\"fill\": {\"color\": \"#EBF0F8\"}, \"line\": {\"color\": \"white\"}}, \"header\": {\"fill\": {\"color\": \"#C8D4E3\"}, \"line\": {\"color\": \"white\"}}, \"type\": \"table\"}]}, \"layout\": {\"annotationdefaults\": {\"arrowcolor\": \"#2a3f5f\", \"arrowhead\": 0, \"arrowwidth\": 1}, \"coloraxis\": {\"colorbar\": {\"outlinewidth\": 0, \"ticks\": \"\"}}, \"colorscale\": {\"diverging\": [[0, \"#8e0152\"], [0.1, \"#c51b7d\"], [0.2, \"#de77ae\"], [0.3, \"#f1b6da\"], [0.4, \"#fde0ef\"], [0.5, \"#f7f7f7\"], [0.6, \"#e6f5d0\"], [0.7, \"#b8e186\"], [0.8, \"#7fbc41\"], [0.9, \"#4d9221\"], [1, \"#276419\"]], \"sequential\": [[0.0, \"#0d0887\"], [0.1111111111111111, \"#46039f\"], [0.2222222222222222, \"#7201a8\"], [0.3333333333333333, \"#9c179e\"], [0.4444444444444444, \"#bd3786\"], [0.5555555555555556, \"#d8576b\"], [0.6666666666666666, \"#ed7953\"], [0.7777777777777778, \"#fb9f3a\"], [0.8888888888888888, \"#fdca26\"], [1.0, \"#f0f921\"]], \"sequentialminus\": [[0.0, \"#0d0887\"], [0.1111111111111111, \"#46039f\"], [0.2222222222222222, \"#7201a8\"], [0.3333333333333333, \"#9c179e\"], [0.4444444444444444, \"#bd3786\"], [0.5555555555555556, \"#d8576b\"], [0.6666666666666666, \"#ed7953\"], [0.7777777777777778, \"#fb9f3a\"], [0.8888888888888888, \"#fdca26\"], [1.0, \"#f0f921\"]]}, \"colorway\": [\"#636efa\", \"#EF553B\", \"#00cc96\", \"#ab63fa\", \"#FFA15A\", \"#19d3f3\", \"#FF6692\", \"#B6E880\", \"#FF97FF\", \"#FECB52\"], \"font\": {\"color\": \"#2a3f5f\"}, \"geo\": {\"bgcolor\": \"white\", \"lakecolor\": \"white\", \"landcolor\": \"#E5ECF6\", \"showlakes\": true, \"showland\": true, \"subunitcolor\": \"white\"}, \"hoverlabel\": {\"align\": \"left\"}, \"hovermode\": \"closest\", \"mapbox\": {\"style\": \"light\"}, \"paper_bgcolor\": \"white\", \"plot_bgcolor\": \"#E5ECF6\", \"polar\": {\"angularaxis\": {\"gridcolor\": \"white\", \"linecolor\": \"white\", \"ticks\": \"\"}, \"bgcolor\": \"#E5ECF6\", \"radialaxis\": {\"gridcolor\": \"white\", \"linecolor\": \"white\", \"ticks\": \"\"}}, \"scene\": {\"xaxis\": {\"backgroundcolor\": \"#E5ECF6\", \"gridcolor\": \"white\", \"gridwidth\": 2, \"linecolor\": \"white\", \"showbackground\": true, \"ticks\": \"\", \"zerolinecolor\": \"white\"}, \"yaxis\": {\"backgroundcolor\": \"#E5ECF6\", \"gridcolor\": \"white\", \"gridwidth\": 2, \"linecolor\": \"white\", \"showbackground\": true, \"ticks\": \"\", \"zerolinecolor\": \"white\"}, \"zaxis\": {\"backgroundcolor\": \"#E5ECF6\", \"gridcolor\": \"white\", \"gridwidth\": 2, \"linecolor\": \"white\", \"showbackground\": true, \"ticks\": \"\", \"zerolinecolor\": \"white\"}}, \"shapedefaults\": {\"line\": {\"color\": \"#2a3f5f\"}}, \"ternary\": {\"aaxis\": {\"gridcolor\": \"white\", \"linecolor\": \"white\", \"ticks\": \"\"}, \"baxis\": {\"gridcolor\": \"white\", \"linecolor\": \"white\", \"ticks\": \"\"}, \"bgcolor\": \"#E5ECF6\", \"caxis\": {\"gridcolor\": \"white\", \"linecolor\": \"white\", \"ticks\": \"\"}}, \"title\": {\"x\": 0.05}, \"xaxis\": {\"automargin\": true, \"gridcolor\": \"white\", \"linecolor\": \"white\", \"ticks\": \"\", \"title\": {\"standoff\": 15}, \"zerolinecolor\": \"white\", \"zerolinewidth\": 2}, \"yaxis\": {\"automargin\": true, \"gridcolor\": \"white\", \"linecolor\": \"white\", \"ticks\": \"\", \"title\": {\"standoff\": 15}, \"zerolinecolor\": \"white\", \"zerolinewidth\": 2}}}, \"title\": {\"text\": \"Trend of Coronavirus Cases in Morocco (Cumulative cases)\"}},\n",
              "                        {\"responsive\": true}\n",
              "                    ).then(function(){\n",
              "                            \n",
              "var gd = document.getElementById('856e5f87-9708-400d-b875-eb58c87d8214');\n",
              "var x = new MutationObserver(function (mutations, observer) {{\n",
              "        var display = window.getComputedStyle(gd).display;\n",
              "        if (!display || display === 'none') {{\n",
              "            console.log([gd, 'removed!']);\n",
              "            Plotly.purge(gd);\n",
              "            observer.disconnect();\n",
              "        }}\n",
              "}});\n",
              "\n",
              "// Listen for the removal of the full notebook cells\n",
              "var notebookContainer = gd.closest('#notebook-container');\n",
              "if (notebookContainer) {{\n",
              "    x.observe(notebookContainer, {childList: true});\n",
              "}}\n",
              "\n",
              "// Listen for the clearing of the current output cell\n",
              "var outputEl = gd.closest('.output');\n",
              "if (outputEl) {{\n",
              "    x.observe(outputEl, {childList: true});\n",
              "}}\n",
              "\n",
              "                        })\n",
              "                };\n",
              "                \n",
              "            </script>\n",
              "        </div>\n",
              "</body>\n",
              "</html>"
            ]
          },
          "metadata": {
            "tags": []
          }
        },
        {
          "output_type": "display_data",
          "data": {
            "text/html": [
              "<html>\n",
              "<head><meta charset=\"utf-8\" /></head>\n",
              "<body>\n",
              "    <div>\n",
              "            <script src=\"https://cdnjs.cloudflare.com/ajax/libs/mathjax/2.7.5/MathJax.js?config=TeX-AMS-MML_SVG\"></script><script type=\"text/javascript\">if (window.MathJax) {MathJax.Hub.Config({SVG: {font: \"STIX-Web\"}});}</script>\n",
              "                <script type=\"text/javascript\">window.PlotlyConfig = {MathJaxConfig: 'local'};</script>\n",
              "        <script src=\"https://cdn.plot.ly/plotly-latest.min.js\"></script>    \n",
              "            <div id=\"ecbed10c-2cd6-4d92-a8c0-83af53176336\" class=\"plotly-graph-div\" style=\"height:525px; width:100%;\"></div>\n",
              "            <script type=\"text/javascript\">\n",
              "                \n",
              "                    window.PLOTLYENV=window.PLOTLYENV || {};\n",
              "                    \n",
              "                if (document.getElementById(\"ecbed10c-2cd6-4d92-a8c0-83af53176336\")) {\n",
              "                    Plotly.newPlot(\n",
              "                        'ecbed10c-2cd6-4d92-a8c0-83af53176336',\n",
              "                        [{\"mode\": \"lines+markers\", \"name\": \"Total Cases\", \"type\": \"scatter\", \"x\": [\"2020-03-02T00:00:00\", \"2020-03-03T00:00:00\", \"2020-03-04T00:00:00\", \"2020-03-05T00:00:00\", \"2020-03-06T00:00:00\", \"2020-03-07T00:00:00\", \"2020-03-08T00:00:00\", \"2020-03-09T00:00:00\", \"2020-03-10T00:00:00\", \"2020-03-11T00:00:00\", \"2020-03-12T00:00:00\", \"2020-03-13T00:00:00\", \"2020-03-14T00:00:00\", \"2020-03-15T00:00:00\", \"2020-03-16T00:00:00\", \"2020-03-17T00:00:00\", \"2020-03-18T00:00:00\", \"2020-03-19T00:00:00\", \"2020-03-20T00:00:00\", \"2020-03-21T00:00:00\", \"2020-03-22T00:00:00\", \"2020-03-23T00:00:00\", \"2020-03-24T00:00:00\", \"2020-03-25T00:00:00\", \"2020-03-26T00:00:00\", \"2020-03-27T00:00:00\", \"2020-03-28T00:00:00\", \"2020-03-29T00:00:00\", \"2020-03-30T00:00:00\", \"2020-03-31T00:00:00\", \"2020-04-01T00:00:00\", \"2020-04-02T00:00:00\", \"2020-04-03T00:00:00\", \"2020-04-04T00:00:00\", \"2020-04-05T00:00:00\", \"2020-04-06T00:00:00\", \"2020-04-07T00:00:00\", \"2020-04-08T00:00:00\", \"2020-04-09T00:00:00\", \"2020-04-10T00:00:00\", \"2020-04-11T00:00:00\", \"2020-04-12T00:00:00\", \"2020-04-13T00:00:00\", \"2020-04-16T00:00:00\", \"2020-04-17T00:00:00\", \"2020-04-18T00:00:00\", \"2020-04-19T00:00:00\", \"2020-04-20T00:00:00\", \"2020-04-21T00:00:00\", \"2020-04-22T00:00:00\", \"2020-04-23T00:00:00\", \"2020-04-24T00:00:00\", \"2020-04-25T00:00:00\", \"2020-04-26T00:00:00\", \"2020-04-27T00:00:00\", \"2020-04-28T00:00:00\", \"2020-04-29T00:00:00\", \"2020-04-30T00:00:00\", \"2020-05-01T00:00:00\", \"2020-05-02T00:00:00\", \"2020-05-03T00:00:00\", \"2020-05-04T00:00:00\", \"2020-05-05T00:00:00\", \"2020-05-06T00:00:00\", \"2020-05-07T00:00:00\", \"2020-05-08T00:00:00\", \"2020-05-09T00:00:00\", \"2020-05-10T00:00:00\", \"2020-05-11T00:00:00\", \"2020-05-12T00:00:00\", \"2020-05-13T00:00:00\", \"2020-05-14T00:00:00\", \"2020-05-15T00:00:00\", \"2020-05-16T00:00:00\", \"2020-05-17T00:00:00\", \"2020-05-18T00:00:00\", \"2020-05-19T00:00:00\", \"2020-05-20T00:00:00\", \"2020-05-21T00:00:00\", \"2020-05-22T00:00:00\", \"2020-05-23T00:00:00\", \"2020-05-24T00:00:00\", \"2020-05-25T00:00:00\", \"2020-05-26T00:00:00\", \"2020-05-27T00:00:00\", \"2020-05-28T00:00:00\", \"2020-05-29T00:00:00\", \"2020-05-30T00:00:00\", \"2020-05-31T00:00:00\", \"2020-06-01T00:00:00\", \"2020-06-02T00:00:00\", \"2020-06-03T00:00:00\", \"2020-06-04T00:00:00\", \"2020-06-05T00:00:00\", \"2020-06-06T00:00:00\", \"2020-06-07T00:00:00\", \"2020-06-08T00:00:00\", \"2020-06-09T00:00:00\", \"2020-06-10T00:00:00\", \"2020-06-11T00:00:00\", \"2020-06-12T00:00:00\", \"2020-06-13T00:00:00\", \"2020-06-14T00:00:00\", \"2020-06-15T00:00:00\", \"2020-06-16T00:00:00\", \"2020-06-17T00:00:00\", \"2020-06-18T00:00:00\", \"2020-06-19T00:00:00\", \"2020-06-20T00:00:00\"], \"y\": [1.0, 0.0, 2.0, 0.0, 0.0, 0.0, 2.0, 0.0, 5.0, 6.0, 0.0, 6.0, 17.0, 28.0, 37.0, 42.0, 58.0, 59.0, 86.0, 96.0, 102.0, 134.0, 159.0, 212.0, 257.0, 311.0, 366.0, 440.0, 508.0, 557.0, 586.0, 633.0, 686.0, 794.0, 875.0, 959.0, 1001.0, 1085.0, 1168.0, 1219.0, 1288.0, 1366.0, 1434.0, 1904.0, 2148.0, 2234.0, 2387.0, 2553.0, 2671.0, 2880.0, 2957.0, 3114.0, 3201.0, 3311.0, 3263.0, 3309.0, 3225.0, 3269.0, 3315.0, 3300.0, 3291.0, 3221.0, 3200.0, 3208.0, 3186.0, 3201.0, 3263.0, 3321.0, 3282.0, 3239.0, 3193.0, 3107.0, 3062.0, 3014.0, 3018.0, 3002.0, 2929.0, 2841.0, 2735.0, 2758.0, 2570.0, 2545.0, 2558.0, 2494.0, 2421.0, 2245.0, 2241.0, 2175.0, 2143.0, 1735.0, 1250.0, 850.0, 600.0, 595.0, 628.0, 652.0, 686.0, 734.0, 732.0, 743.0, 780.0, 784.0, 816.0, 845.0, 746.0, 791.0, 820.0, 1283.0, 1403.0]}],\n",
              "                        {\"plot_bgcolor\": \"rgb(230, 230, 230)\", \"template\": {\"data\": {\"bar\": [{\"error_x\": {\"color\": \"#2a3f5f\"}, \"error_y\": {\"color\": \"#2a3f5f\"}, \"marker\": {\"line\": {\"color\": \"#E5ECF6\", \"width\": 0.5}}, \"type\": \"bar\"}], \"barpolar\": [{\"marker\": {\"line\": {\"color\": \"#E5ECF6\", \"width\": 0.5}}, \"type\": \"barpolar\"}], \"carpet\": [{\"aaxis\": {\"endlinecolor\": \"#2a3f5f\", \"gridcolor\": \"white\", \"linecolor\": \"white\", \"minorgridcolor\": \"white\", \"startlinecolor\": \"#2a3f5f\"}, \"baxis\": {\"endlinecolor\": \"#2a3f5f\", \"gridcolor\": \"white\", \"linecolor\": \"white\", \"minorgridcolor\": \"white\", \"startlinecolor\": \"#2a3f5f\"}, \"type\": \"carpet\"}], \"choropleth\": [{\"colorbar\": {\"outlinewidth\": 0, \"ticks\": \"\"}, \"type\": \"choropleth\"}], \"contour\": [{\"colorbar\": {\"outlinewidth\": 0, \"ticks\": \"\"}, \"colorscale\": [[0.0, \"#0d0887\"], [0.1111111111111111, \"#46039f\"], [0.2222222222222222, \"#7201a8\"], [0.3333333333333333, \"#9c179e\"], [0.4444444444444444, \"#bd3786\"], [0.5555555555555556, \"#d8576b\"], [0.6666666666666666, \"#ed7953\"], [0.7777777777777778, \"#fb9f3a\"], [0.8888888888888888, \"#fdca26\"], [1.0, \"#f0f921\"]], \"type\": \"contour\"}], \"contourcarpet\": [{\"colorbar\": {\"outlinewidth\": 0, \"ticks\": \"\"}, \"type\": \"contourcarpet\"}], \"heatmap\": [{\"colorbar\": {\"outlinewidth\": 0, \"ticks\": \"\"}, \"colorscale\": [[0.0, \"#0d0887\"], [0.1111111111111111, \"#46039f\"], [0.2222222222222222, \"#7201a8\"], [0.3333333333333333, \"#9c179e\"], [0.4444444444444444, \"#bd3786\"], [0.5555555555555556, \"#d8576b\"], [0.6666666666666666, \"#ed7953\"], [0.7777777777777778, \"#fb9f3a\"], [0.8888888888888888, \"#fdca26\"], [1.0, \"#f0f921\"]], \"type\": \"heatmap\"}], \"heatmapgl\": [{\"colorbar\": {\"outlinewidth\": 0, \"ticks\": \"\"}, \"colorscale\": [[0.0, \"#0d0887\"], [0.1111111111111111, \"#46039f\"], [0.2222222222222222, \"#7201a8\"], [0.3333333333333333, \"#9c179e\"], [0.4444444444444444, \"#bd3786\"], [0.5555555555555556, \"#d8576b\"], [0.6666666666666666, \"#ed7953\"], [0.7777777777777778, \"#fb9f3a\"], [0.8888888888888888, \"#fdca26\"], [1.0, \"#f0f921\"]], \"type\": \"heatmapgl\"}], \"histogram\": [{\"marker\": {\"colorbar\": {\"outlinewidth\": 0, \"ticks\": \"\"}}, \"type\": \"histogram\"}], \"histogram2d\": [{\"colorbar\": {\"outlinewidth\": 0, \"ticks\": \"\"}, \"colorscale\": [[0.0, \"#0d0887\"], [0.1111111111111111, \"#46039f\"], [0.2222222222222222, \"#7201a8\"], [0.3333333333333333, \"#9c179e\"], [0.4444444444444444, \"#bd3786\"], [0.5555555555555556, \"#d8576b\"], [0.6666666666666666, \"#ed7953\"], [0.7777777777777778, \"#fb9f3a\"], [0.8888888888888888, \"#fdca26\"], [1.0, \"#f0f921\"]], \"type\": \"histogram2d\"}], \"histogram2dcontour\": [{\"colorbar\": {\"outlinewidth\": 0, \"ticks\": \"\"}, \"colorscale\": [[0.0, \"#0d0887\"], [0.1111111111111111, \"#46039f\"], [0.2222222222222222, \"#7201a8\"], [0.3333333333333333, \"#9c179e\"], [0.4444444444444444, \"#bd3786\"], [0.5555555555555556, \"#d8576b\"], [0.6666666666666666, \"#ed7953\"], [0.7777777777777778, \"#fb9f3a\"], [0.8888888888888888, \"#fdca26\"], [1.0, \"#f0f921\"]], \"type\": \"histogram2dcontour\"}], \"mesh3d\": [{\"colorbar\": {\"outlinewidth\": 0, \"ticks\": \"\"}, \"type\": \"mesh3d\"}], \"parcoords\": [{\"line\": {\"colorbar\": {\"outlinewidth\": 0, \"ticks\": \"\"}}, \"type\": \"parcoords\"}], \"pie\": [{\"automargin\": true, \"type\": \"pie\"}], \"scatter\": [{\"marker\": {\"colorbar\": {\"outlinewidth\": 0, \"ticks\": \"\"}}, \"type\": \"scatter\"}], \"scatter3d\": [{\"line\": {\"colorbar\": {\"outlinewidth\": 0, \"ticks\": \"\"}}, \"marker\": {\"colorbar\": {\"outlinewidth\": 0, \"ticks\": \"\"}}, \"type\": \"scatter3d\"}], \"scattercarpet\": [{\"marker\": {\"colorbar\": {\"outlinewidth\": 0, \"ticks\": \"\"}}, \"type\": \"scattercarpet\"}], \"scattergeo\": [{\"marker\": {\"colorbar\": {\"outlinewidth\": 0, \"ticks\": \"\"}}, \"type\": \"scattergeo\"}], \"scattergl\": [{\"marker\": {\"colorbar\": {\"outlinewidth\": 0, \"ticks\": \"\"}}, \"type\": \"scattergl\"}], \"scattermapbox\": [{\"marker\": {\"colorbar\": {\"outlinewidth\": 0, \"ticks\": \"\"}}, \"type\": \"scattermapbox\"}], \"scatterpolar\": [{\"marker\": {\"colorbar\": {\"outlinewidth\": 0, \"ticks\": \"\"}}, \"type\": \"scatterpolar\"}], \"scatterpolargl\": [{\"marker\": {\"colorbar\": {\"outlinewidth\": 0, \"ticks\": \"\"}}, \"type\": \"scatterpolargl\"}], \"scatterternary\": [{\"marker\": {\"colorbar\": {\"outlinewidth\": 0, \"ticks\": \"\"}}, \"type\": \"scatterternary\"}], \"surface\": [{\"colorbar\": {\"outlinewidth\": 0, \"ticks\": \"\"}, \"colorscale\": [[0.0, \"#0d0887\"], [0.1111111111111111, \"#46039f\"], [0.2222222222222222, \"#7201a8\"], [0.3333333333333333, \"#9c179e\"], [0.4444444444444444, \"#bd3786\"], [0.5555555555555556, \"#d8576b\"], [0.6666666666666666, \"#ed7953\"], [0.7777777777777778, \"#fb9f3a\"], [0.8888888888888888, \"#fdca26\"], [1.0, \"#f0f921\"]], \"type\": \"surface\"}], \"table\": [{\"cells\": {\"fill\": {\"color\": \"#EBF0F8\"}, \"line\": {\"color\": \"white\"}}, \"header\": {\"fill\": {\"color\": \"#C8D4E3\"}, \"line\": {\"color\": \"white\"}}, \"type\": \"table\"}]}, \"layout\": {\"annotationdefaults\": {\"arrowcolor\": \"#2a3f5f\", \"arrowhead\": 0, \"arrowwidth\": 1}, \"coloraxis\": {\"colorbar\": {\"outlinewidth\": 0, \"ticks\": \"\"}}, \"colorscale\": {\"diverging\": [[0, \"#8e0152\"], [0.1, \"#c51b7d\"], [0.2, \"#de77ae\"], [0.3, \"#f1b6da\"], [0.4, \"#fde0ef\"], [0.5, \"#f7f7f7\"], [0.6, \"#e6f5d0\"], [0.7, \"#b8e186\"], [0.8, \"#7fbc41\"], [0.9, \"#4d9221\"], [1, \"#276419\"]], \"sequential\": [[0.0, \"#0d0887\"], [0.1111111111111111, \"#46039f\"], [0.2222222222222222, \"#7201a8\"], [0.3333333333333333, \"#9c179e\"], [0.4444444444444444, \"#bd3786\"], [0.5555555555555556, \"#d8576b\"], [0.6666666666666666, \"#ed7953\"], [0.7777777777777778, \"#fb9f3a\"], [0.8888888888888888, \"#fdca26\"], [1.0, \"#f0f921\"]], \"sequentialminus\": [[0.0, \"#0d0887\"], [0.1111111111111111, \"#46039f\"], [0.2222222222222222, \"#7201a8\"], [0.3333333333333333, \"#9c179e\"], [0.4444444444444444, \"#bd3786\"], [0.5555555555555556, \"#d8576b\"], [0.6666666666666666, \"#ed7953\"], [0.7777777777777778, \"#fb9f3a\"], [0.8888888888888888, \"#fdca26\"], [1.0, \"#f0f921\"]]}, \"colorway\": [\"#636efa\", \"#EF553B\", \"#00cc96\", \"#ab63fa\", \"#FFA15A\", \"#19d3f3\", \"#FF6692\", \"#B6E880\", \"#FF97FF\", \"#FECB52\"], \"font\": {\"color\": \"#2a3f5f\"}, \"geo\": {\"bgcolor\": \"white\", \"lakecolor\": \"white\", \"landcolor\": \"#E5ECF6\", \"showlakes\": true, \"showland\": true, \"subunitcolor\": \"white\"}, \"hoverlabel\": {\"align\": \"left\"}, \"hovermode\": \"closest\", \"mapbox\": {\"style\": \"light\"}, \"paper_bgcolor\": \"white\", \"plot_bgcolor\": \"#E5ECF6\", \"polar\": {\"angularaxis\": {\"gridcolor\": \"white\", \"linecolor\": \"white\", \"ticks\": \"\"}, \"bgcolor\": \"#E5ECF6\", \"radialaxis\": {\"gridcolor\": \"white\", \"linecolor\": \"white\", \"ticks\": \"\"}}, \"scene\": {\"xaxis\": {\"backgroundcolor\": \"#E5ECF6\", \"gridcolor\": \"white\", \"gridwidth\": 2, \"linecolor\": \"white\", \"showbackground\": true, \"ticks\": \"\", \"zerolinecolor\": \"white\"}, \"yaxis\": {\"backgroundcolor\": \"#E5ECF6\", \"gridcolor\": \"white\", \"gridwidth\": 2, \"linecolor\": \"white\", \"showbackground\": true, \"ticks\": \"\", \"zerolinecolor\": \"white\"}, \"zaxis\": {\"backgroundcolor\": \"#E5ECF6\", \"gridcolor\": \"white\", \"gridwidth\": 2, \"linecolor\": \"white\", \"showbackground\": true, \"ticks\": \"\", \"zerolinecolor\": \"white\"}}, \"shapedefaults\": {\"line\": {\"color\": \"#2a3f5f\"}}, \"ternary\": {\"aaxis\": {\"gridcolor\": \"white\", \"linecolor\": \"white\", \"ticks\": \"\"}, \"baxis\": {\"gridcolor\": \"white\", \"linecolor\": \"white\", \"ticks\": \"\"}, \"bgcolor\": \"#E5ECF6\", \"caxis\": {\"gridcolor\": \"white\", \"linecolor\": \"white\", \"ticks\": \"\"}}, \"title\": {\"x\": 0.05}, \"xaxis\": {\"automargin\": true, \"gridcolor\": \"white\", \"linecolor\": \"white\", \"ticks\": \"\", \"title\": {\"standoff\": 15}, \"zerolinecolor\": \"white\", \"zerolinewidth\": 2}, \"yaxis\": {\"automargin\": true, \"gridcolor\": \"white\", \"linecolor\": \"white\", \"ticks\": \"\", \"title\": {\"standoff\": 15}, \"zerolinecolor\": \"white\", \"zerolinewidth\": 2}}}, \"title\": {\"text\": \"Trend of Actif Coronavirus Cases in Morocco \"}},\n",
              "                        {\"responsive\": true}\n",
              "                    ).then(function(){\n",
              "                            \n",
              "var gd = document.getElementById('ecbed10c-2cd6-4d92-a8c0-83af53176336');\n",
              "var x = new MutationObserver(function (mutations, observer) {{\n",
              "        var display = window.getComputedStyle(gd).display;\n",
              "        if (!display || display === 'none') {{\n",
              "            console.log([gd, 'removed!']);\n",
              "            Plotly.purge(gd);\n",
              "            observer.disconnect();\n",
              "        }}\n",
              "}});\n",
              "\n",
              "// Listen for the removal of the full notebook cells\n",
              "var notebookContainer = gd.closest('#notebook-container');\n",
              "if (notebookContainer) {{\n",
              "    x.observe(notebookContainer, {childList: true});\n",
              "}}\n",
              "\n",
              "// Listen for the clearing of the current output cell\n",
              "var outputEl = gd.closest('.output');\n",
              "if (outputEl) {{\n",
              "    x.observe(outputEl, {childList: true});\n",
              "}}\n",
              "\n",
              "                        })\n",
              "                };\n",
              "                \n",
              "            </script>\n",
              "        </div>\n",
              "</body>\n",
              "</html>"
            ]
          },
          "metadata": {
            "tags": []
          }
        }
      ]
    },
    {
      "cell_type": "markdown",
      "metadata": {
        "colab_type": "text",
        "id": "PWiZ7pihsNq2"
      },
      "source": [
        "<div id=\"two1\"><h2>2.1  Predecting the trend of confirmed cases in the next 10 Days</h2></div>\n",
        "<h4><a href=\"#content\">reture to content table </a></h4>"
      ]
    },
    {
      "cell_type": "markdown",
      "metadata": {
        "colab_type": "text",
        "id": "lNiEuOEosSR-"
      },
      "source": [
        "<b>The input to Prophet is always a dataframe with two columns: ds and y. The ds (datestamp) column should be of a format expected by Pandas, ideally YYYY-MM-DD for a date or YYYY-MM-DD HH:MM:SS for a timestamp. The y column must be numeric, and represents the measurement we wish to forecast</b>"
      ]
    },
    {
      "cell_type": "markdown",
      "metadata": {
        "id": "RGWnWFYYERXz",
        "colab_type": "text"
      },
      "source": [
        "<b>grouping by Date (ds) and Confirmed (y)"
      ]
    },
    {
      "cell_type": "code",
      "metadata": {
        "colab_type": "code",
        "id": "NxB7BnnApqOO",
        "colab": {}
      },
      "source": [
        "confirmed = df.groupby('Date').sum()['Confirmed'].reset_index()\n",
        "\n",
        "confirmed.columns = ['ds','y']"
      ],
      "execution_count": 78,
      "outputs": []
    },
    {
      "cell_type": "markdown",
      "metadata": {
        "colab_type": "text",
        "id": "VXiZmm4usgPp"
      },
      "source": [
        "<b>Generating a 10 days ahead forecast of confirmed cases  using Prophet, with 95% prediction interval by creating a base model with no tweaking of seasonality-related parameters and additional regressors.</b>"
      ]
    },
    {
      "cell_type": "code",
      "metadata": {
        "colab_type": "code",
        "id": "-ef0aLYDpqOT",
        "scrolled": true,
        "colab": {
          "base_uri": "https://localhost:8080/",
          "height": 393
        },
        "outputId": "3cd41eed-b8bd-486a-c0dc-3898b43bed0e"
      },
      "source": [
        "m = Prophet(interval_width=0.95)\n",
        "m.fit(confirmed)\n",
        "future = m.make_future_dataframe(periods=10)\n",
        "future.tail(10)"
      ],
      "execution_count": 79,
      "outputs": [
        {
          "output_type": "stream",
          "text": [
            "INFO:fbprophet:Disabling yearly seasonality. Run prophet with yearly_seasonality=True to override this.\n",
            "INFO:fbprophet:Disabling daily seasonality. Run prophet with daily_seasonality=True to override this.\n"
          ],
          "name": "stderr"
        },
        {
          "output_type": "execute_result",
          "data": {
            "text/html": [
              "<div>\n",
              "<style scoped>\n",
              "    .dataframe tbody tr th:only-of-type {\n",
              "        vertical-align: middle;\n",
              "    }\n",
              "\n",
              "    .dataframe tbody tr th {\n",
              "        vertical-align: top;\n",
              "    }\n",
              "\n",
              "    .dataframe thead th {\n",
              "        text-align: right;\n",
              "    }\n",
              "</style>\n",
              "<table border=\"1\" class=\"dataframe\">\n",
              "  <thead>\n",
              "    <tr style=\"text-align: right;\">\n",
              "      <th></th>\n",
              "      <th>ds</th>\n",
              "    </tr>\n",
              "  </thead>\n",
              "  <tbody>\n",
              "    <tr>\n",
              "      <th>109</th>\n",
              "      <td>2020-06-21</td>\n",
              "    </tr>\n",
              "    <tr>\n",
              "      <th>110</th>\n",
              "      <td>2020-06-22</td>\n",
              "    </tr>\n",
              "    <tr>\n",
              "      <th>111</th>\n",
              "      <td>2020-06-23</td>\n",
              "    </tr>\n",
              "    <tr>\n",
              "      <th>112</th>\n",
              "      <td>2020-06-24</td>\n",
              "    </tr>\n",
              "    <tr>\n",
              "      <th>113</th>\n",
              "      <td>2020-06-25</td>\n",
              "    </tr>\n",
              "    <tr>\n",
              "      <th>114</th>\n",
              "      <td>2020-06-26</td>\n",
              "    </tr>\n",
              "    <tr>\n",
              "      <th>115</th>\n",
              "      <td>2020-06-27</td>\n",
              "    </tr>\n",
              "    <tr>\n",
              "      <th>116</th>\n",
              "      <td>2020-06-28</td>\n",
              "    </tr>\n",
              "    <tr>\n",
              "      <th>117</th>\n",
              "      <td>2020-06-29</td>\n",
              "    </tr>\n",
              "    <tr>\n",
              "      <th>118</th>\n",
              "      <td>2020-06-30</td>\n",
              "    </tr>\n",
              "  </tbody>\n",
              "</table>\n",
              "</div>"
            ],
            "text/plain": [
              "            ds\n",
              "109 2020-06-21\n",
              "110 2020-06-22\n",
              "111 2020-06-23\n",
              "112 2020-06-24\n",
              "113 2020-06-25\n",
              "114 2020-06-26\n",
              "115 2020-06-27\n",
              "116 2020-06-28\n",
              "117 2020-06-29\n",
              "118 2020-06-30"
            ]
          },
          "metadata": {
            "tags": []
          },
          "execution_count": 79
        }
      ]
    },
    {
      "cell_type": "markdown",
      "metadata": {
        "id": "oE--xlKtERYA",
        "colab_type": "text"
      },
      "source": [
        "<b>predicting the future with date, and upper and lower limit of y value</b>"
      ]
    },
    {
      "cell_type": "code",
      "metadata": {
        "colab_type": "code",
        "id": "GHExBzl7sb_p",
        "colab": {
          "base_uri": "https://localhost:8080/",
          "height": 204
        },
        "outputId": "76300409-45a0-4a6c-de9a-b82764818baf"
      },
      "source": [
        "forecast = m.predict(future)\n",
        "forecast[['ds', 'yhat', 'yhat_lower', 'yhat_upper']].tail()"
      ],
      "execution_count": 80,
      "outputs": [
        {
          "output_type": "execute_result",
          "data": {
            "text/html": [
              "<div>\n",
              "<style scoped>\n",
              "    .dataframe tbody tr th:only-of-type {\n",
              "        vertical-align: middle;\n",
              "    }\n",
              "\n",
              "    .dataframe tbody tr th {\n",
              "        vertical-align: top;\n",
              "    }\n",
              "\n",
              "    .dataframe thead th {\n",
              "        text-align: right;\n",
              "    }\n",
              "</style>\n",
              "<table border=\"1\" class=\"dataframe\">\n",
              "  <thead>\n",
              "    <tr style=\"text-align: right;\">\n",
              "      <th></th>\n",
              "      <th>ds</th>\n",
              "      <th>yhat</th>\n",
              "      <th>yhat_lower</th>\n",
              "      <th>yhat_upper</th>\n",
              "    </tr>\n",
              "  </thead>\n",
              "  <tbody>\n",
              "    <tr>\n",
              "      <th>114</th>\n",
              "      <td>2020-06-26</td>\n",
              "      <td>9763.435091</td>\n",
              "      <td>9571.240798</td>\n",
              "      <td>9980.485834</td>\n",
              "    </tr>\n",
              "    <tr>\n",
              "      <th>115</th>\n",
              "      <td>2020-06-27</td>\n",
              "      <td>9844.816618</td>\n",
              "      <td>9621.714089</td>\n",
              "      <td>10072.623934</td>\n",
              "    </tr>\n",
              "    <tr>\n",
              "      <th>116</th>\n",
              "      <td>2020-06-28</td>\n",
              "      <td>9892.472803</td>\n",
              "      <td>9630.829925</td>\n",
              "      <td>10142.506363</td>\n",
              "    </tr>\n",
              "    <tr>\n",
              "      <th>117</th>\n",
              "      <td>2020-06-29</td>\n",
              "      <td>9968.501583</td>\n",
              "      <td>9691.167834</td>\n",
              "      <td>10260.509351</td>\n",
              "    </tr>\n",
              "    <tr>\n",
              "      <th>118</th>\n",
              "      <td>2020-06-30</td>\n",
              "      <td>10044.924854</td>\n",
              "      <td>9728.760961</td>\n",
              "      <td>10365.086951</td>\n",
              "    </tr>\n",
              "  </tbody>\n",
              "</table>\n",
              "</div>"
            ],
            "text/plain": [
              "            ds          yhat   yhat_lower    yhat_upper\n",
              "114 2020-06-26   9763.435091  9571.240798   9980.485834\n",
              "115 2020-06-27   9844.816618  9621.714089  10072.623934\n",
              "116 2020-06-28   9892.472803  9630.829925  10142.506363\n",
              "117 2020-06-29   9968.501583  9691.167834  10260.509351\n",
              "118 2020-06-30  10044.924854  9728.760961  10365.086951"
            ]
          },
          "metadata": {
            "tags": []
          },
          "execution_count": 80
        }
      ]
    },
    {
      "cell_type": "code",
      "metadata": {
        "colab_type": "code",
        "id": "O-AOQlchscKt",
        "colab": {
          "base_uri": "https://localhost:8080/",
          "height": 542
        },
        "outputId": "f462a636-94bc-4fe2-9ff2-950396121132"
      },
      "source": [
        "\n",
        "fig = go.Figure()\n",
        "fig.add_trace(go.Scatter(x=forecast.ds, y = abs(forecast['yhat'].round()), mode= 'lines+markers',name='Predicted daily cases'))\n",
        "fig.add_trace(go.Scatter(x=forecast.ds, y = abs(forecast['yhat_lower'].round()), mode= 'markers',name='Predicted daily cases yhat_lower'))\n",
        "fig.add_trace(go.Scatter(x=forecast.ds, y = abs(forecast['yhat_upper'].round()), mode= 'markers',name='Predicted daily cases yhat_upper'))\n",
        "\n",
        "fig.add_trace(go.Scatter(x=df.index, y = df['Confirmed'], mode= 'lines+markers',name='Daily cases'))"
      ],
      "execution_count": 81,
      "outputs": [
        {
          "output_type": "display_data",
          "data": {
            "text/html": [
              "<html>\n",
              "<head><meta charset=\"utf-8\" /></head>\n",
              "<body>\n",
              "    <div>\n",
              "            <script src=\"https://cdnjs.cloudflare.com/ajax/libs/mathjax/2.7.5/MathJax.js?config=TeX-AMS-MML_SVG\"></script><script type=\"text/javascript\">if (window.MathJax) {MathJax.Hub.Config({SVG: {font: \"STIX-Web\"}});}</script>\n",
              "                <script type=\"text/javascript\">window.PlotlyConfig = {MathJaxConfig: 'local'};</script>\n",
              "        <script src=\"https://cdn.plot.ly/plotly-latest.min.js\"></script>    \n",
              "            <div id=\"de22dd20-0a6b-47ae-bf8c-295a9eecb64e\" class=\"plotly-graph-div\" style=\"height:525px; width:100%;\"></div>\n",
              "            <script type=\"text/javascript\">\n",
              "                \n",
              "                    window.PLOTLYENV=window.PLOTLYENV || {};\n",
              "                    \n",
              "                if (document.getElementById(\"de22dd20-0a6b-47ae-bf8c-295a9eecb64e\")) {\n",
              "                    Plotly.newPlot(\n",
              "                        'de22dd20-0a6b-47ae-bf8c-295a9eecb64e',\n",
              "                        [{\"mode\": \"lines+markers\", \"name\": \"Predicted daily cases\", \"type\": \"scatter\", \"x\": [\"2020-03-02T00:00:00\", \"2020-03-03T00:00:00\", \"2020-03-04T00:00:00\", \"2020-03-05T00:00:00\", \"2020-03-06T00:00:00\", \"2020-03-07T00:00:00\", \"2020-03-08T00:00:00\", \"2020-03-09T00:00:00\", \"2020-03-10T00:00:00\", \"2020-03-11T00:00:00\", \"2020-03-12T00:00:00\", \"2020-03-13T00:00:00\", \"2020-03-14T00:00:00\", \"2020-03-15T00:00:00\", \"2020-03-16T00:00:00\", \"2020-03-17T00:00:00\", \"2020-03-18T00:00:00\", \"2020-03-19T00:00:00\", \"2020-03-20T00:00:00\", \"2020-03-21T00:00:00\", \"2020-03-22T00:00:00\", \"2020-03-23T00:00:00\", \"2020-03-24T00:00:00\", \"2020-03-25T00:00:00\", \"2020-03-26T00:00:00\", \"2020-03-27T00:00:00\", \"2020-03-28T00:00:00\", \"2020-03-29T00:00:00\", \"2020-03-30T00:00:00\", \"2020-03-31T00:00:00\", \"2020-04-01T00:00:00\", \"2020-04-02T00:00:00\", \"2020-04-03T00:00:00\", \"2020-04-04T00:00:00\", \"2020-04-05T00:00:00\", \"2020-04-06T00:00:00\", \"2020-04-07T00:00:00\", \"2020-04-08T00:00:00\", \"2020-04-09T00:00:00\", \"2020-04-10T00:00:00\", \"2020-04-11T00:00:00\", \"2020-04-12T00:00:00\", \"2020-04-13T00:00:00\", \"2020-04-16T00:00:00\", \"2020-04-17T00:00:00\", \"2020-04-18T00:00:00\", \"2020-04-19T00:00:00\", \"2020-04-20T00:00:00\", \"2020-04-21T00:00:00\", \"2020-04-22T00:00:00\", \"2020-04-23T00:00:00\", \"2020-04-24T00:00:00\", \"2020-04-25T00:00:00\", \"2020-04-26T00:00:00\", \"2020-04-27T00:00:00\", \"2020-04-28T00:00:00\", \"2020-04-29T00:00:00\", \"2020-04-30T00:00:00\", \"2020-05-01T00:00:00\", \"2020-05-02T00:00:00\", \"2020-05-03T00:00:00\", \"2020-05-04T00:00:00\", \"2020-05-05T00:00:00\", \"2020-05-06T00:00:00\", \"2020-05-07T00:00:00\", \"2020-05-08T00:00:00\", \"2020-05-09T00:00:00\", \"2020-05-10T00:00:00\", \"2020-05-11T00:00:00\", \"2020-05-12T00:00:00\", \"2020-05-13T00:00:00\", \"2020-05-14T00:00:00\", \"2020-05-15T00:00:00\", \"2020-05-16T00:00:00\", \"2020-05-17T00:00:00\", \"2020-05-18T00:00:00\", \"2020-05-19T00:00:00\", \"2020-05-20T00:00:00\", \"2020-05-21T00:00:00\", \"2020-05-22T00:00:00\", \"2020-05-23T00:00:00\", \"2020-05-24T00:00:00\", \"2020-05-25T00:00:00\", \"2020-05-26T00:00:00\", \"2020-05-27T00:00:00\", \"2020-05-28T00:00:00\", \"2020-05-29T00:00:00\", \"2020-05-30T00:00:00\", \"2020-05-31T00:00:00\", \"2020-06-01T00:00:00\", \"2020-06-02T00:00:00\", \"2020-06-03T00:00:00\", \"2020-06-04T00:00:00\", \"2020-06-05T00:00:00\", \"2020-06-06T00:00:00\", \"2020-06-07T00:00:00\", \"2020-06-08T00:00:00\", \"2020-06-09T00:00:00\", \"2020-06-10T00:00:00\", \"2020-06-11T00:00:00\", \"2020-06-12T00:00:00\", \"2020-06-13T00:00:00\", \"2020-06-14T00:00:00\", \"2020-06-15T00:00:00\", \"2020-06-16T00:00:00\", \"2020-06-17T00:00:00\", \"2020-06-18T00:00:00\", \"2020-06-19T00:00:00\", \"2020-06-20T00:00:00\", \"2020-06-21T00:00:00\", \"2020-06-22T00:00:00\", \"2020-06-23T00:00:00\", \"2020-06-24T00:00:00\", \"2020-06-25T00:00:00\", \"2020-06-26T00:00:00\", \"2020-06-27T00:00:00\", \"2020-06-28T00:00:00\", \"2020-06-29T00:00:00\", \"2020-06-30T00:00:00\"], \"y\": [42.0, 34.0, 30.0, 42.0, 0.0, 13.0, 7.0, 1.0, 9.0, 13.0, 1.0, 42.0, 56.0, 36.0, 44.0, 52.0, 56.0, 44.0, 102.0, 131.0, 127.0, 151.0, 194.0, 233.0, 256.0, 352.0, 419.0, 453.0, 515.0, 589.0, 657.0, 711.0, 830.0, 922.0, 979.0, 1080.0, 1182.0, 1278.0, 1360.0, 1523.0, 1657.0, 1758.0, 1915.0, 2363.0, 2554.0, 2716.0, 2845.0, 3003.0, 3160.0, 3311.0, 3447.0, 3637.0, 3798.0, 3921.0, 4073.0, 4225.0, 4373.0, 4505.0, 4690.0, 4848.0, 4971.0, 5123.0, 5275.0, 5423.0, 5555.0, 5740.0, 5898.0, 6021.0, 6173.0, 6325.0, 6441.0, 6541.0, 6695.0, 6789.0, 6849.0, 6938.0, 7027.0, 7090.0, 7139.0, 7241.0, 7312.0, 7350.0, 7415.0, 7481.0, 7543.0, 7589.0, 7688.0, 7769.0, 7817.0, 7893.0, 7969.0, 8041.0, 8097.0, 8207.0, 8288.0, 8336.0, 8412.0, 8488.0, 8560.0, 8616.0, 8726.0, 8807.0, 8855.0, 8931.0, 9007.0, 9079.0, 9135.0, 9245.0, 9326.0, 9374.0, 9450.0, 9526.0, 9598.0, 9654.0, 9763.0, 9845.0, 9892.0, 9969.0, 10045.0]}, {\"mode\": \"markers\", \"name\": \"Predicted daily cases yhat_lower\", \"type\": \"scatter\", \"x\": [\"2020-03-02T00:00:00\", \"2020-03-03T00:00:00\", \"2020-03-04T00:00:00\", \"2020-03-05T00:00:00\", \"2020-03-06T00:00:00\", \"2020-03-07T00:00:00\", \"2020-03-08T00:00:00\", \"2020-03-09T00:00:00\", \"2020-03-10T00:00:00\", \"2020-03-11T00:00:00\", \"2020-03-12T00:00:00\", \"2020-03-13T00:00:00\", \"2020-03-14T00:00:00\", \"2020-03-15T00:00:00\", \"2020-03-16T00:00:00\", \"2020-03-17T00:00:00\", \"2020-03-18T00:00:00\", \"2020-03-19T00:00:00\", \"2020-03-20T00:00:00\", \"2020-03-21T00:00:00\", \"2020-03-22T00:00:00\", \"2020-03-23T00:00:00\", \"2020-03-24T00:00:00\", \"2020-03-25T00:00:00\", \"2020-03-26T00:00:00\", \"2020-03-27T00:00:00\", \"2020-03-28T00:00:00\", \"2020-03-29T00:00:00\", \"2020-03-30T00:00:00\", \"2020-03-31T00:00:00\", \"2020-04-01T00:00:00\", \"2020-04-02T00:00:00\", \"2020-04-03T00:00:00\", \"2020-04-04T00:00:00\", \"2020-04-05T00:00:00\", \"2020-04-06T00:00:00\", \"2020-04-07T00:00:00\", \"2020-04-08T00:00:00\", \"2020-04-09T00:00:00\", \"2020-04-10T00:00:00\", \"2020-04-11T00:00:00\", \"2020-04-12T00:00:00\", \"2020-04-13T00:00:00\", \"2020-04-16T00:00:00\", \"2020-04-17T00:00:00\", \"2020-04-18T00:00:00\", \"2020-04-19T00:00:00\", \"2020-04-20T00:00:00\", \"2020-04-21T00:00:00\", \"2020-04-22T00:00:00\", \"2020-04-23T00:00:00\", \"2020-04-24T00:00:00\", \"2020-04-25T00:00:00\", \"2020-04-26T00:00:00\", \"2020-04-27T00:00:00\", \"2020-04-28T00:00:00\", \"2020-04-29T00:00:00\", \"2020-04-30T00:00:00\", \"2020-05-01T00:00:00\", \"2020-05-02T00:00:00\", \"2020-05-03T00:00:00\", \"2020-05-04T00:00:00\", \"2020-05-05T00:00:00\", \"2020-05-06T00:00:00\", \"2020-05-07T00:00:00\", \"2020-05-08T00:00:00\", \"2020-05-09T00:00:00\", \"2020-05-10T00:00:00\", \"2020-05-11T00:00:00\", \"2020-05-12T00:00:00\", \"2020-05-13T00:00:00\", \"2020-05-14T00:00:00\", \"2020-05-15T00:00:00\", \"2020-05-16T00:00:00\", \"2020-05-17T00:00:00\", \"2020-05-18T00:00:00\", \"2020-05-19T00:00:00\", \"2020-05-20T00:00:00\", \"2020-05-21T00:00:00\", \"2020-05-22T00:00:00\", \"2020-05-23T00:00:00\", \"2020-05-24T00:00:00\", \"2020-05-25T00:00:00\", \"2020-05-26T00:00:00\", \"2020-05-27T00:00:00\", \"2020-05-28T00:00:00\", \"2020-05-29T00:00:00\", \"2020-05-30T00:00:00\", \"2020-05-31T00:00:00\", \"2020-06-01T00:00:00\", \"2020-06-02T00:00:00\", \"2020-06-03T00:00:00\", \"2020-06-04T00:00:00\", \"2020-06-05T00:00:00\", \"2020-06-06T00:00:00\", \"2020-06-07T00:00:00\", \"2020-06-08T00:00:00\", \"2020-06-09T00:00:00\", \"2020-06-10T00:00:00\", \"2020-06-11T00:00:00\", \"2020-06-12T00:00:00\", \"2020-06-13T00:00:00\", \"2020-06-14T00:00:00\", \"2020-06-15T00:00:00\", \"2020-06-16T00:00:00\", \"2020-06-17T00:00:00\", \"2020-06-18T00:00:00\", \"2020-06-19T00:00:00\", \"2020-06-20T00:00:00\", \"2020-06-21T00:00:00\", \"2020-06-22T00:00:00\", \"2020-06-23T00:00:00\", \"2020-06-24T00:00:00\", \"2020-06-25T00:00:00\", \"2020-06-26T00:00:00\", \"2020-06-27T00:00:00\", \"2020-06-28T00:00:00\", \"2020-06-29T00:00:00\", \"2020-06-30T00:00:00\"], \"y\": [215.0, 210.0, 208.0, 216.0, 174.0, 160.0, 178.0, 163.0, 162.0, 172.0, 162.0, 130.0, 117.0, 139.0, 138.0, 128.0, 130.0, 136.0, 91.0, 36.0, 52.0, 18.0, 22.0, 51.0, 69.0, 182.0, 245.0, 277.0, 337.0, 415.0, 484.0, 538.0, 644.0, 738.0, 814.0, 913.0, 1009.0, 1094.0, 1189.0, 1359.0, 1468.0, 1589.0, 1730.0, 2192.0, 2391.0, 2530.0, 2687.0, 2809.0, 2990.0, 3137.0, 3263.0, 3467.0, 3609.0, 3743.0, 3904.0, 4041.0, 4206.0, 4306.0, 4529.0, 4673.0, 4796.0, 4947.0, 5106.0, 5247.0, 5362.0, 5568.0, 5713.0, 5846.0, 5984.0, 6158.0, 6256.0, 6358.0, 6509.0, 6620.0, 6669.0, 6765.0, 6856.0, 6911.0, 6967.0, 7074.0, 7139.0, 7175.0, 7236.0, 7297.0, 7364.0, 7416.0, 7512.0, 7595.0, 7638.0, 7722.0, 7789.0, 7862.0, 7925.0, 8029.0, 8116.0, 8163.0, 8238.0, 8315.0, 8384.0, 8447.0, 8540.0, 8643.0, 8676.0, 8752.0, 8833.0, 8887.0, 8971.0, 9059.0, 9151.0, 9199.0, 9277.0, 9348.0, 9425.0, 9445.0, 9571.0, 9622.0, 9631.0, 9691.0, 9729.0]}, {\"mode\": \"markers\", \"name\": \"Predicted daily cases yhat_upper\", \"type\": \"scatter\", \"x\": [\"2020-03-02T00:00:00\", \"2020-03-03T00:00:00\", \"2020-03-04T00:00:00\", \"2020-03-05T00:00:00\", \"2020-03-06T00:00:00\", \"2020-03-07T00:00:00\", \"2020-03-08T00:00:00\", \"2020-03-09T00:00:00\", \"2020-03-10T00:00:00\", \"2020-03-11T00:00:00\", \"2020-03-12T00:00:00\", \"2020-03-13T00:00:00\", \"2020-03-14T00:00:00\", \"2020-03-15T00:00:00\", \"2020-03-16T00:00:00\", \"2020-03-17T00:00:00\", \"2020-03-18T00:00:00\", \"2020-03-19T00:00:00\", \"2020-03-20T00:00:00\", \"2020-03-21T00:00:00\", \"2020-03-22T00:00:00\", \"2020-03-23T00:00:00\", \"2020-03-24T00:00:00\", \"2020-03-25T00:00:00\", \"2020-03-26T00:00:00\", \"2020-03-27T00:00:00\", \"2020-03-28T00:00:00\", \"2020-03-29T00:00:00\", \"2020-03-30T00:00:00\", \"2020-03-31T00:00:00\", \"2020-04-01T00:00:00\", \"2020-04-02T00:00:00\", \"2020-04-03T00:00:00\", \"2020-04-04T00:00:00\", \"2020-04-05T00:00:00\", \"2020-04-06T00:00:00\", \"2020-04-07T00:00:00\", \"2020-04-08T00:00:00\", \"2020-04-09T00:00:00\", \"2020-04-10T00:00:00\", \"2020-04-11T00:00:00\", \"2020-04-12T00:00:00\", \"2020-04-13T00:00:00\", \"2020-04-16T00:00:00\", \"2020-04-17T00:00:00\", \"2020-04-18T00:00:00\", \"2020-04-19T00:00:00\", \"2020-04-20T00:00:00\", \"2020-04-21T00:00:00\", \"2020-04-22T00:00:00\", \"2020-04-23T00:00:00\", \"2020-04-24T00:00:00\", \"2020-04-25T00:00:00\", \"2020-04-26T00:00:00\", \"2020-04-27T00:00:00\", \"2020-04-28T00:00:00\", \"2020-04-29T00:00:00\", \"2020-04-30T00:00:00\", \"2020-05-01T00:00:00\", \"2020-05-02T00:00:00\", \"2020-05-03T00:00:00\", \"2020-05-04T00:00:00\", \"2020-05-05T00:00:00\", \"2020-05-06T00:00:00\", \"2020-05-07T00:00:00\", \"2020-05-08T00:00:00\", \"2020-05-09T00:00:00\", \"2020-05-10T00:00:00\", \"2020-05-11T00:00:00\", \"2020-05-12T00:00:00\", \"2020-05-13T00:00:00\", \"2020-05-14T00:00:00\", \"2020-05-15T00:00:00\", \"2020-05-16T00:00:00\", \"2020-05-17T00:00:00\", \"2020-05-18T00:00:00\", \"2020-05-19T00:00:00\", \"2020-05-20T00:00:00\", \"2020-05-21T00:00:00\", \"2020-05-22T00:00:00\", \"2020-05-23T00:00:00\", \"2020-05-24T00:00:00\", \"2020-05-25T00:00:00\", \"2020-05-26T00:00:00\", \"2020-05-27T00:00:00\", \"2020-05-28T00:00:00\", \"2020-05-29T00:00:00\", \"2020-05-30T00:00:00\", \"2020-05-31T00:00:00\", \"2020-06-01T00:00:00\", \"2020-06-02T00:00:00\", \"2020-06-03T00:00:00\", \"2020-06-04T00:00:00\", \"2020-06-05T00:00:00\", \"2020-06-06T00:00:00\", \"2020-06-07T00:00:00\", \"2020-06-08T00:00:00\", \"2020-06-09T00:00:00\", \"2020-06-10T00:00:00\", \"2020-06-11T00:00:00\", \"2020-06-12T00:00:00\", \"2020-06-13T00:00:00\", \"2020-06-14T00:00:00\", \"2020-06-15T00:00:00\", \"2020-06-16T00:00:00\", \"2020-06-17T00:00:00\", \"2020-06-18T00:00:00\", \"2020-06-19T00:00:00\", \"2020-06-20T00:00:00\", \"2020-06-21T00:00:00\", \"2020-06-22T00:00:00\", \"2020-06-23T00:00:00\", \"2020-06-24T00:00:00\", \"2020-06-25T00:00:00\", \"2020-06-26T00:00:00\", \"2020-06-27T00:00:00\", \"2020-06-28T00:00:00\", \"2020-06-29T00:00:00\", \"2020-06-30T00:00:00\"], \"y\": [124.0, 141.0, 145.0, 134.0, 170.0, 187.0, 163.0, 164.0, 182.0, 184.0, 189.0, 219.0, 237.0, 219.0, 216.0, 241.0, 232.0, 222.0, 285.0, 316.0, 304.0, 330.0, 368.0, 398.0, 430.0, 538.0, 590.0, 638.0, 682.0, 762.0, 818.0, 902.0, 1007.0, 1090.0, 1151.0, 1251.0, 1365.0, 1450.0, 1527.0, 1691.0, 1830.0, 1925.0, 2091.0, 2534.0, 2739.0, 2885.0, 3005.0, 3182.0, 3332.0, 3494.0, 3631.0, 3808.0, 3964.0, 4104.0, 4247.0, 4405.0, 4552.0, 4680.0, 4866.0, 5027.0, 5151.0, 5298.0, 5446.0, 5605.0, 5730.0, 5925.0, 6069.0, 6201.0, 6334.0, 6503.0, 6631.0, 6715.0, 6882.0, 6971.0, 7026.0, 7112.0, 7198.0, 7271.0, 7322.0, 7411.0, 7485.0, 7537.0, 7594.0, 7646.0, 7712.0, 7763.0, 7869.0, 7932.0, 7993.0, 8068.0, 8144.0, 8226.0, 8274.0, 8367.0, 8465.0, 8505.0, 8590.0, 8659.0, 8740.0, 8790.0, 8899.0, 8985.0, 9024.0, 9106.0, 9174.0, 9248.0, 9318.0, 9432.0, 9500.0, 9547.0, 9615.0, 9701.0, 9783.0, 9850.0, 9980.0, 10073.0, 10143.0, 10261.0, 10365.0]}, {\"mode\": \"lines+markers\", \"name\": \"Daily cases\", \"type\": \"scatter\", \"x\": [\"2020-03-02T00:00:00\", \"2020-03-03T00:00:00\", \"2020-03-04T00:00:00\", \"2020-03-05T00:00:00\", \"2020-03-06T00:00:00\", \"2020-03-07T00:00:00\", \"2020-03-08T00:00:00\", \"2020-03-09T00:00:00\", \"2020-03-10T00:00:00\", \"2020-03-11T00:00:00\", \"2020-03-12T00:00:00\", \"2020-03-13T00:00:00\", \"2020-03-14T00:00:00\", \"2020-03-15T00:00:00\", \"2020-03-16T00:00:00\", \"2020-03-17T00:00:00\", \"2020-03-18T00:00:00\", \"2020-03-19T00:00:00\", \"2020-03-20T00:00:00\", \"2020-03-21T00:00:00\", \"2020-03-22T00:00:00\", \"2020-03-23T00:00:00\", \"2020-03-24T00:00:00\", \"2020-03-25T00:00:00\", \"2020-03-26T00:00:00\", \"2020-03-27T00:00:00\", \"2020-03-28T00:00:00\", \"2020-03-29T00:00:00\", \"2020-03-30T00:00:00\", \"2020-03-31T00:00:00\", \"2020-04-01T00:00:00\", \"2020-04-02T00:00:00\", \"2020-04-03T00:00:00\", \"2020-04-04T00:00:00\", \"2020-04-05T00:00:00\", \"2020-04-06T00:00:00\", \"2020-04-07T00:00:00\", \"2020-04-08T00:00:00\", \"2020-04-09T00:00:00\", \"2020-04-10T00:00:00\", \"2020-04-11T00:00:00\", \"2020-04-12T00:00:00\", \"2020-04-13T00:00:00\", \"2020-04-16T00:00:00\", \"2020-04-17T00:00:00\", \"2020-04-18T00:00:00\", \"2020-04-19T00:00:00\", \"2020-04-20T00:00:00\", \"2020-04-21T00:00:00\", \"2020-04-22T00:00:00\", \"2020-04-23T00:00:00\", \"2020-04-24T00:00:00\", \"2020-04-25T00:00:00\", \"2020-04-26T00:00:00\", \"2020-04-27T00:00:00\", \"2020-04-28T00:00:00\", \"2020-04-29T00:00:00\", \"2020-04-30T00:00:00\", \"2020-05-01T00:00:00\", \"2020-05-02T00:00:00\", \"2020-05-03T00:00:00\", \"2020-05-04T00:00:00\", \"2020-05-05T00:00:00\", \"2020-05-06T00:00:00\", \"2020-05-07T00:00:00\", \"2020-05-08T00:00:00\", \"2020-05-09T00:00:00\", \"2020-05-10T00:00:00\", \"2020-05-11T00:00:00\", \"2020-05-12T00:00:00\", \"2020-05-13T00:00:00\", \"2020-05-14T00:00:00\", \"2020-05-15T00:00:00\", \"2020-05-16T00:00:00\", \"2020-05-17T00:00:00\", \"2020-05-18T00:00:00\", \"2020-05-19T00:00:00\", \"2020-05-20T00:00:00\", \"2020-05-21T00:00:00\", \"2020-05-22T00:00:00\", \"2020-05-23T00:00:00\", \"2020-05-24T00:00:00\", \"2020-05-25T00:00:00\", \"2020-05-26T00:00:00\", \"2020-05-27T00:00:00\", \"2020-05-28T00:00:00\", \"2020-05-29T00:00:00\", \"2020-05-30T00:00:00\", \"2020-05-31T00:00:00\", \"2020-06-01T00:00:00\", \"2020-06-02T00:00:00\", \"2020-06-03T00:00:00\", \"2020-06-04T00:00:00\", \"2020-06-05T00:00:00\", \"2020-06-06T00:00:00\", \"2020-06-07T00:00:00\", \"2020-06-08T00:00:00\", \"2020-06-09T00:00:00\", \"2020-06-10T00:00:00\", \"2020-06-11T00:00:00\", \"2020-06-12T00:00:00\", \"2020-06-13T00:00:00\", \"2020-06-14T00:00:00\", \"2020-06-15T00:00:00\", \"2020-06-16T00:00:00\", \"2020-06-17T00:00:00\", \"2020-06-18T00:00:00\", \"2020-06-19T00:00:00\", \"2020-06-20T00:00:00\"], \"y\": [1.0, 0.0, 2.0, 0.0, 0.0, 0.0, 3.0, 0.0, 5.0, 6.0, 0.0, 7.0, 17.0, 28.0, 37.0, 44.0, 58.0, 63.0, 86.0, 96.0, 109.0, 143.0, 170.0, 225.0, 275.0, 345.0, 402.0, 479.0, 556.0, 617.0, 654.0, 708.0, 791.0, 919.0, 1021.0, 1120.0, 1184.0, 1275.0, 1374.0, 1448.0, 1545.0, 1661.0, 1763.0, 2283.0, 2564.0, 2685.0, 2855.0, 3046.0, 3209.0, 3446.0, 3568.0, 3758.0, 3897.0, 4065.0, 4120.0, 4252.0, 4321.0, 4423.0, 4569.0, 4729.0, 4903.0, 5053.0, 5219.0, 5408.0, 5548.0, 5711.0, 5910.0, 6063.0, 6281.0, 6418.0, 6512.0, 6607.0, 6652.0, 6681.0, 6870.0, 6952.0, 7023.0, 7133.0, 7211.0, 7332.0, 7406.0, 7429.0, 7532.0, 7577.0, 7601.0, 7643.0, 7714.0, 7780.0, 7807.0, 7833.0, 7866.0, 7922.0, 8003.0, 8071.0, 8151.0, 8224.0, 8302.0, 8437.0, 8508.0, 8537.0, 8610.0, 8692.0, 8793.0, 8885.0, 8931.0, 8997.0, 9074.0, 9613.0, 9839.0]}],\n",
              "                        {\"template\": {\"data\": {\"bar\": [{\"error_x\": {\"color\": \"#2a3f5f\"}, \"error_y\": {\"color\": \"#2a3f5f\"}, \"marker\": {\"line\": {\"color\": \"#E5ECF6\", \"width\": 0.5}}, \"type\": \"bar\"}], \"barpolar\": [{\"marker\": {\"line\": {\"color\": \"#E5ECF6\", \"width\": 0.5}}, \"type\": \"barpolar\"}], \"carpet\": [{\"aaxis\": {\"endlinecolor\": \"#2a3f5f\", \"gridcolor\": \"white\", \"linecolor\": \"white\", \"minorgridcolor\": \"white\", \"startlinecolor\": \"#2a3f5f\"}, \"baxis\": {\"endlinecolor\": \"#2a3f5f\", \"gridcolor\": \"white\", \"linecolor\": \"white\", \"minorgridcolor\": \"white\", \"startlinecolor\": \"#2a3f5f\"}, \"type\": \"carpet\"}], \"choropleth\": [{\"colorbar\": {\"outlinewidth\": 0, \"ticks\": \"\"}, \"type\": \"choropleth\"}], \"contour\": [{\"colorbar\": {\"outlinewidth\": 0, \"ticks\": \"\"}, \"colorscale\": [[0.0, \"#0d0887\"], [0.1111111111111111, \"#46039f\"], [0.2222222222222222, \"#7201a8\"], [0.3333333333333333, \"#9c179e\"], [0.4444444444444444, \"#bd3786\"], [0.5555555555555556, \"#d8576b\"], [0.6666666666666666, \"#ed7953\"], [0.7777777777777778, \"#fb9f3a\"], [0.8888888888888888, \"#fdca26\"], [1.0, \"#f0f921\"]], \"type\": \"contour\"}], \"contourcarpet\": [{\"colorbar\": {\"outlinewidth\": 0, \"ticks\": \"\"}, \"type\": \"contourcarpet\"}], \"heatmap\": [{\"colorbar\": {\"outlinewidth\": 0, \"ticks\": \"\"}, \"colorscale\": [[0.0, \"#0d0887\"], [0.1111111111111111, \"#46039f\"], [0.2222222222222222, \"#7201a8\"], [0.3333333333333333, \"#9c179e\"], [0.4444444444444444, \"#bd3786\"], [0.5555555555555556, \"#d8576b\"], [0.6666666666666666, \"#ed7953\"], [0.7777777777777778, \"#fb9f3a\"], [0.8888888888888888, \"#fdca26\"], [1.0, \"#f0f921\"]], \"type\": \"heatmap\"}], \"heatmapgl\": [{\"colorbar\": {\"outlinewidth\": 0, \"ticks\": \"\"}, \"colorscale\": [[0.0, \"#0d0887\"], [0.1111111111111111, \"#46039f\"], [0.2222222222222222, \"#7201a8\"], [0.3333333333333333, \"#9c179e\"], [0.4444444444444444, \"#bd3786\"], [0.5555555555555556, \"#d8576b\"], [0.6666666666666666, \"#ed7953\"], [0.7777777777777778, \"#fb9f3a\"], [0.8888888888888888, \"#fdca26\"], [1.0, \"#f0f921\"]], \"type\": \"heatmapgl\"}], \"histogram\": [{\"marker\": {\"colorbar\": {\"outlinewidth\": 0, \"ticks\": \"\"}}, \"type\": \"histogram\"}], \"histogram2d\": [{\"colorbar\": {\"outlinewidth\": 0, \"ticks\": \"\"}, \"colorscale\": [[0.0, \"#0d0887\"], [0.1111111111111111, \"#46039f\"], [0.2222222222222222, \"#7201a8\"], [0.3333333333333333, \"#9c179e\"], [0.4444444444444444, \"#bd3786\"], [0.5555555555555556, \"#d8576b\"], [0.6666666666666666, \"#ed7953\"], [0.7777777777777778, \"#fb9f3a\"], [0.8888888888888888, \"#fdca26\"], [1.0, \"#f0f921\"]], \"type\": \"histogram2d\"}], \"histogram2dcontour\": [{\"colorbar\": {\"outlinewidth\": 0, \"ticks\": \"\"}, \"colorscale\": [[0.0, \"#0d0887\"], [0.1111111111111111, \"#46039f\"], [0.2222222222222222, \"#7201a8\"], [0.3333333333333333, \"#9c179e\"], [0.4444444444444444, \"#bd3786\"], [0.5555555555555556, \"#d8576b\"], [0.6666666666666666, \"#ed7953\"], [0.7777777777777778, \"#fb9f3a\"], [0.8888888888888888, \"#fdca26\"], [1.0, \"#f0f921\"]], \"type\": \"histogram2dcontour\"}], \"mesh3d\": [{\"colorbar\": {\"outlinewidth\": 0, \"ticks\": \"\"}, \"type\": \"mesh3d\"}], \"parcoords\": [{\"line\": {\"colorbar\": {\"outlinewidth\": 0, \"ticks\": \"\"}}, \"type\": \"parcoords\"}], \"pie\": [{\"automargin\": true, \"type\": \"pie\"}], \"scatter\": [{\"marker\": {\"colorbar\": {\"outlinewidth\": 0, \"ticks\": \"\"}}, \"type\": \"scatter\"}], \"scatter3d\": [{\"line\": {\"colorbar\": {\"outlinewidth\": 0, \"ticks\": \"\"}}, \"marker\": {\"colorbar\": {\"outlinewidth\": 0, \"ticks\": \"\"}}, \"type\": \"scatter3d\"}], \"scattercarpet\": [{\"marker\": {\"colorbar\": {\"outlinewidth\": 0, \"ticks\": \"\"}}, \"type\": \"scattercarpet\"}], \"scattergeo\": [{\"marker\": {\"colorbar\": {\"outlinewidth\": 0, \"ticks\": \"\"}}, \"type\": \"scattergeo\"}], \"scattergl\": [{\"marker\": {\"colorbar\": {\"outlinewidth\": 0, \"ticks\": \"\"}}, \"type\": \"scattergl\"}], \"scattermapbox\": [{\"marker\": {\"colorbar\": {\"outlinewidth\": 0, \"ticks\": \"\"}}, \"type\": \"scattermapbox\"}], \"scatterpolar\": [{\"marker\": {\"colorbar\": {\"outlinewidth\": 0, \"ticks\": \"\"}}, \"type\": \"scatterpolar\"}], \"scatterpolargl\": [{\"marker\": {\"colorbar\": {\"outlinewidth\": 0, \"ticks\": \"\"}}, \"type\": \"scatterpolargl\"}], \"scatterternary\": [{\"marker\": {\"colorbar\": {\"outlinewidth\": 0, \"ticks\": \"\"}}, \"type\": \"scatterternary\"}], \"surface\": [{\"colorbar\": {\"outlinewidth\": 0, \"ticks\": \"\"}, \"colorscale\": [[0.0, \"#0d0887\"], [0.1111111111111111, \"#46039f\"], [0.2222222222222222, \"#7201a8\"], [0.3333333333333333, \"#9c179e\"], [0.4444444444444444, \"#bd3786\"], [0.5555555555555556, \"#d8576b\"], [0.6666666666666666, \"#ed7953\"], [0.7777777777777778, \"#fb9f3a\"], [0.8888888888888888, \"#fdca26\"], [1.0, \"#f0f921\"]], \"type\": \"surface\"}], \"table\": [{\"cells\": {\"fill\": {\"color\": \"#EBF0F8\"}, \"line\": {\"color\": \"white\"}}, \"header\": {\"fill\": {\"color\": \"#C8D4E3\"}, \"line\": {\"color\": \"white\"}}, \"type\": \"table\"}]}, \"layout\": {\"annotationdefaults\": {\"arrowcolor\": \"#2a3f5f\", \"arrowhead\": 0, \"arrowwidth\": 1}, \"coloraxis\": {\"colorbar\": {\"outlinewidth\": 0, \"ticks\": \"\"}}, \"colorscale\": {\"diverging\": [[0, \"#8e0152\"], [0.1, \"#c51b7d\"], [0.2, \"#de77ae\"], [0.3, \"#f1b6da\"], [0.4, \"#fde0ef\"], [0.5, \"#f7f7f7\"], [0.6, \"#e6f5d0\"], [0.7, \"#b8e186\"], [0.8, \"#7fbc41\"], [0.9, \"#4d9221\"], [1, \"#276419\"]], \"sequential\": [[0.0, \"#0d0887\"], [0.1111111111111111, \"#46039f\"], [0.2222222222222222, \"#7201a8\"], [0.3333333333333333, \"#9c179e\"], [0.4444444444444444, \"#bd3786\"], [0.5555555555555556, \"#d8576b\"], [0.6666666666666666, \"#ed7953\"], [0.7777777777777778, \"#fb9f3a\"], [0.8888888888888888, \"#fdca26\"], [1.0, \"#f0f921\"]], \"sequentialminus\": [[0.0, \"#0d0887\"], [0.1111111111111111, \"#46039f\"], [0.2222222222222222, \"#7201a8\"], [0.3333333333333333, \"#9c179e\"], [0.4444444444444444, \"#bd3786\"], [0.5555555555555556, \"#d8576b\"], [0.6666666666666666, \"#ed7953\"], [0.7777777777777778, \"#fb9f3a\"], [0.8888888888888888, \"#fdca26\"], [1.0, \"#f0f921\"]]}, \"colorway\": [\"#636efa\", \"#EF553B\", \"#00cc96\", \"#ab63fa\", \"#FFA15A\", \"#19d3f3\", \"#FF6692\", \"#B6E880\", \"#FF97FF\", \"#FECB52\"], \"font\": {\"color\": \"#2a3f5f\"}, \"geo\": {\"bgcolor\": \"white\", \"lakecolor\": \"white\", \"landcolor\": \"#E5ECF6\", \"showlakes\": true, \"showland\": true, \"subunitcolor\": \"white\"}, \"hoverlabel\": {\"align\": \"left\"}, \"hovermode\": \"closest\", \"mapbox\": {\"style\": \"light\"}, \"paper_bgcolor\": \"white\", \"plot_bgcolor\": \"#E5ECF6\", \"polar\": {\"angularaxis\": {\"gridcolor\": \"white\", \"linecolor\": \"white\", \"ticks\": \"\"}, \"bgcolor\": \"#E5ECF6\", \"radialaxis\": {\"gridcolor\": \"white\", \"linecolor\": \"white\", \"ticks\": \"\"}}, \"scene\": {\"xaxis\": {\"backgroundcolor\": \"#E5ECF6\", \"gridcolor\": \"white\", \"gridwidth\": 2, \"linecolor\": \"white\", \"showbackground\": true, \"ticks\": \"\", \"zerolinecolor\": \"white\"}, \"yaxis\": {\"backgroundcolor\": \"#E5ECF6\", \"gridcolor\": \"white\", \"gridwidth\": 2, \"linecolor\": \"white\", \"showbackground\": true, \"ticks\": \"\", \"zerolinecolor\": \"white\"}, \"zaxis\": {\"backgroundcolor\": \"#E5ECF6\", \"gridcolor\": \"white\", \"gridwidth\": 2, \"linecolor\": \"white\", \"showbackground\": true, \"ticks\": \"\", \"zerolinecolor\": \"white\"}}, \"shapedefaults\": {\"line\": {\"color\": \"#2a3f5f\"}}, \"ternary\": {\"aaxis\": {\"gridcolor\": \"white\", \"linecolor\": \"white\", \"ticks\": \"\"}, \"baxis\": {\"gridcolor\": \"white\", \"linecolor\": \"white\", \"ticks\": \"\"}, \"bgcolor\": \"#E5ECF6\", \"caxis\": {\"gridcolor\": \"white\", \"linecolor\": \"white\", \"ticks\": \"\"}}, \"title\": {\"x\": 0.05}, \"xaxis\": {\"automargin\": true, \"gridcolor\": \"white\", \"linecolor\": \"white\", \"ticks\": \"\", \"title\": {\"standoff\": 15}, \"zerolinecolor\": \"white\", \"zerolinewidth\": 2}, \"yaxis\": {\"automargin\": true, \"gridcolor\": \"white\", \"linecolor\": \"white\", \"ticks\": \"\", \"title\": {\"standoff\": 15}, \"zerolinecolor\": \"white\", \"zerolinewidth\": 2}}}},\n",
              "                        {\"responsive\": true}\n",
              "                    ).then(function(){\n",
              "                            \n",
              "var gd = document.getElementById('de22dd20-0a6b-47ae-bf8c-295a9eecb64e');\n",
              "var x = new MutationObserver(function (mutations, observer) {{\n",
              "        var display = window.getComputedStyle(gd).display;\n",
              "        if (!display || display === 'none') {{\n",
              "            console.log([gd, 'removed!']);\n",
              "            Plotly.purge(gd);\n",
              "            observer.disconnect();\n",
              "        }}\n",
              "}});\n",
              "\n",
              "// Listen for the removal of the full notebook cells\n",
              "var notebookContainer = gd.closest('#notebook-container');\n",
              "if (notebookContainer) {{\n",
              "    x.observe(notebookContainer, {childList: true});\n",
              "}}\n",
              "\n",
              "// Listen for the clearing of the current output cell\n",
              "var outputEl = gd.closest('.output');\n",
              "if (outputEl) {{\n",
              "    x.observe(outputEl, {childList: true});\n",
              "}}\n",
              "\n",
              "                        })\n",
              "                };\n",
              "                \n",
              "            </script>\n",
              "        </div>\n",
              "</body>\n",
              "</html>"
            ]
          },
          "metadata": {
            "tags": []
          }
        }
      ]
    },
    {
      "cell_type": "markdown",
      "metadata": {
        "colab_type": "text",
        "id": "xG82Xtb8tGgJ"
      },
      "source": [
        "<b>The model predict more new cases in Morocco and it will get worse with the end of restrictions in some provinces</b>"
      ]
    },
    {
      "cell_type": "markdown",
      "metadata": {
        "colab_type": "text",
        "id": "aOHFUjlStJxy"
      },
      "source": [
        "<div id=\"two2\"><h2>2.2  Predicting the new daily cases</h2></div>\n",
        "<h4><a href=\"#content\">reture to content table </a></h4>"
      ]
    },
    {
      "cell_type": "markdown",
      "metadata": {
        "id": "3ce2mI6jERYR",
        "colab_type": "text"
      },
      "source": [
        "<b>grouping by Date as (ds) and New cases as (y)</b>"
      ]
    },
    {
      "cell_type": "code",
      "metadata": {
        "colab_type": "code",
        "id": "T4ocx72wtF4n",
        "colab": {}
      },
      "source": [
        "new_cases = df.groupby('Date').sum()['New cases'].reset_index()\n",
        "new_cases.columns = ['ds','y']"
      ],
      "execution_count": 82,
      "outputs": []
    },
    {
      "cell_type": "code",
      "metadata": {
        "colab_type": "code",
        "id": "oG1PVzJSscWL",
        "colab": {
          "base_uri": "https://localhost:8080/",
          "height": 238
        },
        "outputId": "3cd2bf8e-0375-47c6-d45c-23f271b2c54a"
      },
      "source": [
        "m_1 = Prophet(interval_width=0.95)\n",
        "m_1.fit(new_cases)\n",
        "future_1 = m_1.make_future_dataframe(periods=10)\n",
        "future_1.tail()"
      ],
      "execution_count": 83,
      "outputs": [
        {
          "output_type": "stream",
          "text": [
            "INFO:fbprophet:Disabling yearly seasonality. Run prophet with yearly_seasonality=True to override this.\n",
            "INFO:fbprophet:Disabling daily seasonality. Run prophet with daily_seasonality=True to override this.\n"
          ],
          "name": "stderr"
        },
        {
          "output_type": "execute_result",
          "data": {
            "text/html": [
              "<div>\n",
              "<style scoped>\n",
              "    .dataframe tbody tr th:only-of-type {\n",
              "        vertical-align: middle;\n",
              "    }\n",
              "\n",
              "    .dataframe tbody tr th {\n",
              "        vertical-align: top;\n",
              "    }\n",
              "\n",
              "    .dataframe thead th {\n",
              "        text-align: right;\n",
              "    }\n",
              "</style>\n",
              "<table border=\"1\" class=\"dataframe\">\n",
              "  <thead>\n",
              "    <tr style=\"text-align: right;\">\n",
              "      <th></th>\n",
              "      <th>ds</th>\n",
              "    </tr>\n",
              "  </thead>\n",
              "  <tbody>\n",
              "    <tr>\n",
              "      <th>114</th>\n",
              "      <td>2020-06-26</td>\n",
              "    </tr>\n",
              "    <tr>\n",
              "      <th>115</th>\n",
              "      <td>2020-06-27</td>\n",
              "    </tr>\n",
              "    <tr>\n",
              "      <th>116</th>\n",
              "      <td>2020-06-28</td>\n",
              "    </tr>\n",
              "    <tr>\n",
              "      <th>117</th>\n",
              "      <td>2020-06-29</td>\n",
              "    </tr>\n",
              "    <tr>\n",
              "      <th>118</th>\n",
              "      <td>2020-06-30</td>\n",
              "    </tr>\n",
              "  </tbody>\n",
              "</table>\n",
              "</div>"
            ],
            "text/plain": [
              "            ds\n",
              "114 2020-06-26\n",
              "115 2020-06-27\n",
              "116 2020-06-28\n",
              "117 2020-06-29\n",
              "118 2020-06-30"
            ]
          },
          "metadata": {
            "tags": []
          },
          "execution_count": 83
        }
      ]
    },
    {
      "cell_type": "code",
      "metadata": {
        "colab_type": "code",
        "id": "jMvgqfRgscgC",
        "colab": {
          "base_uri": "https://localhost:8080/",
          "height": 204
        },
        "outputId": "6aca7bc8-5b52-49d5-be3f-e102f74aa965"
      },
      "source": [
        "forecast_1 = m_1.predict(future_1)\n",
        "forecast_1[['ds', 'yhat', 'yhat_lower', 'yhat_upper']].tail()"
      ],
      "execution_count": 84,
      "outputs": [
        {
          "output_type": "execute_result",
          "data": {
            "text/html": [
              "<div>\n",
              "<style scoped>\n",
              "    .dataframe tbody tr th:only-of-type {\n",
              "        vertical-align: middle;\n",
              "    }\n",
              "\n",
              "    .dataframe tbody tr th {\n",
              "        vertical-align: top;\n",
              "    }\n",
              "\n",
              "    .dataframe thead th {\n",
              "        text-align: right;\n",
              "    }\n",
              "</style>\n",
              "<table border=\"1\" class=\"dataframe\">\n",
              "  <thead>\n",
              "    <tr style=\"text-align: right;\">\n",
              "      <th></th>\n",
              "      <th>ds</th>\n",
              "      <th>yhat</th>\n",
              "      <th>yhat_lower</th>\n",
              "      <th>yhat_upper</th>\n",
              "    </tr>\n",
              "  </thead>\n",
              "  <tbody>\n",
              "    <tr>\n",
              "      <th>114</th>\n",
              "      <td>2020-06-26</td>\n",
              "      <td>154.578282</td>\n",
              "      <td>6.007104</td>\n",
              "      <td>306.639994</td>\n",
              "    </tr>\n",
              "    <tr>\n",
              "      <th>115</th>\n",
              "      <td>2020-06-27</td>\n",
              "      <td>124.180086</td>\n",
              "      <td>-26.156295</td>\n",
              "      <td>261.158472</td>\n",
              "    </tr>\n",
              "    <tr>\n",
              "      <th>116</th>\n",
              "      <td>2020-06-28</td>\n",
              "      <td>126.448724</td>\n",
              "      <td>-21.209695</td>\n",
              "      <td>276.587519</td>\n",
              "    </tr>\n",
              "    <tr>\n",
              "      <th>117</th>\n",
              "      <td>2020-06-29</td>\n",
              "      <td>119.384996</td>\n",
              "      <td>-28.724925</td>\n",
              "      <td>271.669415</td>\n",
              "    </tr>\n",
              "    <tr>\n",
              "      <th>118</th>\n",
              "      <td>2020-06-30</td>\n",
              "      <td>109.509617</td>\n",
              "      <td>-37.422302</td>\n",
              "      <td>256.402517</td>\n",
              "    </tr>\n",
              "  </tbody>\n",
              "</table>\n",
              "</div>"
            ],
            "text/plain": [
              "            ds        yhat  yhat_lower  yhat_upper\n",
              "114 2020-06-26  154.578282    6.007104  306.639994\n",
              "115 2020-06-27  124.180086  -26.156295  261.158472\n",
              "116 2020-06-28  126.448724  -21.209695  276.587519\n",
              "117 2020-06-29  119.384996  -28.724925  271.669415\n",
              "118 2020-06-30  109.509617  -37.422302  256.402517"
            ]
          },
          "metadata": {
            "tags": []
          },
          "execution_count": 84
        }
      ]
    },
    {
      "cell_type": "code",
      "metadata": {
        "colab_type": "code",
        "id": "1OyixbyFscmr",
        "colab": {
          "base_uri": "https://localhost:8080/",
          "height": 542
        },
        "outputId": "d1495964-5252-4f9d-c00f-a24660305e9a"
      },
      "source": [
        "\n",
        "fig = go.Figure()\n",
        "fig.add_trace(go.Scatter(x=forecast_1.ds, y = abs(forecast_1['yhat'].round()), mode= 'lines+markers',name='Predicted daily cases'))\n",
        "\n",
        "fig.add_trace(go.Scatter(x=df.index, y = df['New cases'], mode= 'lines+markers',name='Daily cases'))"
      ],
      "execution_count": 85,
      "outputs": [
        {
          "output_type": "display_data",
          "data": {
            "text/html": [
              "<html>\n",
              "<head><meta charset=\"utf-8\" /></head>\n",
              "<body>\n",
              "    <div>\n",
              "            <script src=\"https://cdnjs.cloudflare.com/ajax/libs/mathjax/2.7.5/MathJax.js?config=TeX-AMS-MML_SVG\"></script><script type=\"text/javascript\">if (window.MathJax) {MathJax.Hub.Config({SVG: {font: \"STIX-Web\"}});}</script>\n",
              "                <script type=\"text/javascript\">window.PlotlyConfig = {MathJaxConfig: 'local'};</script>\n",
              "        <script src=\"https://cdn.plot.ly/plotly-latest.min.js\"></script>    \n",
              "            <div id=\"d7cf2dd0-79dd-4256-afce-4e1267c034bf\" class=\"plotly-graph-div\" style=\"height:525px; width:100%;\"></div>\n",
              "            <script type=\"text/javascript\">\n",
              "                \n",
              "                    window.PLOTLYENV=window.PLOTLYENV || {};\n",
              "                    \n",
              "                if (document.getElementById(\"d7cf2dd0-79dd-4256-afce-4e1267c034bf\")) {\n",
              "                    Plotly.newPlot(\n",
              "                        'd7cf2dd0-79dd-4256-afce-4e1267c034bf',\n",
              "                        [{\"mode\": \"lines+markers\", \"name\": \"Predicted daily cases\", \"type\": \"scatter\", \"x\": [\"2020-03-02T00:00:00\", \"2020-03-03T00:00:00\", \"2020-03-04T00:00:00\", \"2020-03-05T00:00:00\", \"2020-03-06T00:00:00\", \"2020-03-07T00:00:00\", \"2020-03-08T00:00:00\", \"2020-03-09T00:00:00\", \"2020-03-10T00:00:00\", \"2020-03-11T00:00:00\", \"2020-03-12T00:00:00\", \"2020-03-13T00:00:00\", \"2020-03-14T00:00:00\", \"2020-03-15T00:00:00\", \"2020-03-16T00:00:00\", \"2020-03-17T00:00:00\", \"2020-03-18T00:00:00\", \"2020-03-19T00:00:00\", \"2020-03-20T00:00:00\", \"2020-03-21T00:00:00\", \"2020-03-22T00:00:00\", \"2020-03-23T00:00:00\", \"2020-03-24T00:00:00\", \"2020-03-25T00:00:00\", \"2020-03-26T00:00:00\", \"2020-03-27T00:00:00\", \"2020-03-28T00:00:00\", \"2020-03-29T00:00:00\", \"2020-03-30T00:00:00\", \"2020-03-31T00:00:00\", \"2020-04-01T00:00:00\", \"2020-04-02T00:00:00\", \"2020-04-03T00:00:00\", \"2020-04-04T00:00:00\", \"2020-04-05T00:00:00\", \"2020-04-06T00:00:00\", \"2020-04-07T00:00:00\", \"2020-04-08T00:00:00\", \"2020-04-09T00:00:00\", \"2020-04-10T00:00:00\", \"2020-04-11T00:00:00\", \"2020-04-12T00:00:00\", \"2020-04-13T00:00:00\", \"2020-04-16T00:00:00\", \"2020-04-17T00:00:00\", \"2020-04-18T00:00:00\", \"2020-04-19T00:00:00\", \"2020-04-20T00:00:00\", \"2020-04-21T00:00:00\", \"2020-04-22T00:00:00\", \"2020-04-23T00:00:00\", \"2020-04-24T00:00:00\", \"2020-04-25T00:00:00\", \"2020-04-26T00:00:00\", \"2020-04-27T00:00:00\", \"2020-04-28T00:00:00\", \"2020-04-29T00:00:00\", \"2020-04-30T00:00:00\", \"2020-05-01T00:00:00\", \"2020-05-02T00:00:00\", \"2020-05-03T00:00:00\", \"2020-05-04T00:00:00\", \"2020-05-05T00:00:00\", \"2020-05-06T00:00:00\", \"2020-05-07T00:00:00\", \"2020-05-08T00:00:00\", \"2020-05-09T00:00:00\", \"2020-05-10T00:00:00\", \"2020-05-11T00:00:00\", \"2020-05-12T00:00:00\", \"2020-05-13T00:00:00\", \"2020-05-14T00:00:00\", \"2020-05-15T00:00:00\", \"2020-05-16T00:00:00\", \"2020-05-17T00:00:00\", \"2020-05-18T00:00:00\", \"2020-05-19T00:00:00\", \"2020-05-20T00:00:00\", \"2020-05-21T00:00:00\", \"2020-05-22T00:00:00\", \"2020-05-23T00:00:00\", \"2020-05-24T00:00:00\", \"2020-05-25T00:00:00\", \"2020-05-26T00:00:00\", \"2020-05-27T00:00:00\", \"2020-05-28T00:00:00\", \"2020-05-29T00:00:00\", \"2020-05-30T00:00:00\", \"2020-05-31T00:00:00\", \"2020-06-01T00:00:00\", \"2020-06-02T00:00:00\", \"2020-06-03T00:00:00\", \"2020-06-04T00:00:00\", \"2020-06-05T00:00:00\", \"2020-06-06T00:00:00\", \"2020-06-07T00:00:00\", \"2020-06-08T00:00:00\", \"2020-06-09T00:00:00\", \"2020-06-10T00:00:00\", \"2020-06-11T00:00:00\", \"2020-06-12T00:00:00\", \"2020-06-13T00:00:00\", \"2020-06-14T00:00:00\", \"2020-06-15T00:00:00\", \"2020-06-16T00:00:00\", \"2020-06-17T00:00:00\", \"2020-06-18T00:00:00\", \"2020-06-19T00:00:00\", \"2020-06-20T00:00:00\", \"2020-06-21T00:00:00\", \"2020-06-22T00:00:00\", \"2020-06-23T00:00:00\", \"2020-06-24T00:00:00\", \"2020-06-25T00:00:00\", \"2020-06-26T00:00:00\", \"2020-06-27T00:00:00\", \"2020-06-28T00:00:00\", \"2020-06-29T00:00:00\", \"2020-06-30T00:00:00\"], \"y\": [13.0, 5.0, 7.0, 27.0, 56.0, 27.0, 31.0, 26.0, 17.0, 20.0, 39.0, 69.0, 40.0, 44.0, 38.0, 30.0, 32.0, 52.0, 82.0, 53.0, 56.0, 51.0, 43.0, 45.0, 65.0, 94.0, 65.0, 69.0, 64.0, 55.0, 58.0, 77.0, 107.0, 78.0, 82.0, 76.0, 67.0, 70.0, 89.0, 118.0, 89.0, 93.0, 87.0, 99.0, 128.0, 98.0, 102.0, 95.0, 86.0, 88.0, 106.0, 135.0, 105.0, 108.0, 101.0, 91.0, 92.0, 111.0, 139.0, 109.0, 111.0, 104.0, 94.0, 95.0, 113.0, 141.0, 111.0, 113.0, 106.0, 96.0, 97.0, 115.0, 143.0, 113.0, 115.0, 108.0, 98.0, 99.0, 117.0, 145.0, 115.0, 117.0, 110.0, 100.0, 101.0, 119.0, 147.0, 116.0, 119.0, 112.0, 102.0, 103.0, 121.0, 149.0, 118.0, 121.0, 114.0, 104.0, 105.0, 123.0, 151.0, 120.0, 123.0, 116.0, 106.0, 107.0, 125.0, 153.0, 122.0, 125.0, 117.0, 108.0, 109.0, 127.0, 155.0, 124.0, 126.0, 119.0, 110.0]}, {\"mode\": \"lines+markers\", \"name\": \"Daily cases\", \"type\": \"scatter\", \"x\": [\"2020-03-02T00:00:00\", \"2020-03-03T00:00:00\", \"2020-03-04T00:00:00\", \"2020-03-05T00:00:00\", \"2020-03-06T00:00:00\", \"2020-03-07T00:00:00\", \"2020-03-08T00:00:00\", \"2020-03-09T00:00:00\", \"2020-03-10T00:00:00\", \"2020-03-11T00:00:00\", \"2020-03-12T00:00:00\", \"2020-03-13T00:00:00\", \"2020-03-14T00:00:00\", \"2020-03-15T00:00:00\", \"2020-03-16T00:00:00\", \"2020-03-17T00:00:00\", \"2020-03-18T00:00:00\", \"2020-03-19T00:00:00\", \"2020-03-20T00:00:00\", \"2020-03-21T00:00:00\", \"2020-03-22T00:00:00\", \"2020-03-23T00:00:00\", \"2020-03-24T00:00:00\", \"2020-03-25T00:00:00\", \"2020-03-26T00:00:00\", \"2020-03-27T00:00:00\", \"2020-03-28T00:00:00\", \"2020-03-29T00:00:00\", \"2020-03-30T00:00:00\", \"2020-03-31T00:00:00\", \"2020-04-01T00:00:00\", \"2020-04-02T00:00:00\", \"2020-04-03T00:00:00\", \"2020-04-04T00:00:00\", \"2020-04-05T00:00:00\", \"2020-04-06T00:00:00\", \"2020-04-07T00:00:00\", \"2020-04-08T00:00:00\", \"2020-04-09T00:00:00\", \"2020-04-10T00:00:00\", \"2020-04-11T00:00:00\", \"2020-04-12T00:00:00\", \"2020-04-13T00:00:00\", \"2020-04-16T00:00:00\", \"2020-04-17T00:00:00\", \"2020-04-18T00:00:00\", \"2020-04-19T00:00:00\", \"2020-04-20T00:00:00\", \"2020-04-21T00:00:00\", \"2020-04-22T00:00:00\", \"2020-04-23T00:00:00\", \"2020-04-24T00:00:00\", \"2020-04-25T00:00:00\", \"2020-04-26T00:00:00\", \"2020-04-27T00:00:00\", \"2020-04-28T00:00:00\", \"2020-04-29T00:00:00\", \"2020-04-30T00:00:00\", \"2020-05-01T00:00:00\", \"2020-05-02T00:00:00\", \"2020-05-03T00:00:00\", \"2020-05-04T00:00:00\", \"2020-05-05T00:00:00\", \"2020-05-06T00:00:00\", \"2020-05-07T00:00:00\", \"2020-05-08T00:00:00\", \"2020-05-09T00:00:00\", \"2020-05-10T00:00:00\", \"2020-05-11T00:00:00\", \"2020-05-12T00:00:00\", \"2020-05-13T00:00:00\", \"2020-05-14T00:00:00\", \"2020-05-15T00:00:00\", \"2020-05-16T00:00:00\", \"2020-05-17T00:00:00\", \"2020-05-18T00:00:00\", \"2020-05-19T00:00:00\", \"2020-05-20T00:00:00\", \"2020-05-21T00:00:00\", \"2020-05-22T00:00:00\", \"2020-05-23T00:00:00\", \"2020-05-24T00:00:00\", \"2020-05-25T00:00:00\", \"2020-05-26T00:00:00\", \"2020-05-27T00:00:00\", \"2020-05-28T00:00:00\", \"2020-05-29T00:00:00\", \"2020-05-30T00:00:00\", \"2020-05-31T00:00:00\", \"2020-06-01T00:00:00\", \"2020-06-02T00:00:00\", \"2020-06-03T00:00:00\", \"2020-06-04T00:00:00\", \"2020-06-05T00:00:00\", \"2020-06-06T00:00:00\", \"2020-06-07T00:00:00\", \"2020-06-08T00:00:00\", \"2020-06-09T00:00:00\", \"2020-06-10T00:00:00\", \"2020-06-11T00:00:00\", \"2020-06-12T00:00:00\", \"2020-06-13T00:00:00\", \"2020-06-14T00:00:00\", \"2020-06-15T00:00:00\", \"2020-06-16T00:00:00\", \"2020-06-17T00:00:00\", \"2020-06-18T00:00:00\", \"2020-06-19T00:00:00\", \"2020-06-20T00:00:00\"], \"y\": [0, 0, 2, 0, 0, 0, 3, 0, 5, 1, 0, 7, 10, 11, 9, 7, 14, 5, 23, 10, 13, 34, 27, 55, 50, 70, 57, 77, 77, 61, 37, 54, 83, 128, 102, 99, 64, 91, 99, 74, 97, 116, 102, 520, 281, 121, 170, 191, 163, 237, 122, 190, 139, 168, 55, 132, 69, 102, 146, 160, 174, 150, 166, 189, 140, 163, 199, 153, 218, 137, 94, 95, 45, 29, 189, 82, 71, 110, 78, 121, 74, 23, 103, 45, 24, 42, 71, 66, 27, 26, 33, 56, 81, 68, 80, 73, 78, 135, 71, 29, 73, 82, 101, 92, 46, 66, 77, 539, 226]}],\n",
              "                        {\"template\": {\"data\": {\"bar\": [{\"error_x\": {\"color\": \"#2a3f5f\"}, \"error_y\": {\"color\": \"#2a3f5f\"}, \"marker\": {\"line\": {\"color\": \"#E5ECF6\", \"width\": 0.5}}, \"type\": \"bar\"}], \"barpolar\": [{\"marker\": {\"line\": {\"color\": \"#E5ECF6\", \"width\": 0.5}}, \"type\": \"barpolar\"}], \"carpet\": [{\"aaxis\": {\"endlinecolor\": \"#2a3f5f\", \"gridcolor\": \"white\", \"linecolor\": \"white\", \"minorgridcolor\": \"white\", \"startlinecolor\": \"#2a3f5f\"}, \"baxis\": {\"endlinecolor\": \"#2a3f5f\", \"gridcolor\": \"white\", \"linecolor\": \"white\", \"minorgridcolor\": \"white\", \"startlinecolor\": \"#2a3f5f\"}, \"type\": \"carpet\"}], \"choropleth\": [{\"colorbar\": {\"outlinewidth\": 0, \"ticks\": \"\"}, \"type\": \"choropleth\"}], \"contour\": [{\"colorbar\": {\"outlinewidth\": 0, \"ticks\": \"\"}, \"colorscale\": [[0.0, \"#0d0887\"], [0.1111111111111111, \"#46039f\"], [0.2222222222222222, \"#7201a8\"], [0.3333333333333333, \"#9c179e\"], [0.4444444444444444, \"#bd3786\"], [0.5555555555555556, \"#d8576b\"], [0.6666666666666666, \"#ed7953\"], [0.7777777777777778, \"#fb9f3a\"], [0.8888888888888888, \"#fdca26\"], [1.0, \"#f0f921\"]], \"type\": \"contour\"}], \"contourcarpet\": [{\"colorbar\": {\"outlinewidth\": 0, \"ticks\": \"\"}, \"type\": \"contourcarpet\"}], \"heatmap\": [{\"colorbar\": {\"outlinewidth\": 0, \"ticks\": \"\"}, \"colorscale\": [[0.0, \"#0d0887\"], [0.1111111111111111, \"#46039f\"], [0.2222222222222222, \"#7201a8\"], [0.3333333333333333, \"#9c179e\"], [0.4444444444444444, \"#bd3786\"], [0.5555555555555556, \"#d8576b\"], [0.6666666666666666, \"#ed7953\"], [0.7777777777777778, \"#fb9f3a\"], [0.8888888888888888, \"#fdca26\"], [1.0, \"#f0f921\"]], \"type\": \"heatmap\"}], \"heatmapgl\": [{\"colorbar\": {\"outlinewidth\": 0, \"ticks\": \"\"}, \"colorscale\": [[0.0, \"#0d0887\"], [0.1111111111111111, \"#46039f\"], [0.2222222222222222, \"#7201a8\"], [0.3333333333333333, \"#9c179e\"], [0.4444444444444444, \"#bd3786\"], [0.5555555555555556, \"#d8576b\"], [0.6666666666666666, \"#ed7953\"], [0.7777777777777778, \"#fb9f3a\"], [0.8888888888888888, \"#fdca26\"], [1.0, \"#f0f921\"]], \"type\": \"heatmapgl\"}], \"histogram\": [{\"marker\": {\"colorbar\": {\"outlinewidth\": 0, \"ticks\": \"\"}}, \"type\": \"histogram\"}], \"histogram2d\": [{\"colorbar\": {\"outlinewidth\": 0, \"ticks\": \"\"}, \"colorscale\": [[0.0, \"#0d0887\"], [0.1111111111111111, \"#46039f\"], [0.2222222222222222, \"#7201a8\"], [0.3333333333333333, \"#9c179e\"], [0.4444444444444444, \"#bd3786\"], [0.5555555555555556, \"#d8576b\"], [0.6666666666666666, \"#ed7953\"], [0.7777777777777778, \"#fb9f3a\"], [0.8888888888888888, \"#fdca26\"], [1.0, \"#f0f921\"]], \"type\": \"histogram2d\"}], \"histogram2dcontour\": [{\"colorbar\": {\"outlinewidth\": 0, \"ticks\": \"\"}, \"colorscale\": [[0.0, \"#0d0887\"], [0.1111111111111111, \"#46039f\"], [0.2222222222222222, \"#7201a8\"], [0.3333333333333333, \"#9c179e\"], [0.4444444444444444, \"#bd3786\"], [0.5555555555555556, \"#d8576b\"], [0.6666666666666666, \"#ed7953\"], [0.7777777777777778, \"#fb9f3a\"], [0.8888888888888888, \"#fdca26\"], [1.0, \"#f0f921\"]], \"type\": \"histogram2dcontour\"}], \"mesh3d\": [{\"colorbar\": {\"outlinewidth\": 0, \"ticks\": \"\"}, \"type\": \"mesh3d\"}], \"parcoords\": [{\"line\": {\"colorbar\": {\"outlinewidth\": 0, \"ticks\": \"\"}}, \"type\": \"parcoords\"}], \"pie\": [{\"automargin\": true, \"type\": \"pie\"}], \"scatter\": [{\"marker\": {\"colorbar\": {\"outlinewidth\": 0, \"ticks\": \"\"}}, \"type\": \"scatter\"}], \"scatter3d\": [{\"line\": {\"colorbar\": {\"outlinewidth\": 0, \"ticks\": \"\"}}, \"marker\": {\"colorbar\": {\"outlinewidth\": 0, \"ticks\": \"\"}}, \"type\": \"scatter3d\"}], \"scattercarpet\": [{\"marker\": {\"colorbar\": {\"outlinewidth\": 0, \"ticks\": \"\"}}, \"type\": \"scattercarpet\"}], \"scattergeo\": [{\"marker\": {\"colorbar\": {\"outlinewidth\": 0, \"ticks\": \"\"}}, \"type\": \"scattergeo\"}], \"scattergl\": [{\"marker\": {\"colorbar\": {\"outlinewidth\": 0, \"ticks\": \"\"}}, \"type\": \"scattergl\"}], \"scattermapbox\": [{\"marker\": {\"colorbar\": {\"outlinewidth\": 0, \"ticks\": \"\"}}, \"type\": \"scattermapbox\"}], \"scatterpolar\": [{\"marker\": {\"colorbar\": {\"outlinewidth\": 0, \"ticks\": \"\"}}, \"type\": \"scatterpolar\"}], \"scatterpolargl\": [{\"marker\": {\"colorbar\": {\"outlinewidth\": 0, \"ticks\": \"\"}}, \"type\": \"scatterpolargl\"}], \"scatterternary\": [{\"marker\": {\"colorbar\": {\"outlinewidth\": 0, \"ticks\": \"\"}}, \"type\": \"scatterternary\"}], \"surface\": [{\"colorbar\": {\"outlinewidth\": 0, \"ticks\": \"\"}, \"colorscale\": [[0.0, \"#0d0887\"], [0.1111111111111111, \"#46039f\"], [0.2222222222222222, \"#7201a8\"], [0.3333333333333333, \"#9c179e\"], [0.4444444444444444, \"#bd3786\"], [0.5555555555555556, \"#d8576b\"], [0.6666666666666666, \"#ed7953\"], [0.7777777777777778, \"#fb9f3a\"], [0.8888888888888888, \"#fdca26\"], [1.0, \"#f0f921\"]], \"type\": \"surface\"}], \"table\": [{\"cells\": {\"fill\": {\"color\": \"#EBF0F8\"}, \"line\": {\"color\": \"white\"}}, \"header\": {\"fill\": {\"color\": \"#C8D4E3\"}, \"line\": {\"color\": \"white\"}}, \"type\": \"table\"}]}, \"layout\": {\"annotationdefaults\": {\"arrowcolor\": \"#2a3f5f\", \"arrowhead\": 0, \"arrowwidth\": 1}, \"coloraxis\": {\"colorbar\": {\"outlinewidth\": 0, \"ticks\": \"\"}}, \"colorscale\": {\"diverging\": [[0, \"#8e0152\"], [0.1, \"#c51b7d\"], [0.2, \"#de77ae\"], [0.3, \"#f1b6da\"], [0.4, \"#fde0ef\"], [0.5, \"#f7f7f7\"], [0.6, \"#e6f5d0\"], [0.7, \"#b8e186\"], [0.8, \"#7fbc41\"], [0.9, \"#4d9221\"], [1, \"#276419\"]], \"sequential\": [[0.0, \"#0d0887\"], [0.1111111111111111, \"#46039f\"], [0.2222222222222222, \"#7201a8\"], [0.3333333333333333, \"#9c179e\"], [0.4444444444444444, \"#bd3786\"], [0.5555555555555556, \"#d8576b\"], [0.6666666666666666, \"#ed7953\"], [0.7777777777777778, \"#fb9f3a\"], [0.8888888888888888, \"#fdca26\"], [1.0, \"#f0f921\"]], \"sequentialminus\": [[0.0, \"#0d0887\"], [0.1111111111111111, \"#46039f\"], [0.2222222222222222, \"#7201a8\"], [0.3333333333333333, \"#9c179e\"], [0.4444444444444444, \"#bd3786\"], [0.5555555555555556, \"#d8576b\"], [0.6666666666666666, \"#ed7953\"], [0.7777777777777778, \"#fb9f3a\"], [0.8888888888888888, \"#fdca26\"], [1.0, \"#f0f921\"]]}, \"colorway\": [\"#636efa\", \"#EF553B\", \"#00cc96\", \"#ab63fa\", \"#FFA15A\", \"#19d3f3\", \"#FF6692\", \"#B6E880\", \"#FF97FF\", \"#FECB52\"], \"font\": {\"color\": \"#2a3f5f\"}, \"geo\": {\"bgcolor\": \"white\", \"lakecolor\": \"white\", \"landcolor\": \"#E5ECF6\", \"showlakes\": true, \"showland\": true, \"subunitcolor\": \"white\"}, \"hoverlabel\": {\"align\": \"left\"}, \"hovermode\": \"closest\", \"mapbox\": {\"style\": \"light\"}, \"paper_bgcolor\": \"white\", \"plot_bgcolor\": \"#E5ECF6\", \"polar\": {\"angularaxis\": {\"gridcolor\": \"white\", \"linecolor\": \"white\", \"ticks\": \"\"}, \"bgcolor\": \"#E5ECF6\", \"radialaxis\": {\"gridcolor\": \"white\", \"linecolor\": \"white\", \"ticks\": \"\"}}, \"scene\": {\"xaxis\": {\"backgroundcolor\": \"#E5ECF6\", \"gridcolor\": \"white\", \"gridwidth\": 2, \"linecolor\": \"white\", \"showbackground\": true, \"ticks\": \"\", \"zerolinecolor\": \"white\"}, \"yaxis\": {\"backgroundcolor\": \"#E5ECF6\", \"gridcolor\": \"white\", \"gridwidth\": 2, \"linecolor\": \"white\", \"showbackground\": true, \"ticks\": \"\", \"zerolinecolor\": \"white\"}, \"zaxis\": {\"backgroundcolor\": \"#E5ECF6\", \"gridcolor\": \"white\", \"gridwidth\": 2, \"linecolor\": \"white\", \"showbackground\": true, \"ticks\": \"\", \"zerolinecolor\": \"white\"}}, \"shapedefaults\": {\"line\": {\"color\": \"#2a3f5f\"}}, \"ternary\": {\"aaxis\": {\"gridcolor\": \"white\", \"linecolor\": \"white\", \"ticks\": \"\"}, \"baxis\": {\"gridcolor\": \"white\", \"linecolor\": \"white\", \"ticks\": \"\"}, \"bgcolor\": \"#E5ECF6\", \"caxis\": {\"gridcolor\": \"white\", \"linecolor\": \"white\", \"ticks\": \"\"}}, \"title\": {\"x\": 0.05}, \"xaxis\": {\"automargin\": true, \"gridcolor\": \"white\", \"linecolor\": \"white\", \"ticks\": \"\", \"title\": {\"standoff\": 15}, \"zerolinecolor\": \"white\", \"zerolinewidth\": 2}, \"yaxis\": {\"automargin\": true, \"gridcolor\": \"white\", \"linecolor\": \"white\", \"ticks\": \"\", \"title\": {\"standoff\": 15}, \"zerolinecolor\": \"white\", \"zerolinewidth\": 2}}}},\n",
              "                        {\"responsive\": true}\n",
              "                    ).then(function(){\n",
              "                            \n",
              "var gd = document.getElementById('d7cf2dd0-79dd-4256-afce-4e1267c034bf');\n",
              "var x = new MutationObserver(function (mutations, observer) {{\n",
              "        var display = window.getComputedStyle(gd).display;\n",
              "        if (!display || display === 'none') {{\n",
              "            console.log([gd, 'removed!']);\n",
              "            Plotly.purge(gd);\n",
              "            observer.disconnect();\n",
              "        }}\n",
              "}});\n",
              "\n",
              "// Listen for the removal of the full notebook cells\n",
              "var notebookContainer = gd.closest('#notebook-container');\n",
              "if (notebookContainer) {{\n",
              "    x.observe(notebookContainer, {childList: true});\n",
              "}}\n",
              "\n",
              "// Listen for the clearing of the current output cell\n",
              "var outputEl = gd.closest('.output');\n",
              "if (outputEl) {{\n",
              "    x.observe(outputEl, {childList: true});\n",
              "}}\n",
              "\n",
              "                        })\n",
              "                };\n",
              "                \n",
              "            </script>\n",
              "        </div>\n",
              "</body>\n",
              "</html>"
            ]
          },
          "metadata": {
            "tags": []
          }
        }
      ]
    },
    {
      "cell_type": "markdown",
      "metadata": {
        "colab_type": "text",
        "id": "oV0xZVvYt6HU"
      },
      "source": [
        "As shown the model predict not stable daily cases for the next 10 days.\n"
      ]
    },
    {
      "cell_type": "markdown",
      "metadata": {
        "colab_type": "text",
        "id": "-s_5o94mt9Dq"
      },
      "source": [
        "<div id=\"two3\"><h2>2.3  Predicting the total deaths</h2></div>\n",
        "<h4><a href=\"#content\">reture to content table </a></h4>"
      ]
    },
    {
      "cell_type": "markdown",
      "metadata": {
        "id": "QVnWIxkPERYl",
        "colab_type": "text"
      },
      "source": [
        "<b>grouping by Date as (ds) and Deaths as (y)</b>"
      ]
    },
    {
      "cell_type": "code",
      "metadata": {
        "colab_type": "code",
        "id": "rguJYQdoscvT",
        "colab": {}
      },
      "source": [
        "deaths = df.groupby('Date').sum()['Deaths'].reset_index()\n",
        "deaths.columns = ['ds','y']"
      ],
      "execution_count": 86,
      "outputs": []
    },
    {
      "cell_type": "code",
      "metadata": {
        "colab_type": "code",
        "id": "NzcshzAbsdW9",
        "colab": {
          "base_uri": "https://localhost:8080/",
          "height": 238
        },
        "outputId": "91c5ddfd-ad08-4ba8-b49e-2f188ba2100e"
      },
      "source": [
        "m_2 = Prophet(interval_width=0.95)\n",
        "m_2.fit(deaths)\n",
        "future_2 = m_2.make_future_dataframe(periods=10)\n",
        "future_2.tail()"
      ],
      "execution_count": 87,
      "outputs": [
        {
          "output_type": "stream",
          "text": [
            "INFO:fbprophet:Disabling yearly seasonality. Run prophet with yearly_seasonality=True to override this.\n",
            "INFO:fbprophet:Disabling daily seasonality. Run prophet with daily_seasonality=True to override this.\n"
          ],
          "name": "stderr"
        },
        {
          "output_type": "execute_result",
          "data": {
            "text/html": [
              "<div>\n",
              "<style scoped>\n",
              "    .dataframe tbody tr th:only-of-type {\n",
              "        vertical-align: middle;\n",
              "    }\n",
              "\n",
              "    .dataframe tbody tr th {\n",
              "        vertical-align: top;\n",
              "    }\n",
              "\n",
              "    .dataframe thead th {\n",
              "        text-align: right;\n",
              "    }\n",
              "</style>\n",
              "<table border=\"1\" class=\"dataframe\">\n",
              "  <thead>\n",
              "    <tr style=\"text-align: right;\">\n",
              "      <th></th>\n",
              "      <th>ds</th>\n",
              "    </tr>\n",
              "  </thead>\n",
              "  <tbody>\n",
              "    <tr>\n",
              "      <th>114</th>\n",
              "      <td>2020-06-26</td>\n",
              "    </tr>\n",
              "    <tr>\n",
              "      <th>115</th>\n",
              "      <td>2020-06-27</td>\n",
              "    </tr>\n",
              "    <tr>\n",
              "      <th>116</th>\n",
              "      <td>2020-06-28</td>\n",
              "    </tr>\n",
              "    <tr>\n",
              "      <th>117</th>\n",
              "      <td>2020-06-29</td>\n",
              "    </tr>\n",
              "    <tr>\n",
              "      <th>118</th>\n",
              "      <td>2020-06-30</td>\n",
              "    </tr>\n",
              "  </tbody>\n",
              "</table>\n",
              "</div>"
            ],
            "text/plain": [
              "            ds\n",
              "114 2020-06-26\n",
              "115 2020-06-27\n",
              "116 2020-06-28\n",
              "117 2020-06-29\n",
              "118 2020-06-30"
            ]
          },
          "metadata": {
            "tags": []
          },
          "execution_count": 87
        }
      ]
    },
    {
      "cell_type": "code",
      "metadata": {
        "colab_type": "code",
        "id": "16SOVF29scSC",
        "colab": {
          "base_uri": "https://localhost:8080/",
          "height": 204
        },
        "outputId": "6aa9f1f9-f884-42bc-a30a-888a2669f5d0"
      },
      "source": [
        "forecast_2 = m_2.predict(future_2)\n",
        "forecast_2[['ds', 'yhat', 'yhat_lower', 'yhat_upper']].tail()"
      ],
      "execution_count": 88,
      "outputs": [
        {
          "output_type": "execute_result",
          "data": {
            "text/html": [
              "<div>\n",
              "<style scoped>\n",
              "    .dataframe tbody tr th:only-of-type {\n",
              "        vertical-align: middle;\n",
              "    }\n",
              "\n",
              "    .dataframe tbody tr th {\n",
              "        vertical-align: top;\n",
              "    }\n",
              "\n",
              "    .dataframe thead th {\n",
              "        text-align: right;\n",
              "    }\n",
              "</style>\n",
              "<table border=\"1\" class=\"dataframe\">\n",
              "  <thead>\n",
              "    <tr style=\"text-align: right;\">\n",
              "      <th></th>\n",
              "      <th>ds</th>\n",
              "      <th>yhat</th>\n",
              "      <th>yhat_lower</th>\n",
              "      <th>yhat_upper</th>\n",
              "    </tr>\n",
              "  </thead>\n",
              "  <tbody>\n",
              "    <tr>\n",
              "      <th>114</th>\n",
              "      <td>2020-06-26</td>\n",
              "      <td>218.347032</td>\n",
              "      <td>211.649841</td>\n",
              "      <td>226.500132</td>\n",
              "    </tr>\n",
              "    <tr>\n",
              "      <th>115</th>\n",
              "      <td>2020-06-27</td>\n",
              "      <td>218.542662</td>\n",
              "      <td>210.226354</td>\n",
              "      <td>229.218813</td>\n",
              "    </tr>\n",
              "    <tr>\n",
              "      <th>116</th>\n",
              "      <td>2020-06-28</td>\n",
              "      <td>219.411900</td>\n",
              "      <td>209.514103</td>\n",
              "      <td>232.162354</td>\n",
              "    </tr>\n",
              "    <tr>\n",
              "      <th>117</th>\n",
              "      <td>2020-06-29</td>\n",
              "      <td>220.379723</td>\n",
              "      <td>209.427380</td>\n",
              "      <td>235.586422</td>\n",
              "    </tr>\n",
              "    <tr>\n",
              "      <th>118</th>\n",
              "      <td>2020-06-30</td>\n",
              "      <td>220.720330</td>\n",
              "      <td>207.152019</td>\n",
              "      <td>237.406409</td>\n",
              "    </tr>\n",
              "  </tbody>\n",
              "</table>\n",
              "</div>"
            ],
            "text/plain": [
              "            ds        yhat  yhat_lower  yhat_upper\n",
              "114 2020-06-26  218.347032  211.649841  226.500132\n",
              "115 2020-06-27  218.542662  210.226354  229.218813\n",
              "116 2020-06-28  219.411900  209.514103  232.162354\n",
              "117 2020-06-29  220.379723  209.427380  235.586422\n",
              "118 2020-06-30  220.720330  207.152019  237.406409"
            ]
          },
          "metadata": {
            "tags": []
          },
          "execution_count": 88
        }
      ]
    },
    {
      "cell_type": "code",
      "metadata": {
        "colab_type": "code",
        "id": "FZaUDDp4uMaI",
        "colab": {
          "base_uri": "https://localhost:8080/",
          "height": 542
        },
        "outputId": "dc678903-f378-4439-afb8-a1cad16340ba"
      },
      "source": [
        "\n",
        "fig = go.Figure()\n",
        "fig.add_trace(go.Scatter(x=forecast_2.ds, y = abs(forecast_2['yhat'].round()), mode= 'lines+markers',name='Predicted total deaths'))\n",
        "\n",
        "fig.add_trace(go.Scatter(x=df.index, y = df['Deaths'], mode= 'lines+markers',name='Daily cases'))"
      ],
      "execution_count": 89,
      "outputs": [
        {
          "output_type": "display_data",
          "data": {
            "text/html": [
              "<html>\n",
              "<head><meta charset=\"utf-8\" /></head>\n",
              "<body>\n",
              "    <div>\n",
              "            <script src=\"https://cdnjs.cloudflare.com/ajax/libs/mathjax/2.7.5/MathJax.js?config=TeX-AMS-MML_SVG\"></script><script type=\"text/javascript\">if (window.MathJax) {MathJax.Hub.Config({SVG: {font: \"STIX-Web\"}});}</script>\n",
              "                <script type=\"text/javascript\">window.PlotlyConfig = {MathJaxConfig: 'local'};</script>\n",
              "        <script src=\"https://cdn.plot.ly/plotly-latest.min.js\"></script>    \n",
              "            <div id=\"b9fb9c72-dcaa-4bd7-997d-b8e18e7e11f5\" class=\"plotly-graph-div\" style=\"height:525px; width:100%;\"></div>\n",
              "            <script type=\"text/javascript\">\n",
              "                \n",
              "                    window.PLOTLYENV=window.PLOTLYENV || {};\n",
              "                    \n",
              "                if (document.getElementById(\"b9fb9c72-dcaa-4bd7-997d-b8e18e7e11f5\")) {\n",
              "                    Plotly.newPlot(\n",
              "                        'b9fb9c72-dcaa-4bd7-997d-b8e18e7e11f5',\n",
              "                        [{\"mode\": \"lines+markers\", \"name\": \"Predicted total deaths\", \"type\": \"scatter\", \"x\": [\"2020-03-02T00:00:00\", \"2020-03-03T00:00:00\", \"2020-03-04T00:00:00\", \"2020-03-05T00:00:00\", \"2020-03-06T00:00:00\", \"2020-03-07T00:00:00\", \"2020-03-08T00:00:00\", \"2020-03-09T00:00:00\", \"2020-03-10T00:00:00\", \"2020-03-11T00:00:00\", \"2020-03-12T00:00:00\", \"2020-03-13T00:00:00\", \"2020-03-14T00:00:00\", \"2020-03-15T00:00:00\", \"2020-03-16T00:00:00\", \"2020-03-17T00:00:00\", \"2020-03-18T00:00:00\", \"2020-03-19T00:00:00\", \"2020-03-20T00:00:00\", \"2020-03-21T00:00:00\", \"2020-03-22T00:00:00\", \"2020-03-23T00:00:00\", \"2020-03-24T00:00:00\", \"2020-03-25T00:00:00\", \"2020-03-26T00:00:00\", \"2020-03-27T00:00:00\", \"2020-03-28T00:00:00\", \"2020-03-29T00:00:00\", \"2020-03-30T00:00:00\", \"2020-03-31T00:00:00\", \"2020-04-01T00:00:00\", \"2020-04-02T00:00:00\", \"2020-04-03T00:00:00\", \"2020-04-04T00:00:00\", \"2020-04-05T00:00:00\", \"2020-04-06T00:00:00\", \"2020-04-07T00:00:00\", \"2020-04-08T00:00:00\", \"2020-04-09T00:00:00\", \"2020-04-10T00:00:00\", \"2020-04-11T00:00:00\", \"2020-04-12T00:00:00\", \"2020-04-13T00:00:00\", \"2020-04-16T00:00:00\", \"2020-04-17T00:00:00\", \"2020-04-18T00:00:00\", \"2020-04-19T00:00:00\", \"2020-04-20T00:00:00\", \"2020-04-21T00:00:00\", \"2020-04-22T00:00:00\", \"2020-04-23T00:00:00\", \"2020-04-24T00:00:00\", \"2020-04-25T00:00:00\", \"2020-04-26T00:00:00\", \"2020-04-27T00:00:00\", \"2020-04-28T00:00:00\", \"2020-04-29T00:00:00\", \"2020-04-30T00:00:00\", \"2020-05-01T00:00:00\", \"2020-05-02T00:00:00\", \"2020-05-03T00:00:00\", \"2020-05-04T00:00:00\", \"2020-05-05T00:00:00\", \"2020-05-06T00:00:00\", \"2020-05-07T00:00:00\", \"2020-05-08T00:00:00\", \"2020-05-09T00:00:00\", \"2020-05-10T00:00:00\", \"2020-05-11T00:00:00\", \"2020-05-12T00:00:00\", \"2020-05-13T00:00:00\", \"2020-05-14T00:00:00\", \"2020-05-15T00:00:00\", \"2020-05-16T00:00:00\", \"2020-05-17T00:00:00\", \"2020-05-18T00:00:00\", \"2020-05-19T00:00:00\", \"2020-05-20T00:00:00\", \"2020-05-21T00:00:00\", \"2020-05-22T00:00:00\", \"2020-05-23T00:00:00\", \"2020-05-24T00:00:00\", \"2020-05-25T00:00:00\", \"2020-05-26T00:00:00\", \"2020-05-27T00:00:00\", \"2020-05-28T00:00:00\", \"2020-05-29T00:00:00\", \"2020-05-30T00:00:00\", \"2020-05-31T00:00:00\", \"2020-06-01T00:00:00\", \"2020-06-02T00:00:00\", \"2020-06-03T00:00:00\", \"2020-06-04T00:00:00\", \"2020-06-05T00:00:00\", \"2020-06-06T00:00:00\", \"2020-06-07T00:00:00\", \"2020-06-08T00:00:00\", \"2020-06-09T00:00:00\", \"2020-06-10T00:00:00\", \"2020-06-11T00:00:00\", \"2020-06-12T00:00:00\", \"2020-06-13T00:00:00\", \"2020-06-14T00:00:00\", \"2020-06-15T00:00:00\", \"2020-06-16T00:00:00\", \"2020-06-17T00:00:00\", \"2020-06-18T00:00:00\", \"2020-06-19T00:00:00\", \"2020-06-20T00:00:00\", \"2020-06-21T00:00:00\", \"2020-06-22T00:00:00\", \"2020-06-23T00:00:00\", \"2020-06-24T00:00:00\", \"2020-06-25T00:00:00\", \"2020-06-26T00:00:00\", \"2020-06-27T00:00:00\", \"2020-06-28T00:00:00\", \"2020-06-29T00:00:00\", \"2020-06-30T00:00:00\"], \"y\": [0.0, 0.0, 1.0, 1.0, 0.0, 0.0, 0.0, 1.0, 0.0, 0.0, 0.0, 0.0, 0.0, 1.0, 1.0, 1.0, 0.0, 1.0, 2.0, 2.0, 3.0, 4.0, 7.0, 9.0, 12.0, 17.0, 21.0, 26.0, 32.0, 37.0, 42.0, 48.0, 55.0, 62.0, 70.0, 77.0, 84.0, 91.0, 98.0, 105.0, 111.0, 118.0, 122.0, 131.0, 135.0, 138.0, 141.0, 144.0, 147.0, 149.0, 152.0, 156.0, 158.0, 161.0, 164.0, 166.0, 167.0, 169.0, 172.0, 174.0, 176.0, 179.0, 181.0, 181.0, 183.0, 185.0, 185.0, 186.0, 188.0, 189.0, 189.0, 190.0, 191.0, 191.0, 193.0, 194.0, 195.0, 195.0, 196.0, 197.0, 198.0, 199.0, 200.0, 201.0, 201.0, 202.0, 203.0, 203.0, 204.0, 205.0, 206.0, 206.0, 206.0, 207.0, 207.0, 208.0, 209.0, 209.0, 209.0, 210.0, 211.0, 211.0, 212.0, 213.0, 213.0, 213.0, 214.0, 215.0, 215.0, 216.0, 217.0, 217.0, 217.0, 217.0, 218.0, 219.0, 219.0, 220.0, 221.0]}, {\"mode\": \"lines+markers\", \"name\": \"Daily cases\", \"type\": \"scatter\", \"x\": [\"2020-03-02T00:00:00\", \"2020-03-03T00:00:00\", \"2020-03-04T00:00:00\", \"2020-03-05T00:00:00\", \"2020-03-06T00:00:00\", \"2020-03-07T00:00:00\", \"2020-03-08T00:00:00\", \"2020-03-09T00:00:00\", \"2020-03-10T00:00:00\", \"2020-03-11T00:00:00\", \"2020-03-12T00:00:00\", \"2020-03-13T00:00:00\", \"2020-03-14T00:00:00\", \"2020-03-15T00:00:00\", \"2020-03-16T00:00:00\", \"2020-03-17T00:00:00\", \"2020-03-18T00:00:00\", \"2020-03-19T00:00:00\", \"2020-03-20T00:00:00\", \"2020-03-21T00:00:00\", \"2020-03-22T00:00:00\", \"2020-03-23T00:00:00\", \"2020-03-24T00:00:00\", \"2020-03-25T00:00:00\", \"2020-03-26T00:00:00\", \"2020-03-27T00:00:00\", \"2020-03-28T00:00:00\", \"2020-03-29T00:00:00\", \"2020-03-30T00:00:00\", \"2020-03-31T00:00:00\", \"2020-04-01T00:00:00\", \"2020-04-02T00:00:00\", \"2020-04-03T00:00:00\", \"2020-04-04T00:00:00\", \"2020-04-05T00:00:00\", \"2020-04-06T00:00:00\", \"2020-04-07T00:00:00\", \"2020-04-08T00:00:00\", \"2020-04-09T00:00:00\", \"2020-04-10T00:00:00\", \"2020-04-11T00:00:00\", \"2020-04-12T00:00:00\", \"2020-04-13T00:00:00\", \"2020-04-16T00:00:00\", \"2020-04-17T00:00:00\", \"2020-04-18T00:00:00\", \"2020-04-19T00:00:00\", \"2020-04-20T00:00:00\", \"2020-04-21T00:00:00\", \"2020-04-22T00:00:00\", \"2020-04-23T00:00:00\", \"2020-04-24T00:00:00\", \"2020-04-25T00:00:00\", \"2020-04-26T00:00:00\", \"2020-04-27T00:00:00\", \"2020-04-28T00:00:00\", \"2020-04-29T00:00:00\", \"2020-04-30T00:00:00\", \"2020-05-01T00:00:00\", \"2020-05-02T00:00:00\", \"2020-05-03T00:00:00\", \"2020-05-04T00:00:00\", \"2020-05-05T00:00:00\", \"2020-05-06T00:00:00\", \"2020-05-07T00:00:00\", \"2020-05-08T00:00:00\", \"2020-05-09T00:00:00\", \"2020-05-10T00:00:00\", \"2020-05-11T00:00:00\", \"2020-05-12T00:00:00\", \"2020-05-13T00:00:00\", \"2020-05-14T00:00:00\", \"2020-05-15T00:00:00\", \"2020-05-16T00:00:00\", \"2020-05-17T00:00:00\", \"2020-05-18T00:00:00\", \"2020-05-19T00:00:00\", \"2020-05-20T00:00:00\", \"2020-05-21T00:00:00\", \"2020-05-22T00:00:00\", \"2020-05-23T00:00:00\", \"2020-05-24T00:00:00\", \"2020-05-25T00:00:00\", \"2020-05-26T00:00:00\", \"2020-05-27T00:00:00\", \"2020-05-28T00:00:00\", \"2020-05-29T00:00:00\", \"2020-05-30T00:00:00\", \"2020-05-31T00:00:00\", \"2020-06-01T00:00:00\", \"2020-06-02T00:00:00\", \"2020-06-03T00:00:00\", \"2020-06-04T00:00:00\", \"2020-06-05T00:00:00\", \"2020-06-06T00:00:00\", \"2020-06-07T00:00:00\", \"2020-06-08T00:00:00\", \"2020-06-09T00:00:00\", \"2020-06-10T00:00:00\", \"2020-06-11T00:00:00\", \"2020-06-12T00:00:00\", \"2020-06-13T00:00:00\", \"2020-06-14T00:00:00\", \"2020-06-15T00:00:00\", \"2020-06-16T00:00:00\", \"2020-06-17T00:00:00\", \"2020-06-18T00:00:00\", \"2020-06-19T00:00:00\", \"2020-06-20T00:00:00\"], \"y\": [0.0, 0.0, 0.0, 0.0, 0.0, 0.0, 1.0, 0.0, 0.0, 0.0, 0.0, 0.0, 0.0, 0.0, 0.0, 2.0, 0.0, 2.0, 0.0, 0.0, 4.0, 4.0, 5.0, 6.0, 10.0, 23.0, 25.0, 26.0, 33.0, 36.0, 39.0, 44.0, 48.0, 59.0, 70.0, 80.0, 90.0, 93.0, 97.0, 107.0, 111.0, 118.0, 126.0, 130.0, 135.0, 137.0, 141.0, 143.0, 145.0, 149.0, 155.0, 158.0, 159.0, 161.0, 162.0, 165.0, 168.0, 170.0, 171.0, 173.0, 174.0, 179.0, 181.0, 183.0, 183.0, 186.0, 186.0, 188.0, 188.0, 188.0, 188.0, 190.0, 190.0, 192.0, 192.0, 192.0, 193.0, 194.0, 196.0, 197.0, 198.0, 198.0, 200.0, 202.0, 202.0, 202.0, 202.0, 204.0, 205.0, 205.0, 206.0, 206.0, 208.0, 208.0, 208.0, 208.0, 208.0, 210.0, 211.0, 211.0, 212.0, 212.0, 212.0, 212.0, 212.0, 213.0, 213.0, 213.0, 213.0]}],\n",
              "                        {\"template\": {\"data\": {\"bar\": [{\"error_x\": {\"color\": \"#2a3f5f\"}, \"error_y\": {\"color\": \"#2a3f5f\"}, \"marker\": {\"line\": {\"color\": \"#E5ECF6\", \"width\": 0.5}}, \"type\": \"bar\"}], \"barpolar\": [{\"marker\": {\"line\": {\"color\": \"#E5ECF6\", \"width\": 0.5}}, \"type\": \"barpolar\"}], \"carpet\": [{\"aaxis\": {\"endlinecolor\": \"#2a3f5f\", \"gridcolor\": \"white\", \"linecolor\": \"white\", \"minorgridcolor\": \"white\", \"startlinecolor\": \"#2a3f5f\"}, \"baxis\": {\"endlinecolor\": \"#2a3f5f\", \"gridcolor\": \"white\", \"linecolor\": \"white\", \"minorgridcolor\": \"white\", \"startlinecolor\": \"#2a3f5f\"}, \"type\": \"carpet\"}], \"choropleth\": [{\"colorbar\": {\"outlinewidth\": 0, \"ticks\": \"\"}, \"type\": \"choropleth\"}], \"contour\": [{\"colorbar\": {\"outlinewidth\": 0, \"ticks\": \"\"}, \"colorscale\": [[0.0, \"#0d0887\"], [0.1111111111111111, \"#46039f\"], [0.2222222222222222, \"#7201a8\"], [0.3333333333333333, \"#9c179e\"], [0.4444444444444444, \"#bd3786\"], [0.5555555555555556, \"#d8576b\"], [0.6666666666666666, \"#ed7953\"], [0.7777777777777778, \"#fb9f3a\"], [0.8888888888888888, \"#fdca26\"], [1.0, \"#f0f921\"]], \"type\": \"contour\"}], \"contourcarpet\": [{\"colorbar\": {\"outlinewidth\": 0, \"ticks\": \"\"}, \"type\": \"contourcarpet\"}], \"heatmap\": [{\"colorbar\": {\"outlinewidth\": 0, \"ticks\": \"\"}, \"colorscale\": [[0.0, \"#0d0887\"], [0.1111111111111111, \"#46039f\"], [0.2222222222222222, \"#7201a8\"], [0.3333333333333333, \"#9c179e\"], [0.4444444444444444, \"#bd3786\"], [0.5555555555555556, \"#d8576b\"], [0.6666666666666666, \"#ed7953\"], [0.7777777777777778, \"#fb9f3a\"], [0.8888888888888888, \"#fdca26\"], [1.0, \"#f0f921\"]], \"type\": \"heatmap\"}], \"heatmapgl\": [{\"colorbar\": {\"outlinewidth\": 0, \"ticks\": \"\"}, \"colorscale\": [[0.0, \"#0d0887\"], [0.1111111111111111, \"#46039f\"], [0.2222222222222222, \"#7201a8\"], [0.3333333333333333, \"#9c179e\"], [0.4444444444444444, \"#bd3786\"], [0.5555555555555556, \"#d8576b\"], [0.6666666666666666, \"#ed7953\"], [0.7777777777777778, \"#fb9f3a\"], [0.8888888888888888, \"#fdca26\"], [1.0, \"#f0f921\"]], \"type\": \"heatmapgl\"}], \"histogram\": [{\"marker\": {\"colorbar\": {\"outlinewidth\": 0, \"ticks\": \"\"}}, \"type\": \"histogram\"}], \"histogram2d\": [{\"colorbar\": {\"outlinewidth\": 0, \"ticks\": \"\"}, \"colorscale\": [[0.0, \"#0d0887\"], [0.1111111111111111, \"#46039f\"], [0.2222222222222222, \"#7201a8\"], [0.3333333333333333, \"#9c179e\"], [0.4444444444444444, \"#bd3786\"], [0.5555555555555556, \"#d8576b\"], [0.6666666666666666, \"#ed7953\"], [0.7777777777777778, \"#fb9f3a\"], [0.8888888888888888, \"#fdca26\"], [1.0, \"#f0f921\"]], \"type\": \"histogram2d\"}], \"histogram2dcontour\": [{\"colorbar\": {\"outlinewidth\": 0, \"ticks\": \"\"}, \"colorscale\": [[0.0, \"#0d0887\"], [0.1111111111111111, \"#46039f\"], [0.2222222222222222, \"#7201a8\"], [0.3333333333333333, \"#9c179e\"], [0.4444444444444444, \"#bd3786\"], [0.5555555555555556, \"#d8576b\"], [0.6666666666666666, \"#ed7953\"], [0.7777777777777778, \"#fb9f3a\"], [0.8888888888888888, \"#fdca26\"], [1.0, \"#f0f921\"]], \"type\": \"histogram2dcontour\"}], \"mesh3d\": [{\"colorbar\": {\"outlinewidth\": 0, \"ticks\": \"\"}, \"type\": \"mesh3d\"}], \"parcoords\": [{\"line\": {\"colorbar\": {\"outlinewidth\": 0, \"ticks\": \"\"}}, \"type\": \"parcoords\"}], \"pie\": [{\"automargin\": true, \"type\": \"pie\"}], \"scatter\": [{\"marker\": {\"colorbar\": {\"outlinewidth\": 0, \"ticks\": \"\"}}, \"type\": \"scatter\"}], \"scatter3d\": [{\"line\": {\"colorbar\": {\"outlinewidth\": 0, \"ticks\": \"\"}}, \"marker\": {\"colorbar\": {\"outlinewidth\": 0, \"ticks\": \"\"}}, \"type\": \"scatter3d\"}], \"scattercarpet\": [{\"marker\": {\"colorbar\": {\"outlinewidth\": 0, \"ticks\": \"\"}}, \"type\": \"scattercarpet\"}], \"scattergeo\": [{\"marker\": {\"colorbar\": {\"outlinewidth\": 0, \"ticks\": \"\"}}, \"type\": \"scattergeo\"}], \"scattergl\": [{\"marker\": {\"colorbar\": {\"outlinewidth\": 0, \"ticks\": \"\"}}, \"type\": \"scattergl\"}], \"scattermapbox\": [{\"marker\": {\"colorbar\": {\"outlinewidth\": 0, \"ticks\": \"\"}}, \"type\": \"scattermapbox\"}], \"scatterpolar\": [{\"marker\": {\"colorbar\": {\"outlinewidth\": 0, \"ticks\": \"\"}}, \"type\": \"scatterpolar\"}], \"scatterpolargl\": [{\"marker\": {\"colorbar\": {\"outlinewidth\": 0, \"ticks\": \"\"}}, \"type\": \"scatterpolargl\"}], \"scatterternary\": [{\"marker\": {\"colorbar\": {\"outlinewidth\": 0, \"ticks\": \"\"}}, \"type\": \"scatterternary\"}], \"surface\": [{\"colorbar\": {\"outlinewidth\": 0, \"ticks\": \"\"}, \"colorscale\": [[0.0, \"#0d0887\"], [0.1111111111111111, \"#46039f\"], [0.2222222222222222, \"#7201a8\"], [0.3333333333333333, \"#9c179e\"], [0.4444444444444444, \"#bd3786\"], [0.5555555555555556, \"#d8576b\"], [0.6666666666666666, \"#ed7953\"], [0.7777777777777778, \"#fb9f3a\"], [0.8888888888888888, \"#fdca26\"], [1.0, \"#f0f921\"]], \"type\": \"surface\"}], \"table\": [{\"cells\": {\"fill\": {\"color\": \"#EBF0F8\"}, \"line\": {\"color\": \"white\"}}, \"header\": {\"fill\": {\"color\": \"#C8D4E3\"}, \"line\": {\"color\": \"white\"}}, \"type\": \"table\"}]}, \"layout\": {\"annotationdefaults\": {\"arrowcolor\": \"#2a3f5f\", \"arrowhead\": 0, \"arrowwidth\": 1}, \"coloraxis\": {\"colorbar\": {\"outlinewidth\": 0, \"ticks\": \"\"}}, \"colorscale\": {\"diverging\": [[0, \"#8e0152\"], [0.1, \"#c51b7d\"], [0.2, \"#de77ae\"], [0.3, \"#f1b6da\"], [0.4, \"#fde0ef\"], [0.5, \"#f7f7f7\"], [0.6, \"#e6f5d0\"], [0.7, \"#b8e186\"], [0.8, \"#7fbc41\"], [0.9, \"#4d9221\"], [1, \"#276419\"]], \"sequential\": [[0.0, \"#0d0887\"], [0.1111111111111111, \"#46039f\"], [0.2222222222222222, \"#7201a8\"], [0.3333333333333333, \"#9c179e\"], [0.4444444444444444, \"#bd3786\"], [0.5555555555555556, \"#d8576b\"], [0.6666666666666666, \"#ed7953\"], [0.7777777777777778, \"#fb9f3a\"], [0.8888888888888888, \"#fdca26\"], [1.0, \"#f0f921\"]], \"sequentialminus\": [[0.0, \"#0d0887\"], [0.1111111111111111, \"#46039f\"], [0.2222222222222222, \"#7201a8\"], [0.3333333333333333, \"#9c179e\"], [0.4444444444444444, \"#bd3786\"], [0.5555555555555556, \"#d8576b\"], [0.6666666666666666, \"#ed7953\"], [0.7777777777777778, \"#fb9f3a\"], [0.8888888888888888, \"#fdca26\"], [1.0, \"#f0f921\"]]}, \"colorway\": [\"#636efa\", \"#EF553B\", \"#00cc96\", \"#ab63fa\", \"#FFA15A\", \"#19d3f3\", \"#FF6692\", \"#B6E880\", \"#FF97FF\", \"#FECB52\"], \"font\": {\"color\": \"#2a3f5f\"}, \"geo\": {\"bgcolor\": \"white\", \"lakecolor\": \"white\", \"landcolor\": \"#E5ECF6\", \"showlakes\": true, \"showland\": true, \"subunitcolor\": \"white\"}, \"hoverlabel\": {\"align\": \"left\"}, \"hovermode\": \"closest\", \"mapbox\": {\"style\": \"light\"}, \"paper_bgcolor\": \"white\", \"plot_bgcolor\": \"#E5ECF6\", \"polar\": {\"angularaxis\": {\"gridcolor\": \"white\", \"linecolor\": \"white\", \"ticks\": \"\"}, \"bgcolor\": \"#E5ECF6\", \"radialaxis\": {\"gridcolor\": \"white\", \"linecolor\": \"white\", \"ticks\": \"\"}}, \"scene\": {\"xaxis\": {\"backgroundcolor\": \"#E5ECF6\", \"gridcolor\": \"white\", \"gridwidth\": 2, \"linecolor\": \"white\", \"showbackground\": true, \"ticks\": \"\", \"zerolinecolor\": \"white\"}, \"yaxis\": {\"backgroundcolor\": \"#E5ECF6\", \"gridcolor\": \"white\", \"gridwidth\": 2, \"linecolor\": \"white\", \"showbackground\": true, \"ticks\": \"\", \"zerolinecolor\": \"white\"}, \"zaxis\": {\"backgroundcolor\": \"#E5ECF6\", \"gridcolor\": \"white\", \"gridwidth\": 2, \"linecolor\": \"white\", \"showbackground\": true, \"ticks\": \"\", \"zerolinecolor\": \"white\"}}, \"shapedefaults\": {\"line\": {\"color\": \"#2a3f5f\"}}, \"ternary\": {\"aaxis\": {\"gridcolor\": \"white\", \"linecolor\": \"white\", \"ticks\": \"\"}, \"baxis\": {\"gridcolor\": \"white\", \"linecolor\": \"white\", \"ticks\": \"\"}, \"bgcolor\": \"#E5ECF6\", \"caxis\": {\"gridcolor\": \"white\", \"linecolor\": \"white\", \"ticks\": \"\"}}, \"title\": {\"x\": 0.05}, \"xaxis\": {\"automargin\": true, \"gridcolor\": \"white\", \"linecolor\": \"white\", \"ticks\": \"\", \"title\": {\"standoff\": 15}, \"zerolinecolor\": \"white\", \"zerolinewidth\": 2}, \"yaxis\": {\"automargin\": true, \"gridcolor\": \"white\", \"linecolor\": \"white\", \"ticks\": \"\", \"title\": {\"standoff\": 15}, \"zerolinecolor\": \"white\", \"zerolinewidth\": 2}}}},\n",
              "                        {\"responsive\": true}\n",
              "                    ).then(function(){\n",
              "                            \n",
              "var gd = document.getElementById('b9fb9c72-dcaa-4bd7-997d-b8e18e7e11f5');\n",
              "var x = new MutationObserver(function (mutations, observer) {{\n",
              "        var display = window.getComputedStyle(gd).display;\n",
              "        if (!display || display === 'none') {{\n",
              "            console.log([gd, 'removed!']);\n",
              "            Plotly.purge(gd);\n",
              "            observer.disconnect();\n",
              "        }}\n",
              "}});\n",
              "\n",
              "// Listen for the removal of the full notebook cells\n",
              "var notebookContainer = gd.closest('#notebook-container');\n",
              "if (notebookContainer) {{\n",
              "    x.observe(notebookContainer, {childList: true});\n",
              "}}\n",
              "\n",
              "// Listen for the clearing of the current output cell\n",
              "var outputEl = gd.closest('.output');\n",
              "if (outputEl) {{\n",
              "    x.observe(outputEl, {childList: true});\n",
              "}}\n",
              "\n",
              "                        })\n",
              "                };\n",
              "                \n",
              "            </script>\n",
              "        </div>\n",
              "</body>\n",
              "</html>"
            ]
          },
          "metadata": {
            "tags": []
          }
        }
      ]
    },
    {
      "cell_type": "markdown",
      "metadata": {
        "id": "QFG5hEkfEvcL",
        "colab_type": "text"
      },
      "source": [
        "<div id=\"clc\"><h1>3. Conclusion</h1></div>\n",
        "<h4><a href=\"#content\">reture to content table </a></h4>"
      ]
    },
    {
      "cell_type": "markdown",
      "metadata": {
        "id": "73KB24g-ERZB",
        "colab_type": "text"
      },
      "source": [
        "<b>In this project we saw the power of machine learning and how it impact of our life, in such problems the machine learning can save many lives, but as many sciences that use probability and statistics it may be wrong or doesn't give the exact numbers but the most imortant that machine learning give us an accurate vue of the futur  </b>"
      ]
    }
  ]
}